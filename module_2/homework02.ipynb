{
 "cells": [
  {
   "cell_type": "markdown",
   "id": "96b2fc44",
   "metadata": {},
   "source": [
    "# Homework02 - Rui Pinto"
   ]
  },
  {
   "cell_type": "code",
   "execution_count": 19,
   "id": "5a2a3f71",
   "metadata": {},
   "outputs": [],
   "source": [
    "import numpy as np\n",
    "import pandas as pd\n",
    "import seaborn as sns\n",
    "import matplotlib.pyplot as plt\n",
    "import mlflow"
   ]
  },
  {
   "cell_type": "markdown",
   "id": "46d660b5",
   "metadata": {},
   "source": [
    "# Q1. Install MLflow\n",
    "- To get started with MLflow you'll need to install the MLflow Python package.\n",
    "- For this we recommend creating a separate Python environment, for example, you can use conda environments, and then install the package there with pip or conda.\n",
    "\n",
    "- Once you installed the package, run the command mlflow --version and check the output.\n",
    "\n",
    "- What's the version that you have?"
   ]
  },
  {
   "cell_type": "code",
   "execution_count": 20,
   "id": "2faaa269",
   "metadata": {},
   "outputs": [
    {
     "name": "stdout",
     "output_type": "stream",
     "text": [
      "MLflow version: 1.27.0\n"
     ]
    }
   ],
   "source": [
    "# chekc mlflow version\n",
    "try:\n",
    "    mlflow_version = mlflow.__version__\n",
    "    print(f\"MLflow version: {mlflow_version}\")\n",
    "except ImportError:\n",
    "    mlflow_version = None\n",
    "    print(\"MLflow is not installed.\")"
   ]
  },
  {
   "cell_type": "markdown",
   "id": "aa9a39e1",
   "metadata": {},
   "source": [
    "# Q2. Download and preprocess the data\n",
    "\n",
    "- We'll use the Green Taxi Trip Records dataset to predict the duration of each trip.\n",
    "- Download the data for January, February and March 2023 in parquet format from here.\n",
    "\n",
    "- Use the script preprocess_data.py located in the folder homework to preprocess the data.\n",
    "\n",
    "The script will:\n",
    "\n",
    "- load the data from the folder <TAXI_DATA_FOLDER> (the folder where you have downloaded the data),\n",
    "- fit a DictVectorizer on the training set (January 2023 data),\n",
    "- save the preprocessed datasets and the DictVectorizer to disk.\n",
    "\n",
    "Your task is to download the datasets and then execute this command:\n",
    "\n",
    "```bash\n",
    "    python preprocess_data.py --raw_data_path <TAXI_DATA_FOLDER> --dest_path ./output\n",
    "```\n",
    "\n",
    "Tip: go to 02-experiment-tracking/homework/ folder before executing the command and change the value of <TAXI_DATA_FOLDER> to the location where you saved the data.\n",
    "\n",
    "How many files were saved to OUTPUT_FOLDER?\n",
    "\n",
    "- 1\n",
    "- 3\n",
    "- 4 ✅\n",
    "- 7"
   ]
  },
  {
   "cell_type": "code",
   "execution_count": 21,
   "id": "a54fac34",
   "metadata": {},
   "outputs": [],
   "source": [
    "# Download the data for January and February 2023.\n",
    "\n",
    "# !curl https://d37ci6vzurychx.cloudfront.net/trip-data/green_tripdata_2023-01.parquet > data/green_tripdata_2023-01.parquet\n",
    "# !curl https://d37ci6vzurychx.cloudfront.net/trip-data/green_tripdata_2023-02.parquet > data/green_tripdata_2023-02.parquet\n",
    "# !curl https://d37ci6vzurychx.cloudfront.net/trip-data/green_tripdata_2023-03.parquet > data/green_tripdata_2023-03.parquet"
   ]
  },
  {
   "cell_type": "code",
   "execution_count": 22,
   "id": "44a6fb7e",
   "metadata": {},
   "outputs": [],
   "source": [
    "import os\n",
    "\n",
    "# Make sure the output directory exists\n",
    "!mkdir -p ./output\n",
    "\n",
    "# Run the preprocessing script with arguments\n",
    "!python preprocess_data.py --raw_data_path 'data' --dest_path ./output\n"
   ]
  },
  {
   "cell_type": "code",
   "execution_count": 23,
   "id": "1cbec940",
   "metadata": {},
   "outputs": [
    {
     "name": "stdout",
     "output_type": "stream",
     "text": [
      "Number of files in output directory: 4\n"
     ]
    }
   ],
   "source": [
    "# how many files were save in the out ? \n",
    "output_files = os.listdir('./output')\n",
    "print(f\"Number of files in output directory: {len(output_files)}\")"
   ]
  },
  {
   "cell_type": "markdown",
   "id": "e9c3d63e",
   "metadata": {},
   "source": [
    "# Q3. Train a model with autolog\n",
    "We will train a RandomForestRegressor (from Scikit-Learn) on the taxi dataset.\n",
    "\n",
    "We have prepared the training script train.py for this exercise, which can be also found in the folder homework.\n",
    "\n",
    "The script will:\n",
    "\n",
    "- load the datasets produced by the previous step,\n",
    "- train the model on the training set,\n",
    "- calculate the RMSE score on the validation set.\n",
    "\n",
    "Your task is to modify the script to enable autologging with MLflow, execute the script and then launch the MLflow UI to check that the experiment run was properly tracked.\n",
    "\n",
    "**Tip 1**: don't forget to wrap the training code with a with mlflow.start_run(): statement as we showed in the videos.\n",
    "\n",
    "**Tip 2**: don't modify the hyperparameters of the model to make sure that the training will finish quickly.\n",
    "\n",
    "What is the value of the min_samples_split parameter:\n",
    "\n",
    "- 2 ✅\n",
    "- 4\n",
    "- 8\n",
    "- 10"
   ]
  },
  {
   "cell_type": "code",
   "execution_count": 27,
   "id": "25beb8aa",
   "metadata": {},
   "outputs": [
    {
     "name": "stdout",
     "output_type": "stream",
     "text": [
      "RMSE: 5.431162180141208\n",
      "\n",
      "Parameters:\n",
      "  min_samples_split: 2\n",
      "  max_depth: 10\n",
      "  n_estimators: 100\n"
     ]
    }
   ],
   "source": [
    "# Run the training script with experiment name specified\n",
    "!python train.py --data_path=./output --experiment_name=\"nyc-taxi-experiment-homework\""
   ]
  },
  {
   "cell_type": "code",
   "execution_count": 28,
   "id": "33b23e52",
   "metadata": {},
   "outputs": [
    {
     "name": "stdout",
     "output_type": "stream",
     "text": [
      "[2025-05-25 22:33:00 +0100] [32399] [INFO] Starting gunicorn 23.0.0\n",
      "[2025-05-25 22:33:00 +0100] [32399] [INFO] Listening at: http://127.0.0.1:5001 (32399)\n",
      "[2025-05-25 22:33:00 +0100] [32399] [INFO] Using worker: sync\n",
      "[2025-05-25 22:33:00 +0100] [32400] [INFO] Booting worker with pid: 32400\n",
      "[2025-05-25 22:33:28 +0100] [32399] [INFO] Handling signal: int\n",
      "^C\n",
      "\n",
      "Aborted!\n",
      "[2025-05-25 22:33:28 +0100] [32400] [INFO] Worker exiting (pid: 32400)\n"
     ]
    }
   ],
   "source": [
    "# Launch the MLflow UI in the background\n",
    "!mlflow ui --port 5001"
   ]
  },
  {
   "cell_type": "markdown",
   "id": "ba49525b",
   "metadata": {},
   "source": [
    "# Q4. Launch the tracking server locally\n",
    "Now we want to manage the entire lifecycle of our ML model. In this step, you'll need to launch a tracking server. This way we will also have access to the model registry.\n",
    "\n",
    "Your task is to:\n",
    "\n",
    "- launch the tracking server on your local machine,\n",
    "- select a SQLite db for the backend store and a folder called artifacts for the artifacts store.\n",
    "\n",
    "You should keep the tracking server running to work on the next two exercises that use the server.\n",
    "\n",
    "In addition to backend-store-uri, what else do you need to pass to properly configure the server?\n",
    "\n",
    "- default-artifact-root ✅\n",
    "- serve-artifacts\n",
    "- artifacts-only\n",
    "- artifacts-destination"
   ]
  },
  {
   "cell_type": "code",
   "execution_count": 35,
   "id": "7a9de170",
   "metadata": {},
   "outputs": [
    {
     "name": "stdout",
     "output_type": "stream",
     "text": [
      "[2025-05-25 22:48:48 +0100] [35218] [INFO] Starting gunicorn 23.0.0\n",
      "[2025-05-25 22:48:48 +0100] [35218] [INFO] Listening at: http://0.0.0.0:5000 (35218)\n",
      "[2025-05-25 22:48:48 +0100] [35218] [INFO] Using worker: sync\n",
      "[2025-05-25 22:48:48 +0100] [35219] [INFO] Booting worker with pid: 35219\n",
      "[2025-05-25 22:48:48 +0100] [35220] [INFO] Booting worker with pid: 35220\n",
      "[2025-05-25 22:48:48 +0100] [35221] [INFO] Booting worker with pid: 35221\n",
      "[2025-05-25 22:48:48 +0100] [35222] [INFO] Booting worker with pid: 35222\n",
      "[2025-05-25 22:50:36 +0100] [35218] [INFO] Handling signal: int\n",
      "^C\n",
      "\n",
      "Aborted!\n",
      "[2025-05-25 22:50:36 +0100] [35220] [INFO] Worker exiting (pid: 35220)\n",
      "[2025-05-25 22:50:36 +0100] [35221] [INFO] Worker exiting (pid: 35221)\n",
      "[2025-05-25 22:50:36 +0100] [35222] [INFO] Worker exiting (pid: 35222)\n",
      "[2025-05-25 22:50:36 +0100] [35219] [INFO] Worker exiting (pid: 35219)\n"
     ]
    }
   ],
   "source": [
    "# MLflow tracking server with SQLite backend and artifacts folder\n",
    "!mlflow server \\\n",
    "  --backend-store-uri sqlite:///mlflow.db \\\n",
    "  --default-artifact-root ./artifacts \\\n",
    "  --host 0.0.0.0 \\\n",
    "  --port 5000"
   ]
  },
  {
   "cell_type": "markdown",
   "id": "dfbae551",
   "metadata": {},
   "source": [
    "# Q5. Tune model hyperparameters\n",
    "\n",
    "Now let's try to reduce the validation error by tuning the hyperparameters of the RandomForestRegressor using hyperopt. We have prepared the script hpo.py for this exercise.\n",
    "\n",
    "Your task is to modify the script `hpo.py` and make sure that the validation RMSE is logged to the tracking server for each run of the hyperparameter optimization (you will need to add a few lines of code to the objective function) and run the script without passing any parameters.\n",
    "\n",
    "After that, open UI and explore the runs from the experiment called random-forest-hyperopt to answer the question below.\n",
    "\n",
    "Note: Don't use autologging for this exercise.\n",
    "\n",
    "The idea is to just log the information that you need to answer the question below, including:\n",
    "- the list of hyperparameters that are passed to the objective function during the optimization,\n",
    "- the RMSE obtained on the validation set (February 2023 data).\n",
    "\n",
    "What's the best validation RMSE that you got?\n",
    "\n",
    "- 4.817\n",
    "- 5.335 ✅\n",
    "- 5.818\n",
    "- 6.336"
   ]
  },
  {
   "cell_type": "code",
   "execution_count": 36,
   "id": "d41284e6",
   "metadata": {},
   "outputs": [
    {
     "name": "stdout",
     "output_type": "stream",
     "text": [
      "2025/05/25 22:50:56 INFO mlflow.tracking.fluent: Experiment with name 'random-forest-hyperopt' does not exist. Creating a new experiment.\n",
      "🏃 View run able-penguin-967 at: http://127.0.0.1:5000/#/experiments/1/runs/0f6911ff57384111b6c4bc6b9711d3cf\n",
      "\n",
      "🧪 View experiment at: http://127.0.0.1:5000/#/experiments/1                    \n",
      "\n",
      "🏃 View run chill-rat-915 at: http://127.0.0.1:5000/#/experiments/1/runs/b81a76730b6e4e43923c0409044640e5\n",
      "\n",
      "🧪 View experiment at: http://127.0.0.1:5000/#/experiments/1                    \n",
      "\n",
      "🏃 View run indecisive-trout-972 at: http://127.0.0.1:5000/#/experiments/1/runs/947a868ea10a439a9f41cff8251fe0a6\n",
      "\n",
      "🧪 View experiment at: http://127.0.0.1:5000/#/experiments/1                    \n",
      "\n",
      "🏃 View run crawling-cub-972 at: http://127.0.0.1:5000/#/experiments/1/runs/a47fb30f262843c89c3cb18d5cdc207f\n",
      "\n",
      "🧪 View experiment at: http://127.0.0.1:5000/#/experiments/1                    \n",
      "\n",
      "🏃 View run charming-fowl-186 at: http://127.0.0.1:5000/#/experiments/1/runs/31aa086b8be74b00b7854075ef8152f5\n",
      "\n",
      "🧪 View experiment at: http://127.0.0.1:5000/#/experiments/1                    \n",
      "\n",
      "🏃 View run serious-grouse-554 at: http://127.0.0.1:5000/#/experiments/1/runs/ec93aa0138ca4a1a8c51f2207c1d6f70\n",
      "\n",
      "🧪 View experiment at: http://127.0.0.1:5000/#/experiments/1                    \n",
      "\n",
      "🏃 View run sincere-yak-578 at: http://127.0.0.1:5000/#/experiments/1/runs/a59835cee66841e8ae4747d6df07886b\n",
      "\n",
      "🧪 View experiment at: http://127.0.0.1:5000/#/experiments/1                    \n",
      "\n",
      "🏃 View run magnificent-kit-980 at: http://127.0.0.1:5000/#/experiments/1/runs/1f4700c6b8d74eacb1c76632999dd6af\n",
      "\n",
      "🧪 View experiment at: http://127.0.0.1:5000/#/experiments/1                    \n",
      "\n",
      "🏃 View run rambunctious-cub-206 at: http://127.0.0.1:5000/#/experiments/1/runs/987a5af8d8bb4ac5ac5c58ca0e8a73ad\n",
      "\n",
      "🧪 View experiment at: http://127.0.0.1:5000/#/experiments/1                    \n",
      "\n",
      "🏃 View run rogue-mouse-614 at: http://127.0.0.1:5000/#/experiments/1/runs/c789d6422ae04872be4774f96d57f92e\n",
      "\n",
      "🧪 View experiment at: http://127.0.0.1:5000/#/experiments/1                    \n",
      "\n",
      "🏃 View run gaudy-fly-963 at: http://127.0.0.1:5000/#/experiments/1/runs/746641b959ba41c68fae415da76130c1\n",
      "\n",
      "🧪 View experiment at: http://127.0.0.1:5000/#/experiments/1                    \n",
      "\n",
      "🏃 View run inquisitive-newt-156 at: http://127.0.0.1:5000/#/experiments/1/runs/4c699542b27a48219ede096812acf3c2\n",
      "\n",
      "🧪 View experiment at: http://127.0.0.1:5000/#/experiments/1                    \n",
      "\n",
      "🏃 View run likeable-zebra-919 at: http://127.0.0.1:5000/#/experiments/1/runs/9fdeb4cf7ab84a37b70e1e853e055941\n",
      "\n",
      "🧪 View experiment at: http://127.0.0.1:5000/#/experiments/1                    \n",
      "\n",
      "🏃 View run fearless-moose-764 at: http://127.0.0.1:5000/#/experiments/1/runs/bc94cbe98954465ea2ce72a764b3444c\n",
      "\n",
      "🧪 View experiment at: http://127.0.0.1:5000/#/experiments/1                    \n",
      "\n",
      "🏃 View run thoughtful-vole-344 at: http://127.0.0.1:5000/#/experiments/1/runs/f5541507e57945a1bb595f63bebdd26c\n",
      "\n",
      "🧪 View experiment at: http://127.0.0.1:5000/#/experiments/1                    \n",
      "\n",
      "100%|██████████| 15/15 [01:01<00:00,  4.07s/trial, best loss: 5.335419588556921]\n"
     ]
    }
   ],
   "source": [
    "!python hpo.py"
   ]
  },
  {
   "cell_type": "markdown",
   "id": "42668797",
   "metadata": {},
   "source": [
    "# Q6. Promote the best model to the model registry\n",
    "\n",
    "The results from the hyperparameter optimization are quite good. So, we can assume that we are ready to test some of these models in production. In this exercise, you'll promote the best model to the model registry. We have prepared a script called register_model.py, which will check the results from the previous step and select the top 5 runs. After that, it will calculate the RMSE of those models on the test set (March 2023 data) and save the results to a new experiment called random-forest-best-models.\n",
    "\n",
    "Your task is to update the script register_model.py so that it selects the model with the lowest RMSE on the test set and registers it to the model registry.\n",
    "\n",
    "**Tip 1:** you can use the method search_runs from the MlflowClient to get the model with the lowest RMSE,\n",
    "\n",
    "**Tip 2:** to register the model you can use the method mlflow.register_model and you will need to pass the right model_uri in the form of a string that looks like this: \"runs:/<RUN_ID>/model\", and the name of the model (make sure to choose a good one!).\n",
    "\n",
    "What is the test RMSE of the best model?\n",
    "\n",
    "- 5.060\n",
    "- 5.567 ✅\n",
    "- 6.061\n",
    "- 6.568"
   ]
  },
  {
   "cell_type": "code",
   "execution_count": 42,
   "id": "b843145e",
   "metadata": {},
   "outputs": [
    {
     "name": "stdout",
     "output_type": "stream",
     "text": [
      "2025/05/25 23:07:15 INFO mlflow.tracking.fluent: Experiment with name 'random-forest-best-models-new' does not exist. Creating a new experiment.\n",
      "2025/05/25 23:07:23 WARNING mlflow.utils.environment: Failed to resolve installed pip version. ``pip`` will be added to conda.yaml environment spec without a version specifier.\n",
      "🏃 View run gregarious-chimp-189 at: http://127.0.0.1:5000/#/experiments/3/runs/fbb28fef30e348f9914dc7673387224a\n",
      "🧪 View experiment at: http://127.0.0.1:5000/#/experiments/3\n",
      "2025/05/25 23:07:39 WARNING mlflow.utils.environment: Failed to resolve installed pip version. ``pip`` will be added to conda.yaml environment spec without a version specifier.\n",
      "🏃 View run glamorous-shrimp-0 at: http://127.0.0.1:5000/#/experiments/3/runs/3da6ad860de041028323ca44d5baf634\n",
      "🧪 View experiment at: http://127.0.0.1:5000/#/experiments/3\n",
      "2025/05/25 23:07:49 WARNING mlflow.utils.environment: Failed to resolve installed pip version. ``pip`` will be added to conda.yaml environment spec without a version specifier.\n",
      "🏃 View run adaptable-trout-735 at: http://127.0.0.1:5000/#/experiments/3/runs/22a61ef050b84035a13c55ac2c8cb889\n",
      "🧪 View experiment at: http://127.0.0.1:5000/#/experiments/3\n",
      "2025/05/25 23:08:00 WARNING mlflow.utils.environment: Failed to resolve installed pip version. ``pip`` will be added to conda.yaml environment spec without a version specifier.\n",
      "🏃 View run exultant-mouse-371 at: http://127.0.0.1:5000/#/experiments/3/runs/92c5a8c6de4d40efba7184af3a723103\n",
      "🧪 View experiment at: http://127.0.0.1:5000/#/experiments/3\n",
      "2025/05/25 23:08:09 WARNING mlflow.utils.environment: Failed to resolve installed pip version. ``pip`` will be added to conda.yaml environment spec without a version specifier.\n",
      "🏃 View run burly-stag-491 at: http://127.0.0.1:5000/#/experiments/3/runs/f6214b2a4b7f4886a28779804a2ffed3\n",
      "🧪 View experiment at: http://127.0.0.1:5000/#/experiments/3\n",
      "Best test RMSE: 5.567408012462019\n",
      "Successfully registered model 'nyc-taxi-rf-best-model'.\n",
      "2025/05/25 23:08:11 INFO mlflow.store.model_registry.abstract_store: Waiting up to 300 seconds for model version to finish creation. Model name: nyc-taxi-rf-best-model, version 1\n",
      "Created version '1' of model 'nyc-taxi-rf-best-model'.\n"
     ]
    }
   ],
   "source": [
    "# Then run the register script\n",
    "!python register_model.py"
   ]
  }
 ],
 "metadata": {
  "kernelspec": {
   "display_name": ".venv",
   "language": "python",
   "name": "python3"
  },
  "language_info": {
   "codemirror_mode": {
    "name": "ipython",
    "version": 3
   },
   "file_extension": ".py",
   "mimetype": "text/x-python",
   "name": "python",
   "nbconvert_exporter": "python",
   "pygments_lexer": "ipython3",
   "version": "3.10.16"
  }
 },
 "nbformat": 4,
 "nbformat_minor": 5
}
