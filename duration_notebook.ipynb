{
 "cells": [
  {
   "metadata": {
    "ExecuteTime": {
     "end_time": "2025-07-18T11:11:17.519960Z",
     "start_time": "2025-07-18T11:11:17.497460Z"
    }
   },
   "cell_type": "code",
   "source": [
    "#cloud check\n",
    "import platform\n",
    "import os\n",
    "\n",
    "print(\"Running on:\", platform.uname())\n",
    "print(\"User:\", os.getlogin())\n",
    "print(\"Python path:\", os.__file__)\n"
   ],
   "id": "1a2b40b8c9fdcc0a",
   "outputs": [
    {
     "name": "stdout",
     "output_type": "stream",
     "text": [
      "Running on: uname_result(system='Darwin', node='Jordans-MacBook-Air.local', release='24.3.0', version='Darwin Kernel Version 24.3.0: Thu Jan  2 20:23:36 PST 2025; root:xnu-11215.81.4~3/RELEASE_ARM64_T8112', machine='arm64')\n",
      "User: root\n",
      "Python path: /opt/homebrew/Caskroom/miniforge/base/envs/mlops_zoomcamp/lib/python3.10/os.py\n"
     ]
    }
   ],
   "execution_count": 2
  },
  {
   "metadata": {
    "ExecuteTime": {
     "end_time": "2025-07-18T11:11:18.745900Z",
     "start_time": "2025-07-18T11:11:18.579547Z"
    }
   },
   "cell_type": "code",
   "source": "!python3 -V",
   "id": "1671559a6fd274b3",
   "outputs": [
    {
     "name": "stdout",
     "output_type": "stream",
     "text": [
      "Python 3.10.18\r\n"
     ]
    }
   ],
   "execution_count": 3
  },
  {
   "metadata": {
    "ExecuteTime": {
     "end_time": "2025-07-18T11:11:19.759704Z",
     "start_time": "2025-07-18T11:11:19.757341Z"
    }
   },
   "cell_type": "code",
   "source": "import pickle",
   "id": "a5e1588cac3b27e0",
   "outputs": [],
   "execution_count": 4
  },
  {
   "cell_type": "code",
   "id": "initial_id",
   "metadata": {
    "collapsed": true,
    "ExecuteTime": {
     "end_time": "2025-07-18T11:11:23.141961Z",
     "start_time": "2025-07-18T11:11:22.769099Z"
    }
   },
   "source": [
    "import pandas as pd\n",
    "import numpy as np\n",
    "import seaborn as sns\n",
    "import matplotlib.pyplot as plt\n",
    "import sklearn\n",
    "from sklearn.feature_extraction import DictVectorizer\n",
    "from sklearn.linear_model import LinearRegression, Lasso, Ridge\n",
    "\n",
    "from sklearn.metrics import r2_score, mean_squared_error, mean_absolute_error\n"
   ],
   "outputs": [],
   "execution_count": 5
  },
  {
   "metadata": {
    "ExecuteTime": {
     "end_time": "2025-07-18T11:15:55.055693Z",
     "start_time": "2025-07-18T11:15:54.998836Z"
    }
   },
   "cell_type": "code",
   "source": [
    "import mlflow\n",
    "from mlflow import pyfunc\n",
    "from sklearn.pipeline import make_pipeline\n",
    "from mlflow.models.signature import infer_signature\n",
    "\n",
    "#mlflow.set_tracking_uri(\"sqlite:///mlflow.db\")\n",
    "mlflow.set_tracking_uri(\"http://127.0.0.1:5001\")\n",
    "\n",
    "mlflow.set_experiment(\"nyc_taxi_trip_duration_experiment\")"
   ],
   "id": "8fda5d4329a07e5b",
   "outputs": [
    {
     "data": {
      "text/plain": [
       "<Experiment: artifact_location='/Users/jordanharris/Code/mlops_zoomcamp/mlruns/2', creation_time=1752572001788, experiment_id='2', last_update_time=1752572001788, lifecycle_stage='active', name='nyc_taxi_trip_duration_experiment', tags={}>"
      ]
     },
     "execution_count": 10,
     "metadata": {},
     "output_type": "execute_result"
    }
   ],
   "execution_count": 10
  },
  {
   "metadata": {
    "ExecuteTime": {
     "end_time": "2025-07-18T10:48:31.049484Z",
     "start_time": "2025-07-18T10:48:30.860412Z"
    }
   },
   "cell_type": "code",
   "source": [
    "import os\n",
    "print(os.getcwd())\n",
    "\n",
    "#df = pd.read_parquet('/home/azureuser/j_harr/data/green_tripdata_2021-01.parquet')\n",
    "df = pd.read_parquet('./data/green_tripdata_2021-01.parquet')"
   ],
   "id": "ccfaa6668ec49252",
   "outputs": [
    {
     "name": "stdout",
     "output_type": "stream",
     "text": [
      "/Users/jordanharris/Code/mlops_zoomcamp\n"
     ]
    }
   ],
   "execution_count": 7
  },
  {
   "metadata": {
    "ExecuteTime": {
     "end_time": "2025-07-18T10:48:32.610081Z",
     "start_time": "2025-07-18T10:48:32.426887Z"
    }
   },
   "cell_type": "code",
   "source": [
    "df['duration'] = pd.to_datetime(df.lpep_dropoff_datetime) - pd.to_datetime(df.lpep_pickup_datetime)\n",
    "df.duration = df['duration'].apply(lambda x: x.total_seconds() / 60)"
   ],
   "id": "278b32892d3e2cef",
   "outputs": [],
   "execution_count": 8
  },
  {
   "metadata": {
    "ExecuteTime": {
     "end_time": "2025-07-18T10:48:36.210890Z",
     "start_time": "2025-07-18T10:48:36.205045Z"
    }
   },
   "cell_type": "code",
   "source": [
    "td =  df.duration.iloc[0]\n",
    "td"
   ],
   "id": "8c8a35b60fc3d02a",
   "outputs": [
    {
     "data": {
      "text/plain": [
       "np.float64(3.933333333333333)"
      ]
     },
     "execution_count": 9,
     "metadata": {},
     "output_type": "execute_result"
    }
   ],
   "execution_count": 9
  },
  {
   "metadata": {
    "ExecuteTime": {
     "end_time": "2025-07-15T15:00:14.133724Z",
     "start_time": "2025-07-15T15:00:14.131506Z"
    }
   },
   "cell_type": "code",
   "source": "#df[df.trip_type == 2]\n",
   "id": "1baadc8b4dc114f2",
   "outputs": [],
   "execution_count": 48
  },
  {
   "metadata": {
    "ExecuteTime": {
     "end_time": "2025-07-18T10:48:37.846594Z",
     "start_time": "2025-07-18T10:48:37.556253Z"
    }
   },
   "cell_type": "code",
   "source": "sns.distplot(df.duration)",
   "id": "b9d82018626a43a4",
   "outputs": [
    {
     "name": "stderr",
     "output_type": "stream",
     "text": [
      "/var/folders/_r/_94p_t6s1933ynymfxl25_7h0000gn/T/ipykernel_5495/4187696625.py:1: UserWarning: \n",
      "\n",
      "`distplot` is a deprecated function and will be removed in seaborn v0.14.0.\n",
      "\n",
      "Please adapt your code to use either `displot` (a figure-level function with\n",
      "similar flexibility) or `histplot` (an axes-level function for histograms).\n",
      "\n",
      "For a guide to updating your code to use the new functions, please see\n",
      "https://gist.github.com/mwaskom/de44147ed2974457ad6372750bbe5751\n",
      "\n",
      "  sns.distplot(df.duration)\n"
     ]
    },
    {
     "data": {
      "text/plain": [
       "<Axes: xlabel='duration', ylabel='Density'>"
      ]
     },
     "execution_count": 10,
     "metadata": {},
     "output_type": "execute_result"
    },
    {
     "data": {
      "text/plain": [
       "<Figure size 640x480 with 1 Axes>"
      ],
      "image/png": "[encoded data removed]"
     },
     "metadata": {},
     "output_type": "display_data"
    }
   ],
   "execution_count": 10
  },
  {
   "metadata": {
    "ExecuteTime": {
     "end_time": "2025-07-18T10:48:40.183229Z",
     "start_time": "2025-07-18T10:48:40.175201Z"
    }
   },
   "cell_type": "code",
   "source": "df.duration.describe(percentiles=[0.95, 0.98, 0.99])",
   "id": "d4e1e0953bbf01c9",
   "outputs": [
    {
     "data": {
      "text/plain": [
       "count    76518.000000\n",
       "mean        19.927896\n",
       "std         59.338594\n",
       "min          0.000000\n",
       "50%         13.883333\n",
       "95%         44.000000\n",
       "98%         56.000000\n",
       "99%         67.158167\n",
       "max       1439.600000\n",
       "Name: duration, dtype: float64"
      ]
     },
     "execution_count": 11,
     "metadata": {},
     "output_type": "execute_result"
    }
   ],
   "execution_count": 11
  },
  {
   "metadata": {
    "ExecuteTime": {
     "end_time": "2025-07-18T10:48:42.195575Z",
     "start_time": "2025-07-18T10:48:42.174351Z"
    }
   },
   "cell_type": "code",
   "source": [
    "#small filtering\n",
    "df = df[(df.duration >= 1) & (df.duration <= 60)]"
   ],
   "id": "47ca147084013345",
   "outputs": [],
   "execution_count": 12
  },
  {
   "metadata": {
    "ExecuteTime": {
     "end_time": "2025-07-18T10:48:43.782308Z",
     "start_time": "2025-07-18T10:48:43.779785Z"
    }
   },
   "cell_type": "code",
   "source": [
    "categorical = ['PULocationID', 'DOLocationID']\n",
    "numerical = ['trip_distance']"
   ],
   "id": "389062102e1276a",
   "outputs": [],
   "execution_count": 13
  },
  {
   "metadata": {
    "ExecuteTime": {
     "end_time": "2025-07-18T10:48:44.982815Z",
     "start_time": "2025-07-18T10:48:44.955484Z"
    }
   },
   "cell_type": "code",
   "source": [
    "#df[categorical].astype(str).dtypes\n",
    "df[categorical] = df[categorical].astype(str)\n",
    "#df.dtypes\n",
    "df[categorical + numerical].iloc[:10].to_dict(orient='records')"
   ],
   "id": "4801015e2bd428fc",
   "outputs": [
    {
     "data": {
      "text/plain": [
       "[{'PULocationID': '43', 'DOLocationID': '151', 'trip_distance': 1.01},\n",
       " {'PULocationID': '166', 'DOLocationID': '239', 'trip_distance': 2.53},\n",
       " {'PULocationID': '41', 'DOLocationID': '42', 'trip_distance': 1.12},\n",
       " {'PULocationID': '168', 'DOLocationID': '75', 'trip_distance': 1.99},\n",
       " {'PULocationID': '75', 'DOLocationID': '75', 'trip_distance': 0.45},\n",
       " {'PULocationID': '225', 'DOLocationID': '265', 'trip_distance': 12.19},\n",
       " {'PULocationID': '244', 'DOLocationID': '244', 'trip_distance': 3.39},\n",
       " {'PULocationID': '75', 'DOLocationID': '213', 'trip_distance': 6.69},\n",
       " {'PULocationID': '74', 'DOLocationID': '238', 'trip_distance': 2.34},\n",
       " {'PULocationID': '74', 'DOLocationID': '60', 'trip_distance': 5.48}]"
      ]
     },
     "execution_count": 14,
     "metadata": {},
     "output_type": "execute_result"
    }
   ],
   "execution_count": 14
  },
  {
   "metadata": {
    "ExecuteTime": {
     "end_time": "2025-07-18T10:48:46.862954Z",
     "start_time": "2025-07-18T10:48:46.678715Z"
    }
   },
   "cell_type": "code",
   "source": [
    "train_dicts = df[categorical + numerical].to_dict(orient='records')\n",
    "dv = DictVectorizer()\n",
    "X_train = dv.fit_transform(train_dicts)"
   ],
   "id": "8327b043eb24864",
   "outputs": [],
   "execution_count": 15
  },
  {
   "metadata": {
    "ExecuteTime": {
     "end_time": "2025-07-18T10:48:47.792662Z",
     "start_time": "2025-07-18T10:48:47.787940Z"
    }
   },
   "cell_type": "code",
   "source": [
    "#print(dv.feature_names_)\n",
    "print(X_train.shape)\n",
    "target = 'duration'\n",
    "y_train = df[target].values\n",
    "print(y_train.shape)\n"
   ],
   "id": "1ae01982ef5f1139",
   "outputs": [
    {
     "name": "stdout",
     "output_type": "stream",
     "text": [
      "(73908, 507)\n",
      "(73908,)\n"
     ]
    }
   ],
   "execution_count": 16
  },
  {
   "metadata": {
    "ExecuteTime": {
     "end_time": "2025-07-15T15:00:19.831327Z",
     "start_time": "2025-07-15T15:00:15.115519Z"
    }
   },
   "cell_type": "code",
   "source": [
    "lr = LinearRegression()\n",
    "lr.fit(X_train, y_train)\n",
    "y_pred = lr.predict(X_train)\n",
    "sns.distplot(y_pred, label='prediction')\n",
    "sns.distplot(y_train, label='actual')\n",
    "plt.legend()\n",
    "\n",
    "#------------------------------------------------------\n",
    "\n",
    "mse = mean_squared_error(y_train, y_pred)\n",
    "rmse = np.sqrt(mse)\n",
    "mae = mean_absolute_error(y_train, y_pred)\n",
    "r2 = r2_score(y_train, y_pred)\n",
    "\n",
    "print(f\"MSE: {mse:.3f}\")\n",
    "print(f\"RMSE: {rmse:.3f}\")\n",
    "print(f\"MAE: {mae:.3f}\")\n",
    "print(f\"R²: {r2:.3f}\")"
   ],
   "id": "4cf5732306c6ae94",
   "outputs": [
    {
     "name": "stderr",
     "output_type": "stream",
     "text": [
      "2025/07/15 17:00:15 INFO mlflow.utils.autologging_utils: Created MLflow autologging run with ID 'c88bb8fa818c419eb5428c349eb7eae7', which will track hyperparameters, performance metrics, model artifacts, and lineage information for the current sklearn workflow\n"
     ]
    },
    {
     "name": "stdout",
     "output_type": "stream",
     "text": [
      "🏃 View run resilient-conch-314 at: http://192.168.178.84:5001/#/experiments/2/runs/c88bb8fa818c419eb5428c349eb7eae7\n",
      "🧪 View experiment at: http://192.168.178.84:5001/#/experiments/2\n"
     ]
    },
    {
     "name": "stderr",
     "output_type": "stream",
     "text": [
      "/var/folders/_r/_94p_t6s1933ynymfxl25_7h0000gn/T/ipykernel_10915/1518544609.py:4: UserWarning: \n",
      "\n",
      "`distplot` is a deprecated function and will be removed in seaborn v0.14.0.\n",
      "\n",
      "Please adapt your code to use either `displot` (a figure-level function with\n",
      "similar flexibility) or `histplot` (an axes-level function for histograms).\n",
      "\n",
      "For a guide to updating your code to use the new functions, please see\n",
      "https://gist.github.com/mwaskom/de44147ed2974457ad6372750bbe5751\n",
      "\n",
      "  sns.distplot(y_pred, label='prediction')\n",
      "/var/folders/_r/_94p_t6s1933ynymfxl25_7h0000gn/T/ipykernel_10915/1518544609.py:5: UserWarning: \n",
      "\n",
      "`distplot` is a deprecated function and will be removed in seaborn v0.14.0.\n",
      "\n",
      "Please adapt your code to use either `displot` (a figure-level function with\n",
      "similar flexibility) or `histplot` (an axes-level function for histograms).\n",
      "\n",
      "For a guide to updating your code to use the new functions, please see\n",
      "https://gist.github.com/mwaskom/de44147ed2974457ad6372750bbe5751\n",
      "\n",
      "  sns.distplot(y_train, label='actual')\n"
     ]
    },
    {
     "name": "stdout",
     "output_type": "stream",
     "text": [
      "MSE: 96.577\n",
      "RMSE: 9.827\n",
      "MAE: 7.224\n",
      "R²: 0.278\n"
     ]
    },
    {
     "data": {
      "text/plain": [
       "<Figure size 640x480 with 1 Axes>"
      ],
      "image/png": "[encoded data removed]"
     },
     "metadata": {},
     "output_type": "display_data"
    }
   ],
   "execution_count": 56
  },
  {
   "metadata": {
    "ExecuteTime": {
     "end_time": "2025-07-18T10:59:32.900732Z",
     "start_time": "2025-07-18T10:59:32.894601Z"
    }
   },
   "cell_type": "code",
   "source": [
    "def read_dataframe(filename):\n",
    "    df = pd.read_parquet(filename)\n",
    "    df['duration'] = pd.to_datetime(df.lpep_dropoff_datetime) - pd.to_datetime(df.lpep_pickup_datetime)\n",
    "    df.duration = df['duration'].apply(lambda x: x.total_seconds() / 60)\n",
    "    df = df[(df.duration >= 1) & (df.duration <= 60)]\n",
    "    categorical = ['PULocationID', 'DOLocationID']\n",
    "    #numerical = ['trip_distance']\n",
    "    df[categorical] = df[categorical].astype(str)\n",
    "\n",
    "    return df"
   ],
   "id": "6d4fbe18c2869b41",
   "outputs": [],
   "execution_count": 6
  },
  {
   "metadata": {
    "ExecuteTime": {
     "end_time": "2025-07-18T10:59:34.687780Z",
     "start_time": "2025-07-18T10:59:34.127481Z"
    }
   },
   "cell_type": "code",
   "source": [
    "df_train = read_dataframe('./data/green_tripdata_2021-01.parquet')\n",
    "df_val = read_dataframe('./data/green_tripdata_2021-02.parquet')\n"
   ],
   "id": "329b8c1657e84caf",
   "outputs": [],
   "execution_count": 7
  },
  {
   "metadata": {
    "ExecuteTime": {
     "end_time": "2025-07-18T10:59:36.507355Z",
     "start_time": "2025-07-18T10:59:36.503403Z"
    }
   },
   "cell_type": "code",
   "source": "len(df_train), len(df_val)",
   "id": "988eb23e4fcc227b",
   "outputs": [
    {
     "data": {
      "text/plain": [
       "(73908, 61921)"
      ]
     },
     "execution_count": 8,
     "metadata": {},
     "output_type": "execute_result"
    }
   ],
   "execution_count": 8
  },
  {
   "metadata": {
    "ExecuteTime": {
     "end_time": "2025-07-18T10:59:37.631156Z",
     "start_time": "2025-07-18T10:59:37.600492Z"
    }
   },
   "cell_type": "code",
   "source": [
    "df_train['PU_DO'] = df_train['PULocationID'] + '_' + df_train['DOLocationID']\n",
    "df_val['PU_DO'] = df_val['PULocationID'] + '_' + df_val['DOLocationID']\n"
   ],
   "id": "146fc6bd1f56526c",
   "outputs": [],
   "execution_count": 9
  },
  {
   "metadata": {
    "ExecuteTime": {
     "end_time": "2025-07-18T11:00:26.674998Z",
     "start_time": "2025-07-18T11:00:26.292792Z"
    }
   },
   "cell_type": "code",
   "source": [
    "categorical = ['PU_DO']  #'PULocationID', 'DOLocationID']\n",
    "numerical = ['trip_distance']\n",
    "\n",
    "dv = DictVectorizer()\n",
    "\n",
    "train_dicts = df_train[categorical + numerical].to_dict(orient='records')\n",
    "X_train = dv.fit_transform(train_dicts)\n",
    "\n",
    "val_dicts = df_val[categorical + numerical].to_dict(orient='records')\n",
    "X_val = dv.transform(val_dicts)"
   ],
   "id": "8a22a98711638c3e",
   "outputs": [],
   "execution_count": 13
  },
  {
   "metadata": {
    "ExecuteTime": {
     "end_time": "2025-07-18T11:00:28.776972Z",
     "start_time": "2025-07-18T11:00:28.774127Z"
    }
   },
   "cell_type": "code",
   "source": [
    "target = 'duration'\n",
    "y_train = df_train[target].values\n",
    "y_val = df_val[target].values"
   ],
   "id": "b71d2c2b1337806c",
   "outputs": [],
   "execution_count": 14
  },
  {
   "metadata": {
    "ExecuteTime": {
     "end_time": "2025-07-15T15:00:43.596798Z",
     "start_time": "2025-07-15T15:00:21.125863Z"
    }
   },
   "cell_type": "code",
   "source": [
    "with mlflow.start_run(run_name=\"linear_regression\"):\n",
    "\n",
    "    mlflow.set_tag(\"model_type\", \"linear_regression\")\n",
    "    mlflow.set_tag(\"developer\", \"ja_harr\")\n",
    "\n",
    "    mlflow.log_param(\"train-data-path\", \"./data/green_tripdata_2021-01.parquet\")\n",
    "    mlflow.log_param(\"valid-data-path\", \"./data/green_tripdata_2021-02.parquet\")\n",
    "\n",
    "    ln = LinearRegression()\n",
    "    ln.fit(X_train, y_train)\n",
    "\n",
    "    y_pred = ln.predict(X_val)\n",
    "    mse = mean_squared_error(y_val, y_pred)\n",
    "    rmse = np.sqrt(mse)\n",
    "    mae = mean_absolute_error(y_val, y_pred)\n",
    "    r2 = r2_score(y_val, y_pred)\n",
    "\n",
    "    print(f\"MSE: {mse:.3f}\")\n",
    "    print(f\"Root MSE: {rmse:.3f}\")\n",
    "    print(f\"MAE: {mae:.3f}\")\n",
    "    print(f\"R²: {r2:.3f}\")\n",
    "    mlflow.log_metric(\"mse\", mse)\n",
    "    mlflow.log_metric(\"rmse\", rmse)\n",
    "    mlflow.log_metric(\"mae\", mae)\n",
    "    mlflow.log_metric(\"R²\", r2)\n",
    "\n",
    "\n",
    "    ln_pipeline = make_pipeline(dv, ln)\n",
    "    signature = infer_signature(X_train, y_train)\n",
    "    #input_example = train_dicts[:5]\n",
    "\n",
    "    mlflow.sklearn.log_model(\n",
    "            sk_model=ln_pipeline,\n",
    "            name=\"linear_model\",\n",
    "            signature=signature,\n",
    "            #input_example=input_example,\n",
    "            registered_model_name=\"linear_regression\"  # optional, auto-register in the MLflow Model Registry\n",
    "    )\n",
    "\n"
   ],
   "id": "1e37d87a7e616f69",
   "outputs": [
    {
     "name": "stdout",
     "output_type": "stream",
     "text": [
      "MSE: 60.198\n",
      "Root MSE: 7.759\n",
      "MAE: 5.340\n",
      "R²: 0.594\n"
     ]
    },
    {
     "name": "stderr",
     "output_type": "stream",
     "text": [
      "Registered model 'linear_regression' already exists. Creating a new version of this model...\n",
      "2025/07/15 17:00:43 INFO mlflow.store.model_registry.abstract_store: Waiting up to 300 seconds for model version to finish creation. Model name: linear_regression, version 3\n",
      "Created version '3' of model 'linear_regression'.\n"
     ]
    },
    {
     "name": "stdout",
     "output_type": "stream",
     "text": [
      "🏃 View run linear_regression at: http://192.168.178.84:5001/#/experiments/2/runs/38d95acd4c544536bda500c0330cadc0\n",
      "🧪 View experiment at: http://192.168.178.84:5001/#/experiments/2\n"
     ]
    }
   ],
   "execution_count": 63
  },
  {
   "metadata": {
    "ExecuteTime": {
     "end_time": "2025-07-15T15:00:43.689210Z",
     "start_time": "2025-07-15T15:00:43.677442Z"
    }
   },
   "cell_type": "code",
   "source": [
    "with open('models/lin_reg.bin', 'wb') as f_out:\n",
    "    pickle.dump((dv, ln), f_out)"
   ],
   "id": "b95b9ff534374ad5",
   "outputs": [],
   "execution_count": 64
  },
  {
   "metadata": {
    "ExecuteTime": {
     "end_time": "2025-07-15T15:01:13.190917Z",
     "start_time": "2025-07-15T15:00:43.722820Z"
    }
   },
   "cell_type": "code",
   "source": [
    "with mlflow.start_run(run_name=\"lasso_regression\"):\n",
    "    mlflow.set_tag(\"model_type\", \"lasso_regression\")\n",
    "    mlflow.set_tag(\"developer\", \"ja_harr\")\n",
    "\n",
    "    mlflow.log_param(\"train-data-path\", \"./data/green_tripdata_2021-01.parquet\")\n",
    "    mlflow.log_param(\"valid-data-path\", \"./data/green_tripdata_2021-02.parquet\")\n",
    "\n",
    "    alpha = 0.01\n",
    "    mlflow.log_param(\"alpha\", alpha)\n",
    "\n",
    "    l = Lasso(alpha=alpha)\n",
    "    l.fit(X_train, y_train)\n",
    "\n",
    "    y_pred = l.predict(X_val)\n",
    "\n",
    "    mse = mean_squared_error(y_val, y_pred)\n",
    "    rmse = np.sqrt(mse)\n",
    "    mae = mean_absolute_error(y_val, y_pred)\n",
    "    r2 = r2_score(y_val, y_pred)\n",
    "\n",
    "    print(f\"MSE: {mse:.3f}\")\n",
    "    print(f\"Root MSE: {rmse:.3f}\")\n",
    "    print(f\"MAE: {mae:.3f}\")\n",
    "    print(f\"R²: {r2:.3f}\")\n",
    "    mlflow.log_metric(\"mse\", mse)\n",
    "    mlflow.log_metric(\"rmse\", rmse)\n",
    "    mlflow.log_metric(\"mae\", mae)\n",
    "    mlflow.log_metric(\"R²\", r2)\n",
    "\n",
    "\n",
    "    lasso_pipeline = make_pipeline(dv, l)\n",
    "    signature = infer_signature(X_train, y_train)\n",
    "    #input_example = train_dicts[:5]\n",
    "\n",
    "    mlflow.sklearn.log_model(\n",
    "            sk_model=lasso_pipeline,\n",
    "            name=\"lasso_model\",\n",
    "            signature=signature,\n",
    "            #input_example=input_example,\n",
    "            registered_model_name=\"lasso_regression\"  # optional, auto-register in the MLflow Model Registry\n",
    "        )"
   ],
   "id": "6b4bc6e6583329f7",
   "outputs": [
    {
     "name": "stdout",
     "output_type": "stream",
     "text": [
      "MSE: 124.708\n",
      "Root MSE: 11.167\n",
      "MAE: 8.218\n",
      "R²: 0.158\n"
     ]
    },
    {
     "name": "stderr",
     "output_type": "stream",
     "text": [
      "Registered model 'lasso_regression' already exists. Creating a new version of this model...\n",
      "2025/07/15 17:01:13 INFO mlflow.store.model_registry.abstract_store: Waiting up to 300 seconds for model version to finish creation. Model name: lasso_regression, version 3\n",
      "Created version '3' of model 'lasso_regression'.\n"
     ]
    },
    {
     "name": "stdout",
     "output_type": "stream",
     "text": [
      "🏃 View run lasso_regression at: http://192.168.178.84:5001/#/experiments/2/runs/0b971dafad094007a9c840027402ed03\n",
      "🧪 View experiment at: http://192.168.178.84:5001/#/experiments/2\n"
     ]
    }
   ],
   "execution_count": 65
  },
  {
   "metadata": {
    "ExecuteTime": {
     "end_time": "2025-07-15T15:01:13.224357Z",
     "start_time": "2025-07-15T15:01:13.216581Z"
    }
   },
   "cell_type": "code",
   "source": [
    "with open('models/lasso.bin', 'wb') as f_out:\n",
    "    pickle.dump((dv, lr), f_out)\n"
   ],
   "id": "e248fba90596f793",
   "outputs": [],
   "execution_count": 66
  },
  {
   "metadata": {
    "ExecuteTime": {
     "end_time": "2025-07-15T15:01:32.241962Z",
     "start_time": "2025-07-15T15:01:13.286061Z"
    }
   },
   "cell_type": "code",
   "source": [
    "with mlflow.start_run(run_name=\"ridge_regression\"):\n",
    "    mlflow.set_tag(\"model_type\", \"ridge_regression\")\n",
    "    mlflow.set_tag(\"developer\", \"ja_harr\")\n",
    "\n",
    "    mlflow.log_param(\"train-data-path\", \"./data/green_tripdata_2021-01.parquet\")\n",
    "    mlflow.log_param(\"valid-data-path\", \"./data/green_tripdata_2021-02.parquet\")\n",
    "\n",
    "    alpha = 0.001\n",
    "    mlflow.log_param(\"alpha\", alpha)\n",
    "\n",
    "    r = Ridge(alpha=alpha)\n",
    "    r.fit(X_train, y_train)\n",
    "\n",
    "    y_pred = r.predict(X_val)\n",
    "\n",
    "    mse = mean_squared_error(y_val, y_pred)\n",
    "    rmse = np.sqrt(mse)\n",
    "    mae = mean_absolute_error(y_val, y_pred)\n",
    "    r2 = r2_score(y_val, y_pred)\n",
    "\n",
    "    print(f\"MSE: {mse:.3f}\")\n",
    "    print(f\"Root MSE: {rmse:.3f}\")\n",
    "    print(f\"MAE: {mae:.3f}\")\n",
    "    print(f\"R²: {r2:.3f}\")\n",
    "    mlflow.log_metric(\"mse\", mse)\n",
    "    mlflow.log_metric(\"rmse\", rmse)\n",
    "    mlflow.log_metric(\"mae\", mae)\n",
    "    mlflow.log_metric(\"R²\", r2)\n",
    "\n",
    "\n",
    "    ridge_pipeline = make_pipeline(dv, r)\n",
    "    signature = infer_signature(X_train, y_train)\n",
    "    #input_example = train_dicts[:5]\n",
    "\n",
    "\n",
    "    #example_df = df_val[categorical + numerical].iloc[:5]\n",
    "    #preds = pipeline.predict(example_df)\n",
    "    #signature = infer_signature(example_df, preds)\n",
    "\n",
    "    mlflow.sklearn.log_model(\n",
    "            sk_model=ridge_pipeline,\n",
    "            name=\"ridge_model\",\n",
    "            signature=signature,\n",
    "            #input_example=input_example,\n",
    "            registered_model_name=\"ridge_regression\"  # optional, auto-register in the MLflow Model Registry\n",
    "    )\n",
    "\n",
    "    #mlflow.log_artifact(local_path=\"models/ridge.bin\", #artifact_path=\"models_pickle\")"
   ],
   "id": "af271c25374523e2",
   "outputs": [
    {
     "name": "stdout",
     "output_type": "stream",
     "text": [
      "MSE: 56.414\n",
      "Root MSE: 7.511\n",
      "MAE: 5.068\n",
      "R²: 0.619\n"
     ]
    },
    {
     "name": "stderr",
     "output_type": "stream",
     "text": [
      "Registered model 'ridge_regression' already exists. Creating a new version of this model...\n",
      "2025/07/15 17:01:32 INFO mlflow.store.model_registry.abstract_store: Waiting up to 300 seconds for model version to finish creation. Model name: ridge_regression, version 3\n"
     ]
    },
    {
     "name": "stdout",
     "output_type": "stream",
     "text": [
      "🏃 View run ridge_regression at: http://192.168.178.84:5001/#/experiments/2/runs/96f695f0bb5d467d93094de0e037c5d1\n",
      "🧪 View experiment at: http://192.168.178.84:5001/#/experiments/2\n"
     ]
    },
    {
     "name": "stderr",
     "output_type": "stream",
     "text": [
      "Created version '3' of model 'ridge_regression'.\n"
     ]
    }
   ],
   "execution_count": 67
  },
  {
   "metadata": {
    "ExecuteTime": {
     "end_time": "2025-07-15T15:01:32.314661Z",
     "start_time": "2025-07-15T15:01:32.298938Z"
    }
   },
   "cell_type": "code",
   "source": [
    "with open('models/ridge.bin', 'wb') as f_out:\n",
    "    pickle.dump((dv, lr), f_out)\n",
    "#mlflow.log_artifact(local_path=\"models/ridge.bin\", #artifact_path=\"models_pickle\")\n",
    "#Purpose\n",
    "\n",
    "#A low‐level API for uploading any file you like (logs, plots, custom binary blobs, pickles, etc.) into the run’s artifact store.\n",
    "\n",
    "#It does not wrap it in a standardized “MLmodel” directory or register it—it just copies the file.\n",
    "\n"
   ],
   "id": "b51057cbcb6f46b7",
   "outputs": [],
   "execution_count": 68
  },
  {
   "metadata": {
    "ExecuteTime": {
     "end_time": "2025-07-15T15:01:32.379098Z",
     "start_time": "2025-07-15T15:01:32.376568Z"
    }
   },
   "cell_type": "code",
   "source": "",
   "id": "eda2239090e842a9",
   "outputs": [],
   "execution_count": null
  },
  {
   "metadata": {
    "ExecuteTime": {
     "end_time": "2025-07-18T10:59:50.831038Z",
     "start_time": "2025-07-18T10:59:50.567650Z"
    }
   },
   "cell_type": "code",
   "source": [
    "import xgboost as xgb\n",
    "from hyperopt import fmin, tpe, hp, STATUS_OK, Trials\n",
    "from hyperopt.pyll import scope"
   ],
   "id": "23f8557047e870d6",
   "outputs": [],
   "execution_count": 10
  },
  {
   "metadata": {
    "ExecuteTime": {
     "end_time": "2025-07-18T10:59:51.617341Z",
     "start_time": "2025-07-18T10:59:51.613953Z"
    }
   },
   "cell_type": "code",
   "source": [
    "import sklearn, sys\n",
    "print(\"sklearn version:\", sklearn.__version__)\n",
    "print(\"python executable:\", sys.executable)"
   ],
   "id": "16ff6d3a06066332",
   "outputs": [
    {
     "name": "stdout",
     "output_type": "stream",
     "text": [
      "sklearn version: 1.7.0\n",
      "python executable: /opt/homebrew/Caskroom/miniforge/base/envs/mlops_zoomcamp/bin/python\n"
     ]
    }
   ],
   "execution_count": 11
  },
  {
   "metadata": {
    "ExecuteTime": {
     "end_time": "2025-07-18T10:50:13.697178Z",
     "start_time": "2025-07-18T10:50:13.603795Z"
    }
   },
   "cell_type": "code",
   "source": [
    "train = xgb.DMatrix(X_train, label=y_train)\n",
    "valid = xgb.DMatrix(X_val, label=y_val)"
   ],
   "id": "a5cc0c96cef4d341",
   "outputs": [
    {
     "ename": "NameError",
     "evalue": "name 'y_val' is not defined",
     "output_type": "error",
     "traceback": [
      "\u001B[0;31m---------------------------------------------------------------------------\u001B[0m",
      "\u001B[0;31mNameError\u001B[0m                                 Traceback (most recent call last)",
      "Cell \u001B[0;32mIn[24], line 2\u001B[0m\n\u001B[1;32m      1\u001B[0m train \u001B[38;5;241m=\u001B[39m xgb\u001B[38;5;241m.\u001B[39mDMatrix(X_train, label\u001B[38;5;241m=\u001B[39my_train)\n\u001B[0;32m----> 2\u001B[0m valid \u001B[38;5;241m=\u001B[39m xgb\u001B[38;5;241m.\u001B[39mDMatrix(X_val, label\u001B[38;5;241m=\u001B[39m\u001B[43my_val\u001B[49m)\n",
      "\u001B[0;31mNameError\u001B[0m: name 'y_val' is not defined"
     ]
    }
   ],
   "execution_count": 24
  },
  {
   "metadata": {
    "ExecuteTime": {
     "end_time": "2025-07-15T15:01:32.568216Z",
     "start_time": "2025-07-15T15:01:32.562821Z"
    }
   },
   "cell_type": "code",
   "source": [
    "def objective(params):\n",
    "    with mlflow.start_run():\n",
    "        mlflow.set_tag(\"model\", \"xgboost\")\n",
    "        mlflow.log_params(params)\n",
    "        booster = xgb.train(\n",
    "            params=params,\n",
    "            dtrain=train,\n",
    "            num_boost_round=1000,\n",
    "            evals=[(valid, 'validation')],\n",
    "            early_stopping_rounds=50\n",
    "        )\n",
    "        y_pred = booster.predict(valid)\n",
    "        mse = mean_squared_error(y_val, y_pred)\n",
    "        rmse = np.sqrt(mse)\n",
    "        mae = mean_absolute_error(y_val, y_pred)\n",
    "        r2 = r2_score(y_val, y_pred)\n",
    "        mlflow.log_metric(\"mse\", mse)\n",
    "        mlflow.log_metric(\"rmse\", rmse)\n",
    "        mlflow.log_metric(\"mae\", mae)\n",
    "        mlflow.log_metric(\"R²\", r2)\n",
    "\n",
    "    return {'loss': rmse, 'status': STATUS_OK}"
   ],
   "id": "d80b440fa1e7d598",
   "outputs": [],
   "execution_count": 72
  },
  {
   "metadata": {
    "ExecuteTime": {
     "end_time": "2025-07-15T15:01:32.605344Z",
     "start_time": "2025-07-15T15:01:32.599556Z"
    }
   },
   "cell_type": "code",
   "source": [
    "search_space = {\n",
    "    'max_depth': scope.int(hp.quniform('max_depth', 4, 100, 1)),\n",
    "    'learning_rate': hp.loguniform('learning_rate', -3, 0), # exp(-3), exp(0) - [0.05, 1]\n",
    "    'reg_alpha': hp.loguniform('reg_alpha', -5, -1),\n",
    "    'reg_lambda': hp.loguniform('reg_lambda', -6, -1),\n",
    "    'min_child_weight': hp.loguniform('min_child_weight', -1, 3),\n",
    "    'objective': 'reg:linear',\n",
    "    'seed': 42\n",
    "}\n",
    "#The ranges in which we want hyperopt to explore the hyperparameters\n",
    "#https://hyperopt.github.io/hyperopt/getting-started/search_spaces/\n",
    "\n",
    "#best_result = fmin(\n",
    "#    fn=objective, #fmin will try to optimize the given objective by minimizing the output\n",
    "#    space=search_space,\n",
    "#    algo=tpe.suggest, #algorithm to run the optimization\n",
    "#    max_evals=50,\n",
    "#    trials=Trials()# informatiuon for each run stored in tirals\n",
    "#)"
   ],
   "id": "ddbad1ceb79ac9ca",
   "outputs": [],
   "execution_count": 73
  },
  {
   "metadata": {
    "ExecuteTime": {
     "end_time": "2025-07-15T15:01:32.684889Z",
     "start_time": "2025-07-15T15:01:32.682Z"
    }
   },
   "cell_type": "code",
   "source": "mlflow.xgboost.autolog(disable=True)",
   "id": "bffbfcb5b4f5cfa1",
   "outputs": [],
   "execution_count": 74
  },
  {
   "metadata": {
    "ExecuteTime": {
     "end_time": "2025-07-15T15:03:06.211574Z",
     "start_time": "2025-07-15T15:01:32.718730Z"
    }
   },
   "cell_type": "code",
   "source": [
    "with mlflow.start_run():\n",
    "\n",
    "    train = xgb.DMatrix(X_train, label=y_train)\n",
    "    valid = xgb.DMatrix(X_val, label=y_val)\n",
    "\n",
    "    best_params = {\n",
    "        'learning_rate': 0.09585355369315604,\n",
    "        'max_depth': 30,\n",
    "        'min_child_weight': 1.060597050922164,\n",
    "        'objective': 'reg:linear',\n",
    "        'reg_alpha': 0.018060244040060163,\n",
    "        'reg_lambda': 0.011658731377413597,\n",
    "        'seed': 42\n",
    "    }\n",
    "\n",
    "    mlflow.log_params(best_params)\n",
    "\n",
    "    booster = xgb.train(\n",
    "        params=best_params,\n",
    "        dtrain=train,\n",
    "        num_boost_round=1000,\n",
    "        evals=[(valid, 'validation')],\n",
    "        early_stopping_rounds=50\n",
    "    )\n",
    "\n",
    "    y_pred = booster.predict(valid)\n",
    "    mse = mean_squared_error(y_val, y_pred)\n",
    "    rmse = np.sqrt(mse)\n",
    "    mae = mean_absolute_error(y_val, y_pred)\n",
    "    r2 = r2_score(y_val, y_pred)\n",
    "    mlflow.log_metric(\"mse\", mse)\n",
    "    mlflow.log_metric(\"rmse\", rmse)\n",
    "    mlflow.log_metric(\"mae\", mae)\n",
    "    mlflow.log_metric(\"R²\", r2)\n",
    "\n",
    "    with open(\"models/preprocessor.b\", \"wb\") as f_out:\n",
    "        pickle.dump(dv, f_out)\n",
    "mlflow.log_artifact(\"models/preprocessor.b\", artifact_path=\"preprocessor\")\n",
    "\n",
    "mlflow.xgboost.log_model(booster, artifact_path=\"xgboost_model\")"
   ],
   "id": "54239ac87c83da24",
   "outputs": [
    {
     "name": "stderr",
     "output_type": "stream",
     "text": [
      "/opt/homebrew/Caskroom/miniforge/base/envs/mlops_zoomcamp/lib/python3.10/site-packages/xgboost/callback.py:386: UserWarning: [17:01:32] WARNING: /Users/runner/work/xgboost/xgboost/src/objective/regression_obj.cu:250: reg:linear is now deprecated in favor of reg:squarederror.\n",
      "  self.starting_round = model.num_boosted_rounds()\n"
     ]
    },
    {
     "name": "stdout",
     "output_type": "stream",
     "text": [
      "[0]\tvalidation-rmse:11.44482\n",
      "[1]\tvalidation-rmse:10.77202\n",
      "[2]\tvalidation-rmse:10.18363\n",
      "[3]\tvalidation-rmse:9.67396\n",
      "[4]\tvalidation-rmse:9.23166\n",
      "[5]\tvalidation-rmse:8.84808\n",
      "[6]\tvalidation-rmse:8.51883\n",
      "[7]\tvalidation-rmse:8.23597\n",
      "[8]\tvalidation-rmse:7.99320\n",
      "[9]\tvalidation-rmse:7.78709\n",
      "[10]\tvalidation-rmse:7.61022\n",
      "[11]\tvalidation-rmse:7.45952\n",
      "[12]\tvalidation-rmse:7.33049\n",
      "[13]\tvalidation-rmse:7.22098\n",
      "[14]\tvalidation-rmse:7.12713\n",
      "[15]\tvalidation-rmse:7.04752\n",
      "[16]\tvalidation-rmse:6.98005\n",
      "[17]\tvalidation-rmse:6.92232\n",
      "[18]\tvalidation-rmse:6.87112\n",
      "[19]\tvalidation-rmse:6.82740\n",
      "[20]\tvalidation-rmse:6.78995\n",
      "[21]\tvalidation-rmse:6.75792\n",
      "[22]\tvalidation-rmse:6.72994\n",
      "[23]\tvalidation-rmse:6.70547\n",
      "[24]\tvalidation-rmse:6.68390\n",
      "[25]\tvalidation-rmse:6.66421\n",
      "[26]\tvalidation-rmse:6.64806\n",
      "[27]\tvalidation-rmse:6.63280\n",
      "[28]\tvalidation-rmse:6.61924\n",
      "[29]\tvalidation-rmse:6.60773\n",
      "[30]\tvalidation-rmse:6.59777\n",
      "[31]\tvalidation-rmse:6.58875\n",
      "[32]\tvalidation-rmse:6.58107\n",
      "[33]\tvalidation-rmse:6.57217\n",
      "[34]\tvalidation-rmse:6.56557\n",
      "[35]\tvalidation-rmse:6.56003\n",
      "[36]\tvalidation-rmse:6.55392\n",
      "[37]\tvalidation-rmse:6.54924\n",
      "[38]\tvalidation-rmse:6.54536\n",
      "[39]\tvalidation-rmse:6.54187\n",
      "[40]\tvalidation-rmse:6.53873\n",
      "[41]\tvalidation-rmse:6.53518\n",
      "[42]\tvalidation-rmse:6.53287\n",
      "[43]\tvalidation-rmse:6.53048\n",
      "[44]\tvalidation-rmse:6.52858\n",
      "[45]\tvalidation-rmse:6.52703\n",
      "[46]\tvalidation-rmse:6.52566\n",
      "[47]\tvalidation-rmse:6.52419\n",
      "[48]\tvalidation-rmse:6.52323\n",
      "[49]\tvalidation-rmse:6.52265\n",
      "[50]\tvalidation-rmse:6.52202\n",
      "[51]\tvalidation-rmse:6.52036\n",
      "[52]\tvalidation-rmse:6.52003\n",
      "[53]\tvalidation-rmse:6.51962\n",
      "[54]\tvalidation-rmse:6.51829\n",
      "[55]\tvalidation-rmse:6.51712\n",
      "[56]\tvalidation-rmse:6.51598\n",
      "[57]\tvalidation-rmse:6.51517\n",
      "[58]\tvalidation-rmse:6.51442\n",
      "[59]\tvalidation-rmse:6.51357\n",
      "[60]\tvalidation-rmse:6.51194\n",
      "[61]\tvalidation-rmse:6.51127\n",
      "[62]\tvalidation-rmse:6.51044\n",
      "[63]\tvalidation-rmse:6.50930\n",
      "[64]\tvalidation-rmse:6.50840\n",
      "[65]\tvalidation-rmse:6.50731\n",
      "[66]\tvalidation-rmse:6.50635\n",
      "[67]\tvalidation-rmse:6.50566\n",
      "[68]\tvalidation-rmse:6.50458\n",
      "[69]\tvalidation-rmse:6.50339\n",
      "[70]\tvalidation-rmse:6.50239\n",
      "[71]\tvalidation-rmse:6.50137\n",
      "[72]\tvalidation-rmse:6.50014\n",
      "[73]\tvalidation-rmse:6.49940\n",
      "[74]\tvalidation-rmse:6.49835\n",
      "[75]\tvalidation-rmse:6.49782\n",
      "[76]\tvalidation-rmse:6.49697\n",
      "[77]\tvalidation-rmse:6.49628\n",
      "[78]\tvalidation-rmse:6.49561\n",
      "[79]\tvalidation-rmse:6.49495\n",
      "[80]\tvalidation-rmse:6.49429\n",
      "[81]\tvalidation-rmse:6.49371\n",
      "[82]\tvalidation-rmse:6.49317\n",
      "[83]\tvalidation-rmse:6.49248\n",
      "[84]\tvalidation-rmse:6.49170\n",
      "[85]\tvalidation-rmse:6.49080\n",
      "[86]\tvalidation-rmse:6.49020\n",
      "[87]\tvalidation-rmse:6.48927\n",
      "[88]\tvalidation-rmse:6.48842\n",
      "[89]\tvalidation-rmse:6.48717\n",
      "[90]\tvalidation-rmse:6.48666\n",
      "[91]\tvalidation-rmse:6.48608\n",
      "[92]\tvalidation-rmse:6.48531\n",
      "[93]\tvalidation-rmse:6.48457\n",
      "[94]\tvalidation-rmse:6.48376\n",
      "[95]\tvalidation-rmse:6.48304\n",
      "[96]\tvalidation-rmse:6.48246\n",
      "[97]\tvalidation-rmse:6.48113\n",
      "[98]\tvalidation-rmse:6.48052\n",
      "[99]\tvalidation-rmse:6.47984\n",
      "[100]\tvalidation-rmse:6.47922\n",
      "[101]\tvalidation-rmse:6.47886\n",
      "[102]\tvalidation-rmse:6.47819\n",
      "[103]\tvalidation-rmse:6.47742\n",
      "[104]\tvalidation-rmse:6.47685\n",
      "[105]\tvalidation-rmse:6.47643\n",
      "[106]\tvalidation-rmse:6.47616\n",
      "[107]\tvalidation-rmse:6.47583\n",
      "[108]\tvalidation-rmse:6.47530\n",
      "[109]\tvalidation-rmse:6.47479\n",
      "[110]\tvalidation-rmse:6.47409\n",
      "[111]\tvalidation-rmse:6.47339\n",
      "[112]\tvalidation-rmse:6.47296\n",
      "[113]\tvalidation-rmse:6.47250\n",
      "[114]\tvalidation-rmse:6.47148\n",
      "[115]\tvalidation-rmse:6.47089\n",
      "[116]\tvalidation-rmse:6.47037\n",
      "[117]\tvalidation-rmse:6.46947\n",
      "[118]\tvalidation-rmse:6.46907\n",
      "[119]\tvalidation-rmse:6.46840\n",
      "[120]\tvalidation-rmse:6.46749\n",
      "[121]\tvalidation-rmse:6.46701\n",
      "[122]\tvalidation-rmse:6.46612\n",
      "[123]\tvalidation-rmse:6.46538\n",
      "[124]\tvalidation-rmse:6.46467\n",
      "[125]\tvalidation-rmse:6.46413\n",
      "[126]\tvalidation-rmse:6.46350\n",
      "[127]\tvalidation-rmse:6.46265\n",
      "[128]\tvalidation-rmse:6.46225\n",
      "[129]\tvalidation-rmse:6.46169\n",
      "[130]\tvalidation-rmse:6.46065\n",
      "[131]\tvalidation-rmse:6.46022\n",
      "[132]\tvalidation-rmse:6.45980\n",
      "[133]\tvalidation-rmse:6.45918\n",
      "[134]\tvalidation-rmse:6.45844\n",
      "[135]\tvalidation-rmse:6.45802\n",
      "[136]\tvalidation-rmse:6.45783\n",
      "[137]\tvalidation-rmse:6.45746\n",
      "[138]\tvalidation-rmse:6.45661\n",
      "[139]\tvalidation-rmse:6.45619\n",
      "[140]\tvalidation-rmse:6.45566\n",
      "[141]\tvalidation-rmse:6.45554\n",
      "[142]\tvalidation-rmse:6.45487\n",
      "[143]\tvalidation-rmse:6.45461\n",
      "[144]\tvalidation-rmse:6.45411\n",
      "[145]\tvalidation-rmse:6.45325\n",
      "[146]\tvalidation-rmse:6.45278\n",
      "[147]\tvalidation-rmse:6.45215\n",
      "[148]\tvalidation-rmse:6.45174\n",
      "[149]\tvalidation-rmse:6.45146\n",
      "[150]\tvalidation-rmse:6.45113\n",
      "[151]\tvalidation-rmse:6.45076\n",
      "[152]\tvalidation-rmse:6.45012\n",
      "[153]\tvalidation-rmse:6.44965\n",
      "[154]\tvalidation-rmse:6.44905\n",
      "[155]\tvalidation-rmse:6.44872\n",
      "[156]\tvalidation-rmse:6.44825\n",
      "[157]\tvalidation-rmse:6.44792\n",
      "[158]\tvalidation-rmse:6.44743\n",
      "[159]\tvalidation-rmse:6.44671\n",
      "[160]\tvalidation-rmse:6.44616\n",
      "[161]\tvalidation-rmse:6.44562\n",
      "[162]\tvalidation-rmse:6.44503\n",
      "[163]\tvalidation-rmse:6.44434\n",
      "[164]\tvalidation-rmse:6.44399\n",
      "[165]\tvalidation-rmse:6.44339\n",
      "[166]\tvalidation-rmse:6.44303\n",
      "[167]\tvalidation-rmse:6.44260\n",
      "[168]\tvalidation-rmse:6.44207\n",
      "[169]\tvalidation-rmse:6.44173\n",
      "[170]\tvalidation-rmse:6.44107\n",
      "[171]\tvalidation-rmse:6.44068\n",
      "[172]\tvalidation-rmse:6.44007\n",
      "[173]\tvalidation-rmse:6.43964\n",
      "[174]\tvalidation-rmse:6.43918\n",
      "[175]\tvalidation-rmse:6.43883\n",
      "[176]\tvalidation-rmse:6.43842\n",
      "[177]\tvalidation-rmse:6.43803\n",
      "[178]\tvalidation-rmse:6.43759\n",
      "[179]\tvalidation-rmse:6.43714\n",
      "[180]\tvalidation-rmse:6.43676\n",
      "[181]\tvalidation-rmse:6.43644\n",
      "[182]\tvalidation-rmse:6.43605\n",
      "[183]\tvalidation-rmse:6.43571\n",
      "[184]\tvalidation-rmse:6.43527\n",
      "[185]\tvalidation-rmse:6.43489\n",
      "[186]\tvalidation-rmse:6.43435\n",
      "[187]\tvalidation-rmse:6.43408\n",
      "[188]\tvalidation-rmse:6.43376\n",
      "[189]\tvalidation-rmse:6.43360\n",
      "[190]\tvalidation-rmse:6.43347\n",
      "[191]\tvalidation-rmse:6.43343\n",
      "[192]\tvalidation-rmse:6.43284\n",
      "[193]\tvalidation-rmse:6.43259\n",
      "[194]\tvalidation-rmse:6.43222\n",
      "[195]\tvalidation-rmse:6.43187\n",
      "[196]\tvalidation-rmse:6.43157\n",
      "[197]\tvalidation-rmse:6.43102\n",
      "[198]\tvalidation-rmse:6.43084\n",
      "[199]\tvalidation-rmse:6.43085\n",
      "[200]\tvalidation-rmse:6.43072\n",
      "[201]\tvalidation-rmse:6.43048\n",
      "[202]\tvalidation-rmse:6.43004\n",
      "[203]\tvalidation-rmse:6.42961\n",
      "[204]\tvalidation-rmse:6.42896\n",
      "[205]\tvalidation-rmse:6.42861\n",
      "[206]\tvalidation-rmse:6.42831\n",
      "[207]\tvalidation-rmse:6.42808\n",
      "[208]\tvalidation-rmse:6.42801\n",
      "[209]\tvalidation-rmse:6.42755\n",
      "[210]\tvalidation-rmse:6.42700\n",
      "[211]\tvalidation-rmse:6.42653\n",
      "[212]\tvalidation-rmse:6.42617\n",
      "[213]\tvalidation-rmse:6.42564\n",
      "[214]\tvalidation-rmse:6.42532\n",
      "[215]\tvalidation-rmse:6.42478\n",
      "[216]\tvalidation-rmse:6.42448\n",
      "[217]\tvalidation-rmse:6.42402\n",
      "[218]\tvalidation-rmse:6.42359\n",
      "[219]\tvalidation-rmse:6.42338\n",
      "[220]\tvalidation-rmse:6.42298\n",
      "[221]\tvalidation-rmse:6.42271\n",
      "[222]\tvalidation-rmse:6.42247\n",
      "[223]\tvalidation-rmse:6.42197\n",
      "[224]\tvalidation-rmse:6.42171\n",
      "[225]\tvalidation-rmse:6.42122\n",
      "[226]\tvalidation-rmse:6.42061\n",
      "[227]\tvalidation-rmse:6.42051\n",
      "[228]\tvalidation-rmse:6.42004\n",
      "[229]\tvalidation-rmse:6.41970\n",
      "[230]\tvalidation-rmse:6.41931\n",
      "[231]\tvalidation-rmse:6.41891\n",
      "[232]\tvalidation-rmse:6.41880\n",
      "[233]\tvalidation-rmse:6.41871\n",
      "[234]\tvalidation-rmse:6.41846\n",
      "[235]\tvalidation-rmse:6.41782\n",
      "[236]\tvalidation-rmse:6.41750\n",
      "[237]\tvalidation-rmse:6.41718\n",
      "[238]\tvalidation-rmse:6.41680\n",
      "[239]\tvalidation-rmse:6.41642\n",
      "[240]\tvalidation-rmse:6.41611\n",
      "[241]\tvalidation-rmse:6.41599\n",
      "[242]\tvalidation-rmse:6.41567\n",
      "[243]\tvalidation-rmse:6.41528\n",
      "[244]\tvalidation-rmse:6.41504\n",
      "[245]\tvalidation-rmse:6.41465\n",
      "[246]\tvalidation-rmse:6.41431\n",
      "[247]\tvalidation-rmse:6.41400\n",
      "[248]\tvalidation-rmse:6.41364\n",
      "[249]\tvalidation-rmse:6.41342\n",
      "[250]\tvalidation-rmse:6.41328\n",
      "[251]\tvalidation-rmse:6.41325\n",
      "[252]\tvalidation-rmse:6.41308\n",
      "[253]\tvalidation-rmse:6.41279\n",
      "[254]\tvalidation-rmse:6.41259\n",
      "[255]\tvalidation-rmse:6.41198\n",
      "[256]\tvalidation-rmse:6.41179\n",
      "[257]\tvalidation-rmse:6.41155\n",
      "[258]\tvalidation-rmse:6.41131\n",
      "[259]\tvalidation-rmse:6.41075\n",
      "[260]\tvalidation-rmse:6.41055\n",
      "[261]\tvalidation-rmse:6.41016\n",
      "[262]\tvalidation-rmse:6.41002\n",
      "[263]\tvalidation-rmse:6.41006\n",
      "[264]\tvalidation-rmse:6.40985\n",
      "[265]\tvalidation-rmse:6.40970\n",
      "[266]\tvalidation-rmse:6.40951\n",
      "[267]\tvalidation-rmse:6.40926\n",
      "[268]\tvalidation-rmse:6.40903\n",
      "[269]\tvalidation-rmse:6.40865\n",
      "[270]\tvalidation-rmse:6.40830\n",
      "[271]\tvalidation-rmse:6.40805\n",
      "[272]\tvalidation-rmse:6.40790\n",
      "[273]\tvalidation-rmse:6.40767\n",
      "[274]\tvalidation-rmse:6.40749\n",
      "[275]\tvalidation-rmse:6.40734\n",
      "[276]\tvalidation-rmse:6.40696\n",
      "[277]\tvalidation-rmse:6.40666\n",
      "[278]\tvalidation-rmse:6.40632\n",
      "[279]\tvalidation-rmse:6.40581\n",
      "[280]\tvalidation-rmse:6.40552\n",
      "[281]\tvalidation-rmse:6.40505\n",
      "[282]\tvalidation-rmse:6.40472\n",
      "[283]\tvalidation-rmse:6.40449\n",
      "[284]\tvalidation-rmse:6.40420\n",
      "[285]\tvalidation-rmse:6.40377\n",
      "[286]\tvalidation-rmse:6.40347\n",
      "[287]\tvalidation-rmse:6.40305\n",
      "[288]\tvalidation-rmse:6.40283\n",
      "[289]\tvalidation-rmse:6.40268\n",
      "[290]\tvalidation-rmse:6.40245\n",
      "[291]\tvalidation-rmse:6.40219\n",
      "[292]\tvalidation-rmse:6.40207\n",
      "[293]\tvalidation-rmse:6.40178\n",
      "[294]\tvalidation-rmse:6.40135\n",
      "[295]\tvalidation-rmse:6.40101\n",
      "[296]\tvalidation-rmse:6.40064\n",
      "[297]\tvalidation-rmse:6.40041\n",
      "[298]\tvalidation-rmse:6.40004\n",
      "[299]\tvalidation-rmse:6.39995\n",
      "[300]\tvalidation-rmse:6.39958\n",
      "[301]\tvalidation-rmse:6.39939\n",
      "[302]\tvalidation-rmse:6.39900\n",
      "[303]\tvalidation-rmse:6.39883\n",
      "[304]\tvalidation-rmse:6.39869\n",
      "[305]\tvalidation-rmse:6.39846\n",
      "[306]\tvalidation-rmse:6.39837\n",
      "[307]\tvalidation-rmse:6.39819\n",
      "[308]\tvalidation-rmse:6.39793\n",
      "[309]\tvalidation-rmse:6.39771\n",
      "[310]\tvalidation-rmse:6.39720\n",
      "[311]\tvalidation-rmse:6.39687\n",
      "[312]\tvalidation-rmse:6.39660\n",
      "[313]\tvalidation-rmse:6.39603\n",
      "[314]\tvalidation-rmse:6.39590\n",
      "[315]\tvalidation-rmse:6.39579\n",
      "[316]\tvalidation-rmse:6.39557\n",
      "[317]\tvalidation-rmse:6.39519\n",
      "[318]\tvalidation-rmse:6.39501\n",
      "[319]\tvalidation-rmse:6.39472\n",
      "[320]\tvalidation-rmse:6.39456\n",
      "[321]\tvalidation-rmse:6.39437\n",
      "[322]\tvalidation-rmse:6.39419\n",
      "[323]\tvalidation-rmse:6.39385\n",
      "[324]\tvalidation-rmse:6.39350\n",
      "[325]\tvalidation-rmse:6.39331\n",
      "[326]\tvalidation-rmse:6.39326\n",
      "[327]\tvalidation-rmse:6.39311\n",
      "[328]\tvalidation-rmse:6.39315\n",
      "[329]\tvalidation-rmse:6.39302\n",
      "[330]\tvalidation-rmse:6.39281\n",
      "[331]\tvalidation-rmse:6.39274\n",
      "[332]\tvalidation-rmse:6.39254\n",
      "[333]\tvalidation-rmse:6.39242\n",
      "[334]\tvalidation-rmse:6.39193\n",
      "[335]\tvalidation-rmse:6.39169\n",
      "[336]\tvalidation-rmse:6.39148\n",
      "[337]\tvalidation-rmse:6.39136\n",
      "[338]\tvalidation-rmse:6.39108\n",
      "[339]\tvalidation-rmse:6.39103\n",
      "[340]\tvalidation-rmse:6.39079\n",
      "[341]\tvalidation-rmse:6.39058\n",
      "[342]\tvalidation-rmse:6.39045\n",
      "[343]\tvalidation-rmse:6.39022\n",
      "[344]\tvalidation-rmse:6.39024\n",
      "[345]\tvalidation-rmse:6.39007\n",
      "[346]\tvalidation-rmse:6.39002\n",
      "[347]\tvalidation-rmse:6.38999\n",
      "[348]\tvalidation-rmse:6.38977\n",
      "[349]\tvalidation-rmse:6.38951\n",
      "[350]\tvalidation-rmse:6.38951\n",
      "[351]\tvalidation-rmse:6.38944\n",
      "[352]\tvalidation-rmse:6.38923\n",
      "[353]\tvalidation-rmse:6.38903\n",
      "[354]\tvalidation-rmse:6.38885\n",
      "[355]\tvalidation-rmse:6.38867\n",
      "[356]\tvalidation-rmse:6.38856\n",
      "[357]\tvalidation-rmse:6.38845\n",
      "[358]\tvalidation-rmse:6.38818\n",
      "[359]\tvalidation-rmse:6.38787\n",
      "[360]\tvalidation-rmse:6.38751\n",
      "[361]\tvalidation-rmse:6.38704\n",
      "[362]\tvalidation-rmse:6.38673\n",
      "[363]\tvalidation-rmse:6.38648\n",
      "[364]\tvalidation-rmse:6.38626\n",
      "[365]\tvalidation-rmse:6.38610\n",
      "[366]\tvalidation-rmse:6.38573\n",
      "[367]\tvalidation-rmse:6.38525\n",
      "[368]\tvalidation-rmse:6.38505\n",
      "[369]\tvalidation-rmse:6.38483\n",
      "[370]\tvalidation-rmse:6.38457\n",
      "[371]\tvalidation-rmse:6.38450\n",
      "[372]\tvalidation-rmse:6.38420\n",
      "[373]\tvalidation-rmse:6.38398\n",
      "[374]\tvalidation-rmse:6.38392\n",
      "[375]\tvalidation-rmse:6.38368\n",
      "[376]\tvalidation-rmse:6.38342\n",
      "[377]\tvalidation-rmse:6.38321\n",
      "[378]\tvalidation-rmse:6.38318\n",
      "[379]\tvalidation-rmse:6.38285\n",
      "[380]\tvalidation-rmse:6.38258\n",
      "[381]\tvalidation-rmse:6.38225\n",
      "[382]\tvalidation-rmse:6.38211\n",
      "[383]\tvalidation-rmse:6.38171\n",
      "[384]\tvalidation-rmse:6.38155\n",
      "[385]\tvalidation-rmse:6.38138\n",
      "[386]\tvalidation-rmse:6.38110\n",
      "[387]\tvalidation-rmse:6.38089\n",
      "[388]\tvalidation-rmse:6.38071\n",
      "[389]\tvalidation-rmse:6.38059\n",
      "[390]\tvalidation-rmse:6.38023\n",
      "[391]\tvalidation-rmse:6.38004\n",
      "[392]\tvalidation-rmse:6.37982\n",
      "[393]\tvalidation-rmse:6.37962\n",
      "[394]\tvalidation-rmse:6.37968\n",
      "[395]\tvalidation-rmse:6.37956\n",
      "[396]\tvalidation-rmse:6.37937\n",
      "[397]\tvalidation-rmse:6.37885\n",
      "[398]\tvalidation-rmse:6.37864\n",
      "[399]\tvalidation-rmse:6.37815\n",
      "[400]\tvalidation-rmse:6.37803\n",
      "[401]\tvalidation-rmse:6.37778\n",
      "[402]\tvalidation-rmse:6.37749\n",
      "[403]\tvalidation-rmse:6.37731\n",
      "[404]\tvalidation-rmse:6.37712\n",
      "[405]\tvalidation-rmse:6.37698\n",
      "[406]\tvalidation-rmse:6.37677\n",
      "[407]\tvalidation-rmse:6.37658\n",
      "[408]\tvalidation-rmse:6.37647\n",
      "[409]\tvalidation-rmse:6.37631\n",
      "[410]\tvalidation-rmse:6.37617\n",
      "[411]\tvalidation-rmse:6.37575\n",
      "[412]\tvalidation-rmse:6.37566\n",
      "[413]\tvalidation-rmse:6.37556\n",
      "[414]\tvalidation-rmse:6.37533\n",
      "[415]\tvalidation-rmse:6.37538\n",
      "[416]\tvalidation-rmse:6.37541\n",
      "[417]\tvalidation-rmse:6.37530\n",
      "[418]\tvalidation-rmse:6.37511\n",
      "[419]\tvalidation-rmse:6.37512\n",
      "[420]\tvalidation-rmse:6.37496\n",
      "[421]\tvalidation-rmse:6.37483\n",
      "[422]\tvalidation-rmse:6.37478\n",
      "[423]\tvalidation-rmse:6.37466\n",
      "[424]\tvalidation-rmse:6.37440\n",
      "[425]\tvalidation-rmse:6.37416\n",
      "[426]\tvalidation-rmse:6.37387\n",
      "[427]\tvalidation-rmse:6.37384\n",
      "[428]\tvalidation-rmse:6.37367\n",
      "[429]\tvalidation-rmse:6.37357\n",
      "[430]\tvalidation-rmse:6.37345\n",
      "[431]\tvalidation-rmse:6.37330\n",
      "[432]\tvalidation-rmse:6.37293\n",
      "[433]\tvalidation-rmse:6.37265\n",
      "[434]\tvalidation-rmse:6.37245\n",
      "[435]\tvalidation-rmse:6.37236\n",
      "[436]\tvalidation-rmse:6.37233\n",
      "[437]\tvalidation-rmse:6.37222\n",
      "[438]\tvalidation-rmse:6.37221\n",
      "[439]\tvalidation-rmse:6.37218\n",
      "[440]\tvalidation-rmse:6.37198\n",
      "[441]\tvalidation-rmse:6.37195\n",
      "[442]\tvalidation-rmse:6.37190\n",
      "[443]\tvalidation-rmse:6.37189\n",
      "[444]\tvalidation-rmse:6.37171\n",
      "[445]\tvalidation-rmse:6.37159\n",
      "[446]\tvalidation-rmse:6.37148\n",
      "[447]\tvalidation-rmse:6.37152\n",
      "[448]\tvalidation-rmse:6.37128\n",
      "[449]\tvalidation-rmse:6.37125\n",
      "[450]\tvalidation-rmse:6.37110\n",
      "[451]\tvalidation-rmse:6.37086\n",
      "[452]\tvalidation-rmse:6.37067\n",
      "[453]\tvalidation-rmse:6.37035\n",
      "[454]\tvalidation-rmse:6.37019\n",
      "[455]\tvalidation-rmse:6.36995\n",
      "[456]\tvalidation-rmse:6.36964\n",
      "[457]\tvalidation-rmse:6.36935\n",
      "[458]\tvalidation-rmse:6.36895\n",
      "[459]\tvalidation-rmse:6.36883\n",
      "[460]\tvalidation-rmse:6.36862\n",
      "[461]\tvalidation-rmse:6.36842\n",
      "[462]\tvalidation-rmse:6.36826\n",
      "[463]\tvalidation-rmse:6.36789\n",
      "[464]\tvalidation-rmse:6.36769\n",
      "[465]\tvalidation-rmse:6.36769\n",
      "[466]\tvalidation-rmse:6.36764\n",
      "[467]\tvalidation-rmse:6.36735\n",
      "[468]\tvalidation-rmse:6.36717\n",
      "[469]\tvalidation-rmse:6.36706\n",
      "[470]\tvalidation-rmse:6.36690\n",
      "[471]\tvalidation-rmse:6.36676\n",
      "[472]\tvalidation-rmse:6.36671\n",
      "[473]\tvalidation-rmse:6.36656\n",
      "[474]\tvalidation-rmse:6.36627\n",
      "[475]\tvalidation-rmse:6.36626\n",
      "[476]\tvalidation-rmse:6.36614\n",
      "[477]\tvalidation-rmse:6.36595\n",
      "[478]\tvalidation-rmse:6.36597\n",
      "[479]\tvalidation-rmse:6.36584\n",
      "[480]\tvalidation-rmse:6.36566\n",
      "[481]\tvalidation-rmse:6.36531\n",
      "[482]\tvalidation-rmse:6.36523\n",
      "[483]\tvalidation-rmse:6.36517\n",
      "[484]\tvalidation-rmse:6.36487\n",
      "[485]\tvalidation-rmse:6.36472\n",
      "[486]\tvalidation-rmse:6.36459\n",
      "[487]\tvalidation-rmse:6.36439\n",
      "[488]\tvalidation-rmse:6.36424\n",
      "[489]\tvalidation-rmse:6.36401\n",
      "[490]\tvalidation-rmse:6.36386\n",
      "[491]\tvalidation-rmse:6.36369\n",
      "[492]\tvalidation-rmse:6.36348\n",
      "[493]\tvalidation-rmse:6.36316\n",
      "[494]\tvalidation-rmse:6.36311\n",
      "[495]\tvalidation-rmse:6.36313\n",
      "[496]\tvalidation-rmse:6.36295\n",
      "[497]\tvalidation-rmse:6.36292\n",
      "[498]\tvalidation-rmse:6.36283\n",
      "[499]\tvalidation-rmse:6.36268\n",
      "[500]\tvalidation-rmse:6.36237\n",
      "[501]\tvalidation-rmse:6.36220\n",
      "[502]\tvalidation-rmse:6.36207\n",
      "[503]\tvalidation-rmse:6.36177\n",
      "[504]\tvalidation-rmse:6.36172\n",
      "[505]\tvalidation-rmse:6.36153\n",
      "[506]\tvalidation-rmse:6.36143\n",
      "[507]\tvalidation-rmse:6.36129\n",
      "[508]\tvalidation-rmse:6.36116\n",
      "[509]\tvalidation-rmse:6.36092\n",
      "[510]\tvalidation-rmse:6.36073\n",
      "[511]\tvalidation-rmse:6.36044\n",
      "[512]\tvalidation-rmse:6.36036\n",
      "[513]\tvalidation-rmse:6.36024\n",
      "[514]\tvalidation-rmse:6.36008\n",
      "[515]\tvalidation-rmse:6.36008\n",
      "[516]\tvalidation-rmse:6.35995\n",
      "[517]\tvalidation-rmse:6.36001\n",
      "[518]\tvalidation-rmse:6.35985\n",
      "[519]\tvalidation-rmse:6.35968\n",
      "[520]\tvalidation-rmse:6.35961\n",
      "[521]\tvalidation-rmse:6.35962\n",
      "[522]\tvalidation-rmse:6.35963\n",
      "[523]\tvalidation-rmse:6.35945\n",
      "[524]\tvalidation-rmse:6.35932\n",
      "[525]\tvalidation-rmse:6.35923\n",
      "[526]\tvalidation-rmse:6.35909\n",
      "[527]\tvalidation-rmse:6.35908\n",
      "[528]\tvalidation-rmse:6.35911\n",
      "[529]\tvalidation-rmse:6.35892\n",
      "[530]\tvalidation-rmse:6.35873\n",
      "[531]\tvalidation-rmse:6.35860\n",
      "[532]\tvalidation-rmse:6.35828\n",
      "[533]\tvalidation-rmse:6.35824\n",
      "[534]\tvalidation-rmse:6.35805\n",
      "[535]\tvalidation-rmse:6.35791\n",
      "[536]\tvalidation-rmse:6.35774\n",
      "[537]\tvalidation-rmse:6.35752\n",
      "[538]\tvalidation-rmse:6.35727\n",
      "[539]\tvalidation-rmse:6.35711\n",
      "[540]\tvalidation-rmse:6.35700\n",
      "[541]\tvalidation-rmse:6.35692\n",
      "[542]\tvalidation-rmse:6.35679\n",
      "[543]\tvalidation-rmse:6.35677\n",
      "[544]\tvalidation-rmse:6.35678\n",
      "[545]\tvalidation-rmse:6.35676\n",
      "[546]\tvalidation-rmse:6.35671\n",
      "[547]\tvalidation-rmse:6.35666\n",
      "[548]\tvalidation-rmse:6.35675\n",
      "[549]\tvalidation-rmse:6.35666\n",
      "[550]\tvalidation-rmse:6.35656\n",
      "[551]\tvalidation-rmse:6.35636\n",
      "[552]\tvalidation-rmse:6.35630\n",
      "[553]\tvalidation-rmse:6.35613\n",
      "[554]\tvalidation-rmse:6.35621\n",
      "[555]\tvalidation-rmse:6.35604\n",
      "[556]\tvalidation-rmse:6.35586\n",
      "[557]\tvalidation-rmse:6.35563\n",
      "[558]\tvalidation-rmse:6.35564\n",
      "[559]\tvalidation-rmse:6.35548\n",
      "[560]\tvalidation-rmse:6.35528\n",
      "[561]\tvalidation-rmse:6.35488\n",
      "[562]\tvalidation-rmse:6.35475\n",
      "[563]\tvalidation-rmse:6.35457\n",
      "[564]\tvalidation-rmse:6.35443\n",
      "[565]\tvalidation-rmse:6.35436\n",
      "[566]\tvalidation-rmse:6.35431\n",
      "[567]\tvalidation-rmse:6.35407\n",
      "[568]\tvalidation-rmse:6.35379\n",
      "[569]\tvalidation-rmse:6.35378\n",
      "[570]\tvalidation-rmse:6.35371\n",
      "[571]\tvalidation-rmse:6.35347\n",
      "[572]\tvalidation-rmse:6.35313\n",
      "[573]\tvalidation-rmse:6.35301\n",
      "[574]\tvalidation-rmse:6.35292\n",
      "[575]\tvalidation-rmse:6.35259\n",
      "[576]\tvalidation-rmse:6.35244\n",
      "[577]\tvalidation-rmse:6.35232\n",
      "[578]\tvalidation-rmse:6.35216\n",
      "[579]\tvalidation-rmse:6.35197\n",
      "[580]\tvalidation-rmse:6.35184\n",
      "[581]\tvalidation-rmse:6.35171\n",
      "[582]\tvalidation-rmse:6.35158\n",
      "[583]\tvalidation-rmse:6.35155\n",
      "[584]\tvalidation-rmse:6.35141\n",
      "[585]\tvalidation-rmse:6.35150\n",
      "[586]\tvalidation-rmse:6.35138\n",
      "[587]\tvalidation-rmse:6.35135\n",
      "[588]\tvalidation-rmse:6.35117\n",
      "[589]\tvalidation-rmse:6.35092\n",
      "[590]\tvalidation-rmse:6.35080\n",
      "[591]\tvalidation-rmse:6.35072\n",
      "[592]\tvalidation-rmse:6.35060\n",
      "[593]\tvalidation-rmse:6.35054\n",
      "[594]\tvalidation-rmse:6.35044\n",
      "[595]\tvalidation-rmse:6.35023\n",
      "[596]\tvalidation-rmse:6.35024\n",
      "[597]\tvalidation-rmse:6.35010\n",
      "[598]\tvalidation-rmse:6.34977\n",
      "[599]\tvalidation-rmse:6.34970\n",
      "[600]\tvalidation-rmse:6.34944\n",
      "[601]\tvalidation-rmse:6.34945\n",
      "[602]\tvalidation-rmse:6.34938\n",
      "[603]\tvalidation-rmse:6.34915\n",
      "[604]\tvalidation-rmse:6.34891\n",
      "[605]\tvalidation-rmse:6.34870\n",
      "[606]\tvalidation-rmse:6.34850\n",
      "[607]\tvalidation-rmse:6.34852\n",
      "[608]\tvalidation-rmse:6.34834\n",
      "[609]\tvalidation-rmse:6.34821\n",
      "[610]\tvalidation-rmse:6.34807\n",
      "[611]\tvalidation-rmse:6.34796\n",
      "[612]\tvalidation-rmse:6.34790\n",
      "[613]\tvalidation-rmse:6.34777\n",
      "[614]\tvalidation-rmse:6.34769\n",
      "[615]\tvalidation-rmse:6.34750\n",
      "[616]\tvalidation-rmse:6.34707\n",
      "[617]\tvalidation-rmse:6.34703\n",
      "[618]\tvalidation-rmse:6.34698\n",
      "[619]\tvalidation-rmse:6.34688\n",
      "[620]\tvalidation-rmse:6.34668\n",
      "[621]\tvalidation-rmse:6.34654\n",
      "[622]\tvalidation-rmse:6.34654\n",
      "[623]\tvalidation-rmse:6.34648\n",
      "[624]\tvalidation-rmse:6.34656\n",
      "[625]\tvalidation-rmse:6.34648\n",
      "[626]\tvalidation-rmse:6.34634\n",
      "[627]\tvalidation-rmse:6.34633\n",
      "[628]\tvalidation-rmse:6.34629\n",
      "[629]\tvalidation-rmse:6.34613\n",
      "[630]\tvalidation-rmse:6.34611\n",
      "[631]\tvalidation-rmse:6.34605\n",
      "[632]\tvalidation-rmse:6.34591\n",
      "[633]\tvalidation-rmse:6.34579\n",
      "[634]\tvalidation-rmse:6.34573\n",
      "[635]\tvalidation-rmse:6.34559\n",
      "[636]\tvalidation-rmse:6.34558\n",
      "[637]\tvalidation-rmse:6.34557\n",
      "[638]\tvalidation-rmse:6.34547\n",
      "[639]\tvalidation-rmse:6.34545\n",
      "[640]\tvalidation-rmse:6.34505\n",
      "[641]\tvalidation-rmse:6.34506\n",
      "[642]\tvalidation-rmse:6.34503\n",
      "[643]\tvalidation-rmse:6.34500\n",
      "[644]\tvalidation-rmse:6.34477\n",
      "[645]\tvalidation-rmse:6.34472\n",
      "[646]\tvalidation-rmse:6.34472\n",
      "[647]\tvalidation-rmse:6.34473\n",
      "[648]\tvalidation-rmse:6.34462\n",
      "[649]\tvalidation-rmse:6.34442\n",
      "[650]\tvalidation-rmse:6.34423\n",
      "[651]\tvalidation-rmse:6.34426\n",
      "[652]\tvalidation-rmse:6.34401\n",
      "[653]\tvalidation-rmse:6.34393\n",
      "[654]\tvalidation-rmse:6.34376\n",
      "[655]\tvalidation-rmse:6.34378\n",
      "[656]\tvalidation-rmse:6.34363\n",
      "[657]\tvalidation-rmse:6.34356\n",
      "[658]\tvalidation-rmse:6.34328\n",
      "[659]\tvalidation-rmse:6.34325\n",
      "[660]\tvalidation-rmse:6.34311\n",
      "[661]\tvalidation-rmse:6.34303\n",
      "[662]\tvalidation-rmse:6.34303\n",
      "[663]\tvalidation-rmse:6.34293\n",
      "[664]\tvalidation-rmse:6.34310\n",
      "[665]\tvalidation-rmse:6.34289\n",
      "[666]\tvalidation-rmse:6.34279\n",
      "[667]\tvalidation-rmse:6.34269\n",
      "[668]\tvalidation-rmse:6.34260\n",
      "[669]\tvalidation-rmse:6.34238\n",
      "[670]\tvalidation-rmse:6.34223\n",
      "[671]\tvalidation-rmse:6.34210\n",
      "[672]\tvalidation-rmse:6.34207\n",
      "[673]\tvalidation-rmse:6.34201\n",
      "[674]\tvalidation-rmse:6.34192\n",
      "[675]\tvalidation-rmse:6.34207\n",
      "[676]\tvalidation-rmse:6.34191\n",
      "[677]\tvalidation-rmse:6.34197\n",
      "[678]\tvalidation-rmse:6.34185\n",
      "[679]\tvalidation-rmse:6.34168\n",
      "[680]\tvalidation-rmse:6.34158\n",
      "[681]\tvalidation-rmse:6.34146\n",
      "[682]\tvalidation-rmse:6.34140\n",
      "[683]\tvalidation-rmse:6.34138\n",
      "[684]\tvalidation-rmse:6.34125\n",
      "[685]\tvalidation-rmse:6.34119\n",
      "[686]\tvalidation-rmse:6.34118\n",
      "[687]\tvalidation-rmse:6.34103\n",
      "[688]\tvalidation-rmse:6.34101\n",
      "[689]\tvalidation-rmse:6.34087\n",
      "[690]\tvalidation-rmse:6.34075\n",
      "[691]\tvalidation-rmse:6.34056\n",
      "[692]\tvalidation-rmse:6.34040\n",
      "[693]\tvalidation-rmse:6.34015\n",
      "[694]\tvalidation-rmse:6.34005\n",
      "[695]\tvalidation-rmse:6.33987\n",
      "[696]\tvalidation-rmse:6.33983\n",
      "[697]\tvalidation-rmse:6.33979\n",
      "[698]\tvalidation-rmse:6.33971\n",
      "[699]\tvalidation-rmse:6.33974\n",
      "[700]\tvalidation-rmse:6.33952\n",
      "[701]\tvalidation-rmse:6.33946\n",
      "[702]\tvalidation-rmse:6.33958\n",
      "[703]\tvalidation-rmse:6.33951\n",
      "[704]\tvalidation-rmse:6.33946\n",
      "[705]\tvalidation-rmse:6.33930\n",
      "[706]\tvalidation-rmse:6.33904\n",
      "[707]\tvalidation-rmse:6.33908\n",
      "[708]\tvalidation-rmse:6.33892\n",
      "[709]\tvalidation-rmse:6.33888\n",
      "[710]\tvalidation-rmse:6.33870\n",
      "[711]\tvalidation-rmse:6.33861\n",
      "[712]\tvalidation-rmse:6.33847\n",
      "[713]\tvalidation-rmse:6.33842\n",
      "[714]\tvalidation-rmse:6.33833\n",
      "[715]\tvalidation-rmse:6.33822\n",
      "[716]\tvalidation-rmse:6.33830\n",
      "[717]\tvalidation-rmse:6.33819\n",
      "[718]\tvalidation-rmse:6.33814\n",
      "[719]\tvalidation-rmse:6.33802\n",
      "[720]\tvalidation-rmse:6.33802\n",
      "[721]\tvalidation-rmse:6.33787\n",
      "[722]\tvalidation-rmse:6.33773\n",
      "[723]\tvalidation-rmse:6.33754\n",
      "[724]\tvalidation-rmse:6.33732\n",
      "[725]\tvalidation-rmse:6.33714\n",
      "[726]\tvalidation-rmse:6.33689\n",
      "[727]\tvalidation-rmse:6.33675\n",
      "[728]\tvalidation-rmse:6.33656\n",
      "[729]\tvalidation-rmse:6.33647\n",
      "[730]\tvalidation-rmse:6.33638\n",
      "[731]\tvalidation-rmse:6.33636\n",
      "[732]\tvalidation-rmse:6.33618\n",
      "[733]\tvalidation-rmse:6.33607\n",
      "[734]\tvalidation-rmse:6.33600\n",
      "[735]\tvalidation-rmse:6.33595\n",
      "[736]\tvalidation-rmse:6.33595\n",
      "[737]\tvalidation-rmse:6.33591\n",
      "[738]\tvalidation-rmse:6.33585\n",
      "[739]\tvalidation-rmse:6.33559\n",
      "[740]\tvalidation-rmse:6.33557\n",
      "[741]\tvalidation-rmse:6.33540\n",
      "[742]\tvalidation-rmse:6.33534\n",
      "[743]\tvalidation-rmse:6.33540\n",
      "[744]\tvalidation-rmse:6.33526\n",
      "[745]\tvalidation-rmse:6.33518\n",
      "[746]\tvalidation-rmse:6.33513\n",
      "[747]\tvalidation-rmse:6.33514\n",
      "[748]\tvalidation-rmse:6.33508\n",
      "[749]\tvalidation-rmse:6.33499\n",
      "[750]\tvalidation-rmse:6.33497\n",
      "[751]\tvalidation-rmse:6.33474\n",
      "[752]\tvalidation-rmse:6.33480\n",
      "[753]\tvalidation-rmse:6.33486\n",
      "[754]\tvalidation-rmse:6.33465\n",
      "[755]\tvalidation-rmse:6.33461\n",
      "[756]\tvalidation-rmse:6.33457\n",
      "[757]\tvalidation-rmse:6.33448\n",
      "[758]\tvalidation-rmse:6.33445\n",
      "[759]\tvalidation-rmse:6.33440\n",
      "[760]\tvalidation-rmse:6.33427\n",
      "[761]\tvalidation-rmse:6.33406\n",
      "[762]\tvalidation-rmse:6.33400\n",
      "[763]\tvalidation-rmse:6.33401\n",
      "[764]\tvalidation-rmse:6.33395\n",
      "[765]\tvalidation-rmse:6.33388\n",
      "[766]\tvalidation-rmse:6.33372\n",
      "[767]\tvalidation-rmse:6.33379\n",
      "[768]\tvalidation-rmse:6.33383\n",
      "[769]\tvalidation-rmse:6.33372\n",
      "[770]\tvalidation-rmse:6.33365\n",
      "[771]\tvalidation-rmse:6.33366\n",
      "[772]\tvalidation-rmse:6.33365\n",
      "[773]\tvalidation-rmse:6.33364\n",
      "[774]\tvalidation-rmse:6.33363\n",
      "[775]\tvalidation-rmse:6.33350\n",
      "[776]\tvalidation-rmse:6.33317\n",
      "[777]\tvalidation-rmse:6.33316\n",
      "[778]\tvalidation-rmse:6.33307\n",
      "[779]\tvalidation-rmse:6.33306\n",
      "[780]\tvalidation-rmse:6.33279\n",
      "[781]\tvalidation-rmse:6.33267\n",
      "[782]\tvalidation-rmse:6.33249\n",
      "[783]\tvalidation-rmse:6.33235\n",
      "[784]\tvalidation-rmse:6.33204\n",
      "[785]\tvalidation-rmse:6.33197\n",
      "[786]\tvalidation-rmse:6.33194\n",
      "[787]\tvalidation-rmse:6.33177\n",
      "[788]\tvalidation-rmse:6.33186\n",
      "[789]\tvalidation-rmse:6.33172\n",
      "[790]\tvalidation-rmse:6.33167\n",
      "[791]\tvalidation-rmse:6.33159\n",
      "[792]\tvalidation-rmse:6.33160\n",
      "[793]\tvalidation-rmse:6.33168\n",
      "[794]\tvalidation-rmse:6.33172\n",
      "[795]\tvalidation-rmse:6.33154\n",
      "[796]\tvalidation-rmse:6.33146\n",
      "[797]\tvalidation-rmse:6.33128\n",
      "[798]\tvalidation-rmse:6.33118\n",
      "[799]\tvalidation-rmse:6.33111\n",
      "[800]\tvalidation-rmse:6.33117\n",
      "[801]\tvalidation-rmse:6.33116\n",
      "[802]\tvalidation-rmse:6.33095\n",
      "[803]\tvalidation-rmse:6.33097\n",
      "[804]\tvalidation-rmse:6.33101\n",
      "[805]\tvalidation-rmse:6.33097\n",
      "[806]\tvalidation-rmse:6.33088\n",
      "[807]\tvalidation-rmse:6.33089\n",
      "[808]\tvalidation-rmse:6.33091\n",
      "[809]\tvalidation-rmse:6.33092\n",
      "[810]\tvalidation-rmse:6.33079\n",
      "[811]\tvalidation-rmse:6.33072\n",
      "[812]\tvalidation-rmse:6.33076\n",
      "[813]\tvalidation-rmse:6.33066\n",
      "[814]\tvalidation-rmse:6.33062\n",
      "[815]\tvalidation-rmse:6.33050\n",
      "[816]\tvalidation-rmse:6.33026\n",
      "[817]\tvalidation-rmse:6.33024\n",
      "[818]\tvalidation-rmse:6.33027\n",
      "[819]\tvalidation-rmse:6.33023\n",
      "[820]\tvalidation-rmse:6.33019\n",
      "[821]\tvalidation-rmse:6.33007\n",
      "[822]\tvalidation-rmse:6.32995\n",
      "[823]\tvalidation-rmse:6.32997\n",
      "[824]\tvalidation-rmse:6.32989\n",
      "[825]\tvalidation-rmse:6.32990\n",
      "[826]\tvalidation-rmse:6.32972\n",
      "[827]\tvalidation-rmse:6.32970\n",
      "[828]\tvalidation-rmse:6.32958\n",
      "[829]\tvalidation-rmse:6.32960\n",
      "[830]\tvalidation-rmse:6.32935\n",
      "[831]\tvalidation-rmse:6.32935\n",
      "[832]\tvalidation-rmse:6.32924\n",
      "[833]\tvalidation-rmse:6.32914\n",
      "[834]\tvalidation-rmse:6.32909\n",
      "[835]\tvalidation-rmse:6.32881\n",
      "[836]\tvalidation-rmse:6.32883\n",
      "[837]\tvalidation-rmse:6.32881\n",
      "[838]\tvalidation-rmse:6.32873\n",
      "[839]\tvalidation-rmse:6.32861\n",
      "[840]\tvalidation-rmse:6.32864\n",
      "[841]\tvalidation-rmse:6.32855\n",
      "[842]\tvalidation-rmse:6.32851\n",
      "[843]\tvalidation-rmse:6.32846\n",
      "[844]\tvalidation-rmse:6.32829\n",
      "[845]\tvalidation-rmse:6.32817\n",
      "[846]\tvalidation-rmse:6.32795\n",
      "[847]\tvalidation-rmse:6.32786\n",
      "[848]\tvalidation-rmse:6.32772\n",
      "[849]\tvalidation-rmse:6.32758\n",
      "[850]\tvalidation-rmse:6.32751\n",
      "[851]\tvalidation-rmse:6.32749\n",
      "[852]\tvalidation-rmse:6.32739\n",
      "[853]\tvalidation-rmse:6.32729\n",
      "[854]\tvalidation-rmse:6.32725\n",
      "[855]\tvalidation-rmse:6.32729\n",
      "[856]\tvalidation-rmse:6.32718\n",
      "[857]\tvalidation-rmse:6.32688\n",
      "[858]\tvalidation-rmse:6.32680\n",
      "[859]\tvalidation-rmse:6.32676\n",
      "[860]\tvalidation-rmse:6.32663\n",
      "[861]\tvalidation-rmse:6.32637\n",
      "[862]\tvalidation-rmse:6.32633\n",
      "[863]\tvalidation-rmse:6.32626\n",
      "[864]\tvalidation-rmse:6.32634\n",
      "[865]\tvalidation-rmse:6.32645\n",
      "[866]\tvalidation-rmse:6.32627\n",
      "[867]\tvalidation-rmse:6.32618\n",
      "[868]\tvalidation-rmse:6.32603\n",
      "[869]\tvalidation-rmse:6.32574\n",
      "[870]\tvalidation-rmse:6.32571\n",
      "[871]\tvalidation-rmse:6.32574\n",
      "[872]\tvalidation-rmse:6.32589\n",
      "[873]\tvalidation-rmse:6.32584\n",
      "[874]\tvalidation-rmse:6.32579\n",
      "[875]\tvalidation-rmse:6.32573\n",
      "[876]\tvalidation-rmse:6.32547\n",
      "[877]\tvalidation-rmse:6.32546\n",
      "[878]\tvalidation-rmse:6.32552\n",
      "[879]\tvalidation-rmse:6.32545\n",
      "[880]\tvalidation-rmse:6.32552\n",
      "[881]\tvalidation-rmse:6.32532\n",
      "[882]\tvalidation-rmse:6.32527\n",
      "[883]\tvalidation-rmse:6.32525\n",
      "[884]\tvalidation-rmse:6.32520\n",
      "[885]\tvalidation-rmse:6.32506\n",
      "[886]\tvalidation-rmse:6.32466\n",
      "[887]\tvalidation-rmse:6.32466\n",
      "[888]\tvalidation-rmse:6.32470\n",
      "[889]\tvalidation-rmse:6.32461\n",
      "[890]\tvalidation-rmse:6.32450\n",
      "[891]\tvalidation-rmse:6.32444\n",
      "[892]\tvalidation-rmse:6.32432\n",
      "[893]\tvalidation-rmse:6.32420\n",
      "[894]\tvalidation-rmse:6.32408\n",
      "[895]\tvalidation-rmse:6.32403\n",
      "[896]\tvalidation-rmse:6.32392\n",
      "[897]\tvalidation-rmse:6.32379\n",
      "[898]\tvalidation-rmse:6.32383\n",
      "[899]\tvalidation-rmse:6.32379\n",
      "[900]\tvalidation-rmse:6.32371\n",
      "[901]\tvalidation-rmse:6.32332\n",
      "[902]\tvalidation-rmse:6.32334\n",
      "[903]\tvalidation-rmse:6.32343\n",
      "[904]\tvalidation-rmse:6.32333\n",
      "[905]\tvalidation-rmse:6.32333\n",
      "[906]\tvalidation-rmse:6.32335\n",
      "[907]\tvalidation-rmse:6.32332\n",
      "[908]\tvalidation-rmse:6.32329\n",
      "[909]\tvalidation-rmse:6.32330\n",
      "[910]\tvalidation-rmse:6.32319\n",
      "[911]\tvalidation-rmse:6.32313\n",
      "[912]\tvalidation-rmse:6.32315\n",
      "[913]\tvalidation-rmse:6.32306\n",
      "[914]\tvalidation-rmse:6.32299\n",
      "[915]\tvalidation-rmse:6.32289\n",
      "[916]\tvalidation-rmse:6.32287\n",
      "[917]\tvalidation-rmse:6.32273\n",
      "[918]\tvalidation-rmse:6.32267\n",
      "[919]\tvalidation-rmse:6.32259\n",
      "[920]\tvalidation-rmse:6.32237\n",
      "[921]\tvalidation-rmse:6.32216\n",
      "[922]\tvalidation-rmse:6.32213\n",
      "[923]\tvalidation-rmse:6.32221\n",
      "[924]\tvalidation-rmse:6.32206\n",
      "[925]\tvalidation-rmse:6.32204\n",
      "[926]\tvalidation-rmse:6.32193\n",
      "[927]\tvalidation-rmse:6.32191\n",
      "[928]\tvalidation-rmse:6.32170\n",
      "[929]\tvalidation-rmse:6.32149\n",
      "[930]\tvalidation-rmse:6.32156\n",
      "[931]\tvalidation-rmse:6.32149\n",
      "[932]\tvalidation-rmse:6.32146\n",
      "[933]\tvalidation-rmse:6.32152\n",
      "[934]\tvalidation-rmse:6.32135\n",
      "[935]\tvalidation-rmse:6.32131\n",
      "[936]\tvalidation-rmse:6.32133\n",
      "[937]\tvalidation-rmse:6.32130\n",
      "[938]\tvalidation-rmse:6.32129\n",
      "[939]\tvalidation-rmse:6.32120\n",
      "[940]\tvalidation-rmse:6.32104\n",
      "[941]\tvalidation-rmse:6.32097\n",
      "[942]\tvalidation-rmse:6.32088\n",
      "[943]\tvalidation-rmse:6.32082\n",
      "[944]\tvalidation-rmse:6.32089\n",
      "[945]\tvalidation-rmse:6.32102\n",
      "[946]\tvalidation-rmse:6.32074\n",
      "[947]\tvalidation-rmse:6.32082\n",
      "[948]\tvalidation-rmse:6.32074\n",
      "[949]\tvalidation-rmse:6.32066\n",
      "[950]\tvalidation-rmse:6.32043\n",
      "[951]\tvalidation-rmse:6.32020\n",
      "[952]\tvalidation-rmse:6.32007\n",
      "[953]\tvalidation-rmse:6.32009\n",
      "[954]\tvalidation-rmse:6.32009\n",
      "[955]\tvalidation-rmse:6.32004\n",
      "[956]\tvalidation-rmse:6.32001\n",
      "[957]\tvalidation-rmse:6.31998\n",
      "[958]\tvalidation-rmse:6.31987\n",
      "[959]\tvalidation-rmse:6.31992\n",
      "[960]\tvalidation-rmse:6.31981\n",
      "[961]\tvalidation-rmse:6.31981\n",
      "[962]\tvalidation-rmse:6.31983\n",
      "[963]\tvalidation-rmse:6.31978\n",
      "[964]\tvalidation-rmse:6.31960\n",
      "[965]\tvalidation-rmse:6.31961\n",
      "[966]\tvalidation-rmse:6.31958\n",
      "[967]\tvalidation-rmse:6.31948\n",
      "[968]\tvalidation-rmse:6.31946\n",
      "[969]\tvalidation-rmse:6.31950\n",
      "[970]\tvalidation-rmse:6.31951\n",
      "[971]\tvalidation-rmse:6.31957\n",
      "[972]\tvalidation-rmse:6.31957\n",
      "[973]\tvalidation-rmse:6.31959\n",
      "[974]\tvalidation-rmse:6.31942\n",
      "[975]\tvalidation-rmse:6.31937\n",
      "[976]\tvalidation-rmse:6.31937\n",
      "[977]\tvalidation-rmse:6.31927\n",
      "[978]\tvalidation-rmse:6.31919\n",
      "[979]\tvalidation-rmse:6.31919\n",
      "[980]\tvalidation-rmse:6.31907\n",
      "[981]\tvalidation-rmse:6.31907\n",
      "[982]\tvalidation-rmse:6.31898\n",
      "[983]\tvalidation-rmse:6.31904\n",
      "[984]\tvalidation-rmse:6.31907\n",
      "[985]\tvalidation-rmse:6.31894\n",
      "[986]\tvalidation-rmse:6.31894\n",
      "[987]\tvalidation-rmse:6.31893\n",
      "[988]\tvalidation-rmse:6.31877\n",
      "[989]\tvalidation-rmse:6.31896\n",
      "[990]\tvalidation-rmse:6.31893\n",
      "[991]\tvalidation-rmse:6.31875\n",
      "[992]\tvalidation-rmse:6.31862\n",
      "[993]\tvalidation-rmse:6.31853\n",
      "[994]\tvalidation-rmse:6.31855\n",
      "[995]\tvalidation-rmse:6.31848\n",
      "[996]\tvalidation-rmse:6.31855\n",
      "[997]\tvalidation-rmse:6.31850\n",
      "[998]\tvalidation-rmse:6.31857\n",
      "[999]\tvalidation-rmse:6.31845\n"
     ]
    },
    {
     "name": "stderr",
     "output_type": "stream",
     "text": [
      "2025/07/15 17:03:03 WARNING mlflow.models.model: `artifact_path` is deprecated. Please use `name` instead.\n"
     ]
    },
    {
     "name": "stdout",
     "output_type": "stream",
     "text": [
      "🏃 View run masked-rat-416 at: http://192.168.178.84:5001/#/experiments/2/runs/59f0bd884ead4e348466aee84e2ba9f6\n",
      "🧪 View experiment at: http://192.168.178.84:5001/#/experiments/2\n"
     ]
    },
    {
     "name": "stderr",
     "output_type": "stream",
     "text": [
      "/opt/homebrew/Caskroom/miniforge/base/envs/mlops_zoomcamp/lib/python3.10/site-packages/mlflow/xgboost/__init__.py:168: UserWarning: [17:03:03] WARNING: /Users/runner/work/xgboost/xgboost/src/c_api/c_api.cc:1427: Saving model in the UBJSON format as default.  You can use file extension: `json`, `ubj` or `deprecated` to choose between formats.\n",
      "  xgb_model.save_model(model_data_path)\n",
      "\u001B[31m2025/07/15 17:03:06 WARNING mlflow.models.model: Model logged without a signature and input example. Please set `input_example` parameter when logging the model to auto infer the model signature.\u001B[0m\n"
     ]
    },
    {
     "data": {
      "text/plain": [
       "<mlflow.models.model.ModelInfo at 0x306dd5d50>"
      ]
     },
     "execution_count": 75,
     "metadata": {},
     "output_type": "execute_result"
    }
   ],
   "execution_count": 75
  },
  {
   "metadata": {
    "ExecuteTime": {
     "end_time": "2025-07-18T11:00:50.018039Z",
     "start_time": "2025-07-18T11:00:42.744491Z"
    }
   },
   "cell_type": "code",
   "source": [
    "from sklearn.ensemble import RandomForestRegressor, GradientBoostingRegressor, ExtraTreesRegressor\n",
    "from sklearn.svm import LinearSVR\n",
    "from sklearn.pipeline import make_pipeline\n",
    "from mlflow.models.signature import infer_signature\n",
    "\n",
    "if mlflow.active_run():\n",
    "    mlflow.end_run()\n",
    "\n",
    "\n",
    "#model_classes = [RandomForestRegressor, GradientBoostingRegressor, ExtraTreesRegressor, LinearSVR]\n",
    "#model_names = [\"RandomForest\", \"GradientBoosting\", \"ExtraTrees\", \"LinearSVR\"]\n",
    "\n",
    "model_classes = [GradientBoostingRegressor]\n",
    "model_names = [\"GradientBoosting\"]\n",
    "\n",
    "for model_class, model_name in zip(model_classes, model_names):\n",
    "\n",
    "    with mlflow.start_run(run_name=f\"FINAL_{model_name.lower()}\"):\n",
    "        mlflow.set_tag(\"model_type\", model_name)\n",
    "        mlflow.set_tag(\"status\", \"final_pipeline\")\n",
    "\n",
    "        mlflow.log_param(\"train-data-path\", \"./data/green_tripdata_2021-01.csv\")\n",
    "        mlflow.log_param(\"valid-data-path\", \"./data/green_tripdata_2021-02.csv\")\n",
    "\n",
    "        mlmodel = model_class()\n",
    "        pipeline = make_pipeline(dv, mlmodel)\n",
    "        pipeline.fit(train_dicts, y_train)\n",
    "\n",
    "        y_pred = pipeline.predict(val_dicts)\n",
    "\n",
    "        mse = mean_squared_error(y_val, y_pred)\n",
    "        rmse = np.sqrt(mse)\n",
    "        mae = mean_absolute_error(y_val, y_pred)\n",
    "        r2 = r2_score(y_val, y_pred)\n",
    "\n",
    "        print(f\"{model_name} - MSE: {mse:.3f}, RMSE: {rmse:.3f}, MAE: {mae:.3f}, R²: {r2:.3f}\")\n",
    "\n",
    "        mlflow.log_metric(\"mse\", mse)\n",
    "        mlflow.log_metric(\"rmse\", rmse)\n",
    "        mlflow.log_metric(\"mae\", mae)\n",
    "        mlflow.log_metric(\"R²\", r2)\n",
    "\n",
    "        signature = infer_signature(train_dicts[:100], y_train[:100])\n",
    "\n",
    "        mlflow.sklearn.log_model(\n",
    "            sk_model=pipeline,\n",
    "            name=f\"{model_name}_pipeline_model\",\n",
    "            signature=signature,\n",
    "            registered_model_name=f\"{model_name}_pipeline\"\n",
    "        )"
   ],
   "id": "ee1eea64346a6d01",
   "outputs": [
    {
     "name": "stdout",
     "output_type": "stream",
     "text": [
      "GradientBoosting - MSE: 45.459, RMSE: 6.742, MAE: 4.527, R²: 0.693\n"
     ]
    },
    {
     "name": "stderr",
     "output_type": "stream",
     "text": [
      "2025/07/18 13:00:49 INFO mlflow.store.db.utils: Creating initial MLflow database tables...\n",
      "2025/07/18 13:00:49 INFO mlflow.store.db.utils: Updating database tables\n",
      "INFO  [alembic.runtime.migration] Context impl SQLiteImpl.\n",
      "INFO  [alembic.runtime.migration] Will assume non-transactional DDL.\n",
      "Registered model 'GradientBoosting_pipeline' already exists. Creating a new version of this model...\n",
      "Created version '3' of model 'GradientBoosting_pipeline'.\n"
     ]
    }
   ],
   "execution_count": 15
  },
  {
   "metadata": {
    "ExecuteTime": {
     "end_time": "2025-07-15T16:45:36.879549Z",
     "start_time": "2025-07-15T16:44:12.093876Z"
    }
   },
   "cell_type": "code",
   "source": [
    "# Start fresh with proper organization\n",
    "run_model_mapping = {\n",
    "    \"ae789ba22bf34e488bd0b7d44810541c\": \"LinearSVR\",\n",
    "    \"ddafb65c247f4166af4914e747745126\": \"ExtraTreesRegressor\",\n",
    "    \"49f7c2ea5fad4b4fa3fe2462e50e83bc\": \"GradientBoostingRegressor\",\n",
    "    \"ac53a59eaeb9499d85a7a19f3e046ed1\": \"RandomForestRegressor\",\n",
    "}\n",
    "\n",
    "for run_id, model_name in run_model_mapping.items():\n",
    "    # Get original run with all its data\n",
    "    original_run = mlflow.get_run(run_id)\n",
    "\n",
    "    # Load the model (use whichever artifact path exists)\n",
    "    try:\n",
    "        model = mlflow.sklearn.load_model(f\"runs:/{run_id}/model\")\n",
    "    except:\n",
    "        model = mlflow.sklearn.load_model(f\"runs:/{run_id}/{model_name}_model\")\n",
    "\n",
    "    # Create a final, clean run\n",
    "    with mlflow.start_run(run_name=f\"FINAL_{model_name.lower()}\"):\n",
    "        # Copy everything from original\n",
    "        for param, value in original_run.data.params.items():\n",
    "            mlflow.log_param(param, value)\n",
    "        for metric, value in original_run.data.metrics.items():\n",
    "            mlflow.log_metric(metric, value)\n",
    "\n",
    "        # Clean tags\n",
    "        mlflow.set_tag(\"model_type\", model_name)\n",
    "        mlflow.set_tag(\"status\", \"final_clean\")\n",
    "\n",
    "        # Single, properly named model\n",
    "        mlflow.sklearn.log_model(\n",
    "            sk_model=model,\n",
    "            artifact_path=f\"{model_name}_model\"\n",
    "        )\n",
    "\n",
    "        print(f\"✅ Created FINAL_{model_name.lower()} with all data\")"
   ],
   "id": "a9d8be7af77ba00d",
   "outputs": [
    {
     "data": {
      "text/plain": [
       "Downloading artifacts:   0%|          | 0/1 [00:00<?, ?it/s]"
      ],
      "application/vnd.jupyter.widget-view+json": {
       "version_major": 2,
       "version_minor": 0,
       "model_id": "a7affab37ee54fcfb573e4fa5ae974b8"
      }
     },
     "metadata": {},
     "output_type": "display_data"
    },
    {
     "data": {
      "text/plain": [
       "Downloading artifacts:   0%|          | 0/5 [00:00<?, ?it/s]"
      ],
      "application/vnd.jupyter.widget-view+json": {
       "version_major": 2,
       "version_minor": 0,
       "model_id": "f44da1b20d484eeb90c0dcdcfec5b85a"
      }
     },
     "metadata": {},
     "output_type": "display_data"
    },
    {
     "name": "stderr",
     "output_type": "stream",
     "text": [
      "2025/07/15 18:44:16 WARNING mlflow.models.model: `artifact_path` is deprecated. Please use `name` instead.\n",
      "\u001B[31m2025/07/15 18:44:37 WARNING mlflow.models.model: Model logged without a signature and input example. Please set `input_example` parameter when logging the model to auto infer the model signature.\u001B[0m\n"
     ]
    },
    {
     "name": "stdout",
     "output_type": "stream",
     "text": [
      "✅ Created FINAL_linearsvr with all data\n",
      "🏃 View run FINAL_linearsvr at: http://192.168.178.84:5001/#/experiments/2/runs/91e7c2dc777a40b19822ab8de244950a\n",
      "🧪 View experiment at: http://192.168.178.84:5001/#/experiments/2\n"
     ]
    },
    {
     "data": {
      "text/plain": [
       "Downloading artifacts:   0%|          | 0/1 [00:00<?, ?it/s]"
      ],
      "application/vnd.jupyter.widget-view+json": {
       "version_major": 2,
       "version_minor": 0,
       "model_id": "10f901fce2cf45ac9066b71b7bf75446"
      }
     },
     "metadata": {},
     "output_type": "display_data"
    },
    {
     "data": {
      "text/plain": [
       "Downloading artifacts:   0%|          | 0/5 [00:00<?, ?it/s]"
      ],
      "application/vnd.jupyter.widget-view+json": {
       "version_major": 2,
       "version_minor": 0,
       "model_id": "0bc4ea06f9f24e7b81e5313a83f7b265"
      }
     },
     "metadata": {},
     "output_type": "display_data"
    },
    {
     "name": "stderr",
     "output_type": "stream",
     "text": [
      "2025/07/15 18:44:54 WARNING mlflow.models.model: `artifact_path` is deprecated. Please use `name` instead.\n",
      "\u001B[31m2025/07/15 18:45:21 WARNING mlflow.models.model: Model logged without a signature and input example. Please set `input_example` parameter when logging the model to auto infer the model signature.\u001B[0m\n"
     ]
    },
    {
     "name": "stdout",
     "output_type": "stream",
     "text": [
      "✅ Created FINAL_extratreesregressor with all data\n",
      "🏃 View run FINAL_extratreesregressor at: http://192.168.178.84:5001/#/experiments/2/runs/32af8c7e4d274683aabda3090aef0a98\n",
      "🧪 View experiment at: http://192.168.178.84:5001/#/experiments/2\n"
     ]
    },
    {
     "data": {
      "text/plain": [
       "Downloading artifacts:   0%|          | 0/1 [00:00<?, ?it/s]"
      ],
      "application/vnd.jupyter.widget-view+json": {
       "version_major": 2,
       "version_minor": 0,
       "model_id": "1c5bea6dfdea4efba37062171f2a6f69"
      }
     },
     "metadata": {},
     "output_type": "display_data"
    },
    {
     "data": {
      "text/plain": [
       "Downloading artifacts:   0%|          | 0/5 [00:00<?, ?it/s]"
      ],
      "application/vnd.jupyter.widget-view+json": {
       "version_major": 2,
       "version_minor": 0,
       "model_id": "39eb2c7c17204f6fa30de03bf664305f"
      }
     },
     "metadata": {},
     "output_type": "display_data"
    },
    {
     "name": "stderr",
     "output_type": "stream",
     "text": [
      "2025/07/15 18:45:23 WARNING mlflow.models.model: `artifact_path` is deprecated. Please use `name` instead.\n",
      "\u001B[31m2025/07/15 18:45:26 WARNING mlflow.models.model: Model logged without a signature and input example. Please set `input_example` parameter when logging the model to auto infer the model signature.\u001B[0m\n"
     ]
    },
    {
     "name": "stdout",
     "output_type": "stream",
     "text": [
      "✅ Created FINAL_gradientboostingregressor with all data\n",
      "🏃 View run FINAL_gradientboostingregressor at: http://192.168.178.84:5001/#/experiments/2/runs/22e227e88c5d4dd993659627d2845af6\n",
      "🧪 View experiment at: http://192.168.178.84:5001/#/experiments/2\n"
     ]
    },
    {
     "data": {
      "text/plain": [
       "Downloading artifacts:   0%|          | 0/1 [00:00<?, ?it/s]"
      ],
      "application/vnd.jupyter.widget-view+json": {
       "version_major": 2,
       "version_minor": 0,
       "model_id": "c5687f1cfcd54e4dbf4ff9c922990552"
      }
     },
     "metadata": {},
     "output_type": "display_data"
    },
    {
     "data": {
      "text/plain": [
       "Downloading artifacts:   0%|          | 0/5 [00:00<?, ?it/s]"
      ],
      "application/vnd.jupyter.widget-view+json": {
       "version_major": 2,
       "version_minor": 0,
       "model_id": "6f74cdf338ea4fda81205d36f71410c4"
      }
     },
     "metadata": {},
     "output_type": "display_data"
    },
    {
     "name": "stderr",
     "output_type": "stream",
     "text": [
      "2025/07/15 18:45:29 WARNING mlflow.models.model: `artifact_path` is deprecated. Please use `name` instead.\n",
      "\u001B[31m2025/07/15 18:45:36 WARNING mlflow.models.model: Model logged without a signature and input example. Please set `input_example` parameter when logging the model to auto infer the model signature.\u001B[0m\n"
     ]
    },
    {
     "name": "stdout",
     "output_type": "stream",
     "text": [
      "✅ Created FINAL_randomforestregressor with all data\n",
      "🏃 View run FINAL_randomforestregressor at: http://192.168.178.84:5001/#/experiments/2/runs/69b7d264e675483da5a8cb98808b7756\n",
      "🧪 View experiment at: http://192.168.178.84:5001/#/experiments/2\n"
     ]
    }
   ],
   "execution_count": 96
  },
  {
   "metadata": {
    "ExecuteTime": {
     "end_time": "2025-07-15T16:43:00.560876Z",
     "start_time": "2025-07-15T16:42:51.848500Z"
    }
   },
   "cell_type": "code",
   "source": [
    "run_id   = \"ac53a59eaeb9499d85a7a19f3e046ed1\"\n",
    "artifact = \"model\"   # <— the folder you just confirmed\n",
    "\n",
    "model_uri = f\"runs:/{run_id}/{artifact}\"\n",
    "pyfunc_model = mlflow.pyfunc.load_model(model_uri)"
   ],
   "id": "851bdd15c431415b",
   "outputs": [
    {
     "data": {
      "text/plain": [
       "Downloading artifacts:   0%|          | 0/1 [00:00<?, ?it/s]"
      ],
      "application/vnd.jupyter.widget-view+json": {
       "version_major": 2,
       "version_minor": 0,
       "model_id": "37db5ce2ae7c43f380682b42f15af2ab"
      }
     },
     "metadata": {},
     "output_type": "display_data"
    },
    {
     "data": {
      "text/plain": [
       "Downloading artifacts:   0%|          | 0/5 [00:00<?, ?it/s]"
      ],
      "application/vnd.jupyter.widget-view+json": {
       "version_major": 2,
       "version_minor": 0,
       "model_id": "d355a1a385554795995cb223bc4445ca"
      }
     },
     "metadata": {},
     "output_type": "display_data"
    }
   ],
   "execution_count": 95
  },
  {
   "metadata": {
    "ExecuteTime": {
     "end_time": "2025-07-15T16:40:10.379668Z",
     "start_time": "2025-07-15T16:40:10.293671Z"
    }
   },
   "cell_type": "code",
   "source": "pyfunc_model",
   "id": "d19c8c8747f57bc6",
   "outputs": [
    {
     "data": {
      "text/plain": [
       "mlflow.pyfunc.loaded_model:\n",
       "  artifact_path: /Users/jordanharris/Code/mlops_zoomcamp/mlruns/2/models/m-d765e8a165164df889771231ed42e85f/artifacts\n",
       "  flavor: mlflow.sklearn\n",
       "  run_id: ac53a59eaeb9499d85a7a19f3e046ed1"
      ]
     },
     "execution_count": 92,
     "metadata": {},
     "output_type": "execute_result"
    }
   ],
   "execution_count": 92
  },
  {
   "metadata": {
    "ExecuteTime": {
     "end_time": "2025-07-15T16:12:50.224186Z",
     "start_time": "2025-07-15T16:12:49.081501Z"
    }
   },
   "cell_type": "code",
   "source": [
    "run_id =  '37efeed2c16f4f1a9d6a520e7b1f08cc'\n",
    "model_uri = f\"runs:/{run_id}/xgboost_model\"\n",
    "booster = mlflow.xgboost.load_model(model_uri)\n",
    "\n",
    "# now you can call booster.predict on a DMatrix\n",
    "import xgboost as xgb\n",
    "dm = xgb.DMatrix(X_val)               # or new data"
   ],
   "id": "a8e841b06ea6564b",
   "outputs": [
    {
     "data": {
      "text/plain": [
       "Downloading artifacts:   0%|          | 0/1 [00:00<?, ?it/s]"
      ],
      "application/vnd.jupyter.widget-view+json": {
       "version_major": 2,
       "version_minor": 0,
       "model_id": "95845d266c2548e0a1b30124607ea209"
      }
     },
     "metadata": {},
     "output_type": "display_data"
    },
    {
     "data": {
      "text/plain": [
       "Downloading artifacts:   0%|          | 0/5 [00:00<?, ?it/s]"
      ],
      "application/vnd.jupyter.widget-view+json": {
       "version_major": 2,
       "version_minor": 0,
       "model_id": "4025f18881cd4e26ac120a89dd629f43"
      }
     },
     "metadata": {},
     "output_type": "display_data"
    }
   ],
   "execution_count": 87
  },
  {
   "metadata": {
    "ExecuteTime": {
     "end_time": "2025-07-15T16:12:58.124334Z",
     "start_time": "2025-07-15T16:12:55.742885Z"
    }
   },
   "cell_type": "code",
   "source": [
    "y_pred = booster.predict(dm)\n",
    "y_pred[:10]"
   ],
   "id": "33f4a4cbdf87ce4c",
   "outputs": [
    {
     "data": {
      "text/plain": [
       "array([14.782765 ,  7.184751 , 15.971323 , 24.328938 ,  9.559302 ,\n",
       "       17.115105 , 11.6522455,  8.688133 ,  8.962229 , 18.982166 ],\n",
       "      dtype=float32)"
      ]
     },
     "execution_count": 88,
     "metadata": {},
     "output_type": "execute_result"
    }
   ],
   "execution_count": 88
  },
  {
   "metadata": {
    "ExecuteTime": {
     "end_time": "2025-07-18T11:05:33.166293Z",
     "start_time": "2025-07-18T11:05:33.152119Z"
    }
   },
   "cell_type": "code",
   "source": "y_val",
   "id": "ce5b2fd6094f0e59",
   "outputs": [
    {
     "data": {
      "text/plain": [
       "array([17.91666667,  6.5       , 15.25      , ..., 14.        ,\n",
       "        7.        ,  7.        ])"
      ]
     },
     "execution_count": 17,
     "metadata": {},
     "output_type": "execute_result"
    }
   ],
   "execution_count": 17
  },
  {
   "metadata": {
    "ExecuteTime": {
     "end_time": "2025-07-18T11:20:34.942426Z",
     "start_time": "2025-07-18T11:20:34.602837Z"
    }
   },
   "cell_type": "code",
   "source": [
    "import mlflow.sklearn\n",
    "\n",
    "# Load model using the run ID\n",
    "run_id = \"64298b9e7868421cbf6a0505e1211879\"\n",
    "model_uri = f\"runs:/{run_id}/GradientBoosting_pipeline_model\"\n",
    "pipeline = mlflow.sklearn.load_model(model_uri)\n",
    "\n",
    "# Sample data\n",
    "sample_data = [\n",
    "   {'PULocationID': 74, 'DOLocationID': 130, 'trip_distance': 2.5, 'passenger_count': 1},\n",
    "   {'PULocationID': 41, 'DOLocationID': 24, 'trip_distance': 1.8, 'passenger_count': 2}\n",
    "]\n",
    "\n",
    "# Predict\n",
    "y_pred = pipeline.predict(sample_data)\n",
    "print(y_pred)"
   ],
   "id": "ecabe60eefe05049",
   "outputs": [
    {
     "data": {
      "text/plain": [
       "Downloading artifacts:   0%|          | 0/1 [00:00<?, ?it/s]"
      ],
      "application/vnd.jupyter.widget-view+json": {
       "version_major": 2,
       "version_minor": 0,
       "model_id": "150d05d69e9b47708b0dcf326c9b8863"
      }
     },
     "metadata": {},
     "output_type": "display_data"
    },
    {
     "data": {
      "text/plain": [
       "Downloading artifacts:   0%|          | 0/5 [00:00<?, ?it/s]"
      ],
      "application/vnd.jupyter.widget-view+json": {
       "version_major": 2,
       "version_minor": 0,
       "model_id": "d74744f3ccd9409497245c65d889470b"
      }
     },
     "metadata": {},
     "output_type": "display_data"
    },
    {
     "name": "stdout",
     "output_type": "stream",
     "text": [
      "[14.01973656 10.74484754]\n"
     ]
    }
   ],
   "execution_count": 12
  },
  {
   "metadata": {
    "ExecuteTime": {
     "end_time": "2025-07-18T11:02:14.031022Z",
     "start_time": "2025-07-18T11:02:14.029062Z"
    }
   },
   "cell_type": "code",
   "source": "",
   "id": "881529557e01059f",
   "outputs": [],
   "execution_count": null
  },
  {
   "metadata": {},
   "cell_type": "code",
   "outputs": [],
   "execution_count": null,
   "source": "",
   "id": "d3b653d8b1a2705f"
  }
 ],
 "metadata": {
  "kernelspec": {
   "display_name": "Python 3",
   "language": "python",
   "name": "python3"
  },
  "language_info": {
   "codemirror_mode": {
    "name": "ipython",
    "version": 2
   },
   "file_extension": ".py",
   "mimetype": "text/x-python",
   "name": "python",
   "nbconvert_exporter": "python",
   "pygments_lexer": "ipython2",
   "version": "2.7.6"
  }
 },
 "nbformat": 4,
 "nbformat_minor": 5
}
