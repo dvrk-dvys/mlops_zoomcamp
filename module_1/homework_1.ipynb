{
 "cells": [
  {
   "cell_type": "code",
   "id": "initial_id",
   "metadata": {
    "collapsed": true,
    "ExecuteTime": {
     "end_time": "2025-06-28T11:48:31.011567Z",
     "start_time": "2025-06-28T11:48:30.988670Z"
    }
   },
   "source": [
    "import pandas as pd\n",
    "pd.__version__"
   ],
   "outputs": [
    {
     "data": {
      "text/plain": [
       "'2.3.0'"
      ]
     },
     "execution_count": 1,
     "metadata": {},
     "output_type": "execute_result"
    }
   ],
   "execution_count": 1
  },
  {
   "metadata": {
    "ExecuteTime": {
     "end_time": "2025-06-28T11:50:39.893846Z",
     "start_time": "2025-06-28T11:50:31.288814Z"
    }
   },
   "cell_type": "code",
   "source": [
    "!pip install pyarrow\n",
    "import os\n",
    "print(os.getcwd())\n",
    "from sklearn.metrics import r2_score, mean_squared_error, mean_absolute_error\n",
    "from sklearn.linear_model import LinearRegression, Lasso, Ridge\n",
    "import numpy as np\n",
    "from sklearn.feature_extraction import DictVectorizer\n"
   ],
   "id": "714f1c982007b2d3",
   "outputs": [
    {
     "name": "stdout",
     "output_type": "stream",
     "text": [
      "Requirement already satisfied: pyarrow in /opt/homebrew/Caskroom/miniforge/base/envs/mlops_zoomcamp/lib/python3.10/site-packages (20.0.0)\r\n",
      "/Users/jordanharris/Code/mlops_zoomcamp/module_1\n"
     ]
    }
   ],
   "execution_count": 8
  },
  {
   "metadata": {
    "ExecuteTime": {
     "end_time": "2025-06-28T11:48:54.598383Z",
     "start_time": "2025-06-28T11:48:40.230546Z"
    }
   },
   "cell_type": "code",
   "source": [
    "#Question 1\n",
    "df_jan = pd.read_parquet(\"../data/yellow_tripdata_2023-01.parquet\")\n",
    "df_feb = pd.read_parquet(\"../data/yellow_tripdata_2023-02.parquet\")\n",
    "\n",
    "# number of columns\n",
    "n_cols = df_jan.shape[1]\n",
    "print(f\"January 2023 dataset has {n_cols} columns.\")\n",
    "\n",
    "df_all = pd.concat([df_jan, df_feb], ignore_index=True)\n",
    "print(f\"Combined dataset shape: {df_all.shape}\")\n",
    "extra_cols = set(df_feb.columns) - set(df_jan.columns)\n",
    "print(\"Columns only in February:\", extra_cols)\n",
    "\n"
   ],
   "id": "16ec2d21e935aeb8",
   "outputs": [
    {
     "name": "stdout",
     "output_type": "stream",
     "text": [
      "January 2023 dataset has 19 columns.\n",
      "Combined dataset shape: (5980721, 20)\n",
      "Columns only in February: {'Airport_fee'}\n"
     ]
    }
   ],
   "execution_count": 3
  },
  {
   "metadata": {
    "ExecuteTime": {
     "end_time": "2025-06-28T11:48:56.701242Z",
     "start_time": "2025-06-28T11:48:56.223118Z"
    }
   },
   "cell_type": "code",
   "source": "df_all.head()",
   "id": "26767ebecd84f30b",
   "outputs": [
    {
     "data": {
      "text/plain": [
       "   VendorID tpep_pickup_datetime tpep_dropoff_datetime  passenger_count  \\\n",
       "0         2  2023-01-01 00:32:10   2023-01-01 00:40:36              1.0   \n",
       "1         2  2023-01-01 00:55:08   2023-01-01 01:01:27              1.0   \n",
       "2         2  2023-01-01 00:25:04   2023-01-01 00:37:49              1.0   \n",
       "3         1  2023-01-01 00:03:48   2023-01-01 00:13:25              0.0   \n",
       "4         2  2023-01-01 00:10:29   2023-01-01 00:21:19              1.0   \n",
       "\n",
       "   trip_distance  RatecodeID store_and_fwd_flag  PULocationID  DOLocationID  \\\n",
       "0           0.97         1.0                  N           161           141   \n",
       "1           1.10         1.0                  N            43           237   \n",
       "2           2.51         1.0                  N            48           238   \n",
       "3           1.90         1.0                  N           138             7   \n",
       "4           1.43         1.0                  N           107            79   \n",
       "\n",
       "   payment_type  fare_amount  extra  mta_tax  tip_amount  tolls_amount  \\\n",
       "0             2          9.3   1.00      0.5        0.00           0.0   \n",
       "1             1          7.9   1.00      0.5        4.00           0.0   \n",
       "2             1         14.9   1.00      0.5       15.00           0.0   \n",
       "3             1         12.1   7.25      0.5        0.00           0.0   \n",
       "4             1         11.4   1.00      0.5        3.28           0.0   \n",
       "\n",
       "   improvement_surcharge  total_amount  congestion_surcharge  airport_fee  \\\n",
       "0                    1.0         14.30                   2.5         0.00   \n",
       "1                    1.0         16.90                   2.5         0.00   \n",
       "2                    1.0         34.90                   2.5         0.00   \n",
       "3                    1.0         20.85                   0.0         1.25   \n",
       "4                    1.0         19.68                   2.5         0.00   \n",
       "\n",
       "   Airport_fee  \n",
       "0          NaN  \n",
       "1          NaN  \n",
       "2          NaN  \n",
       "3          NaN  \n",
       "4          NaN  "
      ],
      "text/html": [
       "<div>\n",
       "<style scoped>\n",
       "    .dataframe tbody tr th:only-of-type {\n",
       "        vertical-align: middle;\n",
       "    }\n",
       "\n",
       "    .dataframe tbody tr th {\n",
       "        vertical-align: top;\n",
       "    }\n",
       "\n",
       "    .dataframe thead th {\n",
       "        text-align: right;\n",
       "    }\n",
       "</style>\n",
       "<table border=\"1\" class=\"dataframe\">\n",
       "  <thead>\n",
       "    <tr style=\"text-align: right;\">\n",
       "      <th></th>\n",
       "      <th>VendorID</th>\n",
       "      <th>tpep_pickup_datetime</th>\n",
       "      <th>tpep_dropoff_datetime</th>\n",
       "      <th>passenger_count</th>\n",
       "      <th>trip_distance</th>\n",
       "      <th>RatecodeID</th>\n",
       "      <th>store_and_fwd_flag</th>\n",
       "      <th>PULocationID</th>\n",
       "      <th>DOLocationID</th>\n",
       "      <th>payment_type</th>\n",
       "      <th>fare_amount</th>\n",
       "      <th>extra</th>\n",
       "      <th>mta_tax</th>\n",
       "      <th>tip_amount</th>\n",
       "      <th>tolls_amount</th>\n",
       "      <th>improvement_surcharge</th>\n",
       "      <th>total_amount</th>\n",
       "      <th>congestion_surcharge</th>\n",
       "      <th>airport_fee</th>\n",
       "      <th>Airport_fee</th>\n",
       "    </tr>\n",
       "  </thead>\n",
       "  <tbody>\n",
       "    <tr>\n",
       "      <th>0</th>\n",
       "      <td>2</td>\n",
       "      <td>2023-01-01 00:32:10</td>\n",
       "      <td>2023-01-01 00:40:36</td>\n",
       "      <td>1.0</td>\n",
       "      <td>0.97</td>\n",
       "      <td>1.0</td>\n",
       "      <td>N</td>\n",
       "      <td>161</td>\n",
       "      <td>141</td>\n",
       "      <td>2</td>\n",
       "      <td>9.3</td>\n",
       "      <td>1.00</td>\n",
       "      <td>0.5</td>\n",
       "      <td>0.00</td>\n",
       "      <td>0.0</td>\n",
       "      <td>1.0</td>\n",
       "      <td>14.30</td>\n",
       "      <td>2.5</td>\n",
       "      <td>0.00</td>\n",
       "      <td>NaN</td>\n",
       "    </tr>\n",
       "    <tr>\n",
       "      <th>1</th>\n",
       "      <td>2</td>\n",
       "      <td>2023-01-01 00:55:08</td>\n",
       "      <td>2023-01-01 01:01:27</td>\n",
       "      <td>1.0</td>\n",
       "      <td>1.10</td>\n",
       "      <td>1.0</td>\n",
       "      <td>N</td>\n",
       "      <td>43</td>\n",
       "      <td>237</td>\n",
       "      <td>1</td>\n",
       "      <td>7.9</td>\n",
       "      <td>1.00</td>\n",
       "      <td>0.5</td>\n",
       "      <td>4.00</td>\n",
       "      <td>0.0</td>\n",
       "      <td>1.0</td>\n",
       "      <td>16.90</td>\n",
       "      <td>2.5</td>\n",
       "      <td>0.00</td>\n",
       "      <td>NaN</td>\n",
       "    </tr>\n",
       "    <tr>\n",
       "      <th>2</th>\n",
       "      <td>2</td>\n",
       "      <td>2023-01-01 00:25:04</td>\n",
       "      <td>2023-01-01 00:37:49</td>\n",
       "      <td>1.0</td>\n",
       "      <td>2.51</td>\n",
       "      <td>1.0</td>\n",
       "      <td>N</td>\n",
       "      <td>48</td>\n",
       "      <td>238</td>\n",
       "      <td>1</td>\n",
       "      <td>14.9</td>\n",
       "      <td>1.00</td>\n",
       "      <td>0.5</td>\n",
       "      <td>15.00</td>\n",
       "      <td>0.0</td>\n",
       "      <td>1.0</td>\n",
       "      <td>34.90</td>\n",
       "      <td>2.5</td>\n",
       "      <td>0.00</td>\n",
       "      <td>NaN</td>\n",
       "    </tr>\n",
       "    <tr>\n",
       "      <th>3</th>\n",
       "      <td>1</td>\n",
       "      <td>2023-01-01 00:03:48</td>\n",
       "      <td>2023-01-01 00:13:25</td>\n",
       "      <td>0.0</td>\n",
       "      <td>1.90</td>\n",
       "      <td>1.0</td>\n",
       "      <td>N</td>\n",
       "      <td>138</td>\n",
       "      <td>7</td>\n",
       "      <td>1</td>\n",
       "      <td>12.1</td>\n",
       "      <td>7.25</td>\n",
       "      <td>0.5</td>\n",
       "      <td>0.00</td>\n",
       "      <td>0.0</td>\n",
       "      <td>1.0</td>\n",
       "      <td>20.85</td>\n",
       "      <td>0.0</td>\n",
       "      <td>1.25</td>\n",
       "      <td>NaN</td>\n",
       "    </tr>\n",
       "    <tr>\n",
       "      <th>4</th>\n",
       "      <td>2</td>\n",
       "      <td>2023-01-01 00:10:29</td>\n",
       "      <td>2023-01-01 00:21:19</td>\n",
       "      <td>1.0</td>\n",
       "      <td>1.43</td>\n",
       "      <td>1.0</td>\n",
       "      <td>N</td>\n",
       "      <td>107</td>\n",
       "      <td>79</td>\n",
       "      <td>1</td>\n",
       "      <td>11.4</td>\n",
       "      <td>1.00</td>\n",
       "      <td>0.5</td>\n",
       "      <td>3.28</td>\n",
       "      <td>0.0</td>\n",
       "      <td>1.0</td>\n",
       "      <td>19.68</td>\n",
       "      <td>2.5</td>\n",
       "      <td>0.00</td>\n",
       "      <td>NaN</td>\n",
       "    </tr>\n",
       "  </tbody>\n",
       "</table>\n",
       "</div>"
      ]
     },
     "execution_count": 4,
     "metadata": {},
     "output_type": "execute_result"
    }
   ],
   "execution_count": 4
  },
  {
   "metadata": {
    "ExecuteTime": {
     "end_time": "2025-06-28T11:49:00.870124Z",
     "start_time": "2025-06-28T11:48:57.161312Z"
    }
   },
   "cell_type": "code",
   "source": [
    "#Question 2\n",
    "std_dev_jan = (\n",
    "    (pd.to_datetime(df_all.tpep_dropoff_datetime)\n",
    "     - pd.to_datetime(df_all.tpep_pickup_datetime))\n",
    "    .dt.total_seconds().div(60)\n",
    ")[pd.to_datetime(df_all.tpep_pickup_datetime).dt.month.eq(1)].std()\n",
    "\n",
    "print(f\"Std dev (Jan): {std_dev_jan:.2f} minutes\")"
   ],
   "id": "878c35c376a87ac",
   "outputs": [
    {
     "name": "stdout",
     "output_type": "stream",
     "text": [
      "Std dev (Jan): 42.59 minutes\n"
     ]
    }
   ],
   "execution_count": 5
  },
  {
   "metadata": {
    "ExecuteTime": {
     "end_time": "2025-06-28T11:49:07.355867Z",
     "start_time": "2025-06-28T11:49:01.225777Z"
    }
   },
   "cell_type": "code",
   "source": [
    "#Question 3\n",
    "\n",
    "df_all['pickup_dt']  = pd.to_datetime(df_all.tpep_pickup_datetime)\n",
    "df_all['dropoff_dt'] = pd.to_datetime(df_all.tpep_dropoff_datetime)\n",
    "\n",
    "df_all['duration'] = (\n",
    "    df_all['dropoff_dt']\n",
    "    - df_all['pickup_dt']\n",
    ").dt.total_seconds() / 60\n",
    "\n",
    "\n",
    "fraction_kept = df_all['duration'].between(1, 60).mean()\n",
    "print(f\"{fraction_kept*100:.0f}%\")"
   ],
   "id": "d9cc9057eb9cf45e",
   "outputs": [
    {
     "name": "stdout",
     "output_type": "stream",
     "text": [
      "98%\n"
     ]
    }
   ],
   "execution_count": 6
  },
  {
   "metadata": {
    "ExecuteTime": {
     "end_time": "2025-06-28T11:53:05.505937Z",
     "start_time": "2025-06-28T11:50:53.870061Z"
    }
   },
   "cell_type": "code",
   "source": [
    "#Question 4\n",
    "\n",
    "dicts = df_all[['PULocationID','DOLocationID']].astype(str).to_dict(orient='records')\n",
    "\n",
    "dv = DictVectorizer()\n",
    "X = dv.fit_transform(dicts)\n",
    "\n",
    "print(\"Number of one-hot features:\", X.shape[1])\n",
    "# → 515"
   ],
   "id": "79f67810178ffa39",
   "outputs": [
    {
     "name": "stdout",
     "output_type": "stream",
     "text": [
      "Number of one-hot features: 521\n"
     ]
    }
   ],
   "execution_count": 10
  },
  {
   "metadata": {
    "ExecuteTime": {
     "end_time": "2025-06-28T12:00:00.373755Z",
     "start_time": "2025-06-28T11:59:20.663895Z"
    }
   },
   "cell_type": "code",
   "source": [
    "#Question 5\n",
    "df_all['pickup_dt']  = pd.to_datetime(df_all.tpep_pickup_datetime)\n",
    "df_all['dropoff_dt'] = pd.to_datetime(df_all.tpep_dropoff_datetime)\n",
    "df_all['duration']   = (df_all.dropoff_dt - df_all.pickup_dt).dt.total_seconds() / 60\n",
    "\n",
    "#FILTERRRR!\n",
    "df_all = df_all[df_all['duration'].between(1, 60)]\n",
    "\n",
    "jan_mask = df_all['pickup_dt'].dt.month.eq(1)\n",
    "feb_mask = df_all['pickup_dt'].dt.month.eq(2)\n",
    "\n",
    "print(\"Jan rows:\", jan_mask.sum())\n",
    "print(\"df_all rows:\", len(df_all))\n",
    "\n",
    "dicts  = df_all[['PULocationID','DOLocationID']].astype(str)\\\n",
    "                 .to_dict(orient='records')\n",
    "dv     = DictVectorizer()\n",
    "X_full = dv.fit_transform(dicts)\n",
    "\n",
    "X_train = X_full[jan_mask.values, :]\n",
    "y_train = df_all.loc[jan_mask, 'duration'].values\n",
    "\n",
    "print(\"X_train shape:\", X_train.shape)\n",
    "print(\"y_train shape:\", y_train.shape)\n",
    "\n",
    "\n",
    "lr = LinearRegression().fit(X_train, y_train)\n",
    "y_pred = lr.predict(X_train)"
   ],
   "id": "dfcc3f5fbdad89bf",
   "outputs": [
    {
     "name": "stdout",
     "output_type": "stream",
     "text": [
      "Jan rows: 3009145\n",
      "df_all rows: 5865124\n",
      "X_train shape: (3009145, 519)\n",
      "y_train shape: (3009145,)\n"
     ]
    }
   ],
   "execution_count": 14
  },
  {
   "metadata": {
    "ExecuteTime": {
     "end_time": "2025-06-28T12:02:08.462158Z",
     "start_time": "2025-06-28T12:02:08.416548Z"
    }
   },
   "cell_type": "code",
   "source": [
    "mse  = mean_squared_error(y_train, y_pred)\n",
    "rmse = np.sqrt(mse)\n",
    "print(f\"Train MSE: {mse:.2f} minutes\")\n",
    "print(f\"Train RMSE: {rmse:.2f} minutes\")"
   ],
   "id": "fdc15fa5c4f4547c",
   "outputs": [
    {
     "name": "stdout",
     "output_type": "stream",
     "text": [
      "Train MSE: 58.51 minutes\n",
      "Train RMSE: 7.65 minutes\n"
     ]
    }
   ],
   "execution_count": 18
  },
  {
   "metadata": {
    "jupyter": {
     "is_executing": true
    }
   },
   "cell_type": "code",
   "source": [
    "#Question 6\n",
    "df_all = df_all[df_all['duration'].between(1, 60)]\n",
    "feb_mask = df_all['pickup_dt'].dt.month.eq(2)\n",
    "df_feb = df_all.loc[feb_mask].copy()\n",
    "\n",
    "val_dicts = df_feb[['PULocationID','DOLocationID']].astype(str).to_dict('records')\n",
    "X_val     = dv.transform(val_dicts)\n",
    "y_val     = df_feb['duration'].values\n",
    "y_pred    = lr.predict(X_val)\n",
    "\n",
    "mse_val  = mean_squared_error(y_val, y_pred)\n",
    "rmse_val = np.sqrt(mse_val)\n",
    "\n",
    "print(f\"Validation MSE:  {mse_val:.2f} (minutes²)\")\n",
    "print(f\"Validation RMSE: {rmse_val:.2f} minutes\")\n"
   ],
   "id": "331046ac126779d5",
   "outputs": [],
   "execution_count": null
  }
 ],
 "metadata": {
  "kernelspec": {
   "display_name": "Python 3",
   "language": "python",
   "name": "python3"
  },
  "language_info": {
   "codemirror_mode": {
    "name": "ipython",
    "version": 2
   },
   "file_extension": ".py",
   "mimetype": "text/x-python",
   "name": "python",
   "nbconvert_exporter": "python",
   "pygments_lexer": "ipython2",
   "version": "2.7.6"
  }
 },
 "nbformat": 4,
 "nbformat_minor": 5
}
