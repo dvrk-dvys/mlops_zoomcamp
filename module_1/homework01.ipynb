{
 "cells": [
  {
   "cell_type": "markdown",
   "id": "ba3e2c71",
   "metadata": {},
   "source": [
    "# Homework01 - Rui Pinto"
   ]
  },
  {
   "cell_type": "code",
   "execution_count": 1,
   "id": "88a624ea",
   "metadata": {},
   "outputs": [],
   "source": [
    "import numpy as np\n",
    "import pandas as pd\n",
    "import seaborn as sns\n",
    "import matplotlib.pyplot as plt"
   ]
  },
  {
   "cell_type": "markdown",
   "id": "577a5cc8",
   "metadata": {},
   "source": [
    "## Download Data"
   ]
  },
  {
   "cell_type": "code",
   "execution_count": 2,
   "id": "462748f0",
   "metadata": {},
   "outputs": [],
   "source": [
    "#Download the data for January and February 2023.\n",
    "\n",
    "#!curl https://d37ci6vzurychx.cloudfront.net/trip-data/yellow_tripdata_2023-01.parquet > data/yellow_tripdata_2023-01.parquet\n",
    "#!curl https://d37ci6vzurychx.cloudfront.net/trip-data/yellow_tripdata_2023-02.parquet > data/yellow_tripdata_2023-02.parquet"
   ]
  },
  {
   "cell_type": "markdown",
   "id": "c425afa8",
   "metadata": {},
   "source": [
    "## Q1 - Downloading the data\n",
    "\n",
    "Read the data for January. How many columns are there?\n",
    "\n",
    "- 16\n",
    "- 17\n",
    "- 18\n",
    "- 19 ✔"
   ]
  },
  {
   "cell_type": "code",
   "execution_count": 3,
   "id": "269d3bbc",
   "metadata": {},
   "outputs": [],
   "source": [
    "# reading data\n",
    "yellow_tripdata_2023_01 = pd.read_parquet('data/yellow_tripdata_2023-01.parquet', engine='pyarrow')"
   ]
  },
  {
   "cell_type": "code",
   "execution_count": 4,
   "id": "a66729f4",
   "metadata": {},
   "outputs": [
    {
     "name": "stdout",
     "output_type": "stream",
     "text": [
      "yellow_tripdata_2023_01 has 19 columns\n"
     ]
    }
   ],
   "source": [
    "print(f\"yellow_tripdata_2023_01 has {yellow_tripdata_2023_01.shape[1]} columns\")"
   ]
  },
  {
   "cell_type": "markdown",
   "id": "8cc7e0a3",
   "metadata": {},
   "source": [
    "## Q2. Computing duration\n",
    "\n",
    "Now let's compute the duration variable. It should contain the duration of a ride in minutes.\n",
    "\n",
    "What's the standard deviation of the trips duration in January?\n",
    "\n",
    "- 32.59\n",
    "- 42.59 ✔\n",
    "- 52.59\n",
    "- 62.59"
   ]
  },
  {
   "cell_type": "code",
   "execution_count": 5,
   "id": "0be65de0",
   "metadata": {},
   "outputs": [],
   "source": [
    "yellow_tripdata_2023_01['Duration'] = (yellow_tripdata_2023_01['tpep_dropoff_datetime'] - yellow_tripdata_2023_01['tpep_pickup_datetime']).dt.total_seconds() / 60"
   ]
  },
  {
   "cell_type": "code",
   "execution_count": 6,
   "id": "f88f8389",
   "metadata": {},
   "outputs": [
    {
     "data": {
      "text/plain": [
       "np.float64(42.59435124195458)"
      ]
     },
     "execution_count": 6,
     "metadata": {},
     "output_type": "execute_result"
    }
   ],
   "source": [
    "# standard deviation of duration\n",
    "yellow_tripdata_2023_01['Duration'].std()"
   ]
  },
  {
   "cell_type": "markdown",
   "id": "30fdf25c",
   "metadata": {},
   "source": [
    "## Q3. Dropping outliers\n",
    "\n",
    "Next, we need to check the distribution of the duration variable. There are some outliers. Let's remove them and keep only the records where the duration was between 1 and 60 minutes (inclusive).\n",
    "\n",
    "What fraction of the records left after you dropped the outliers?\n",
    "\n",
    "- 90%\n",
    "- 92%\n",
    "- 95%\n",
    "- 98% ✔"
   ]
  },
  {
   "cell_type": "code",
   "execution_count": 7,
   "id": "713a2b43",
   "metadata": {},
   "outputs": [
    {
     "data": {
      "image/png": "[encoded data removed]",
      "text/plain": [
       "<Figure size 1400x600 with 2 Axes>"
      ]
     },
     "metadata": {},
     "output_type": "display_data"
    },
    {
     "name": "stdout",
     "output_type": "stream",
     "text": [
      "Fraction of records left after removing outliers: 0.9812\n"
     ]
    }
   ],
   "source": [
    "import matplotlib.pyplot as plt\n",
    "\n",
    "filtered_df = yellow_tripdata_2023_01[(yellow_tripdata_2023_01['Duration'] >= 1) & \n",
    "                                     (yellow_tripdata_2023_01['Duration'] <= 60)]\n",
    "\n",
    "\n",
    "# Create a figure with two subplots side by side\n",
    "fig, (ax1, ax2) = plt.subplots(1, 2, figsize=(14, 6))\n",
    "\n",
    "# Plot original distribution\n",
    "sns.boxplot(x=yellow_tripdata_2023_01['Duration'], ax=ax1)\n",
    "ax1.set_title('Original Duration Distribution')\n",
    "ax1.set_xlabel('Duration (minutes)')\n",
    "\n",
    "# Plot filtered distribution\n",
    "sns.boxplot(x=filtered_df['Duration'], ax=ax2)\n",
    "ax2.set_title('Filtered Duration (1-60 minutes)')\n",
    "ax2.set_xlabel('Duration (minutes)')\n",
    "\n",
    "plt.tight_layout()\n",
    "plt.show()\n",
    "\n",
    "# Calculate the fraction of records left after filtering\n",
    "original_count = len(yellow_tripdata_2023_01)\n",
    "filtered_count = len(filtered_df)\n",
    "\n",
    "fraction = filtered_count / original_count\n",
    "print(f\"Fraction of records left after removing outliers: {fraction:.4f}\")"
   ]
  },
  {
   "cell_type": "markdown",
   "id": "d126951b",
   "metadata": {},
   "source": [
    "## Q4. One-hot encoding\n",
    "\n",
    "Let's apply one-hot encoding to the **pickup and dropoff location IDs**. We'll use only these two features for our model.\n",
    "\n",
    "- Turn the dataframe into a list of dictionaries (remember to re-cast the ids to strings - otherwise it will label encode them)\n",
    "- Fit a dictionary vectorizer\n",
    "- Get a feature matrix from it\n",
    "\n",
    "What's the dimensionality of this matrix (number of columns)?\n",
    "\n",
    "- 2\n",
    "- 155\n",
    "- 345\n",
    "- 515 ✔\n",
    "- 715"
   ]
  },
  {
   "cell_type": "code",
   "execution_count": 8,
   "id": "8a4a0369",
   "metadata": {},
   "outputs": [
    {
     "data": {
      "text/html": [
       "<div>\n",
       "<style scoped>\n",
       "    .dataframe tbody tr th:only-of-type {\n",
       "        vertical-align: middle;\n",
       "    }\n",
       "\n",
       "    .dataframe tbody tr th {\n",
       "        vertical-align: top;\n",
       "    }\n",
       "\n",
       "    .dataframe thead th {\n",
       "        text-align: right;\n",
       "    }\n",
       "</style>\n",
       "<table border=\"1\" class=\"dataframe\">\n",
       "  <thead>\n",
       "    <tr style=\"text-align: right;\">\n",
       "      <th></th>\n",
       "      <th>VendorID</th>\n",
       "      <th>tpep_pickup_datetime</th>\n",
       "      <th>tpep_dropoff_datetime</th>\n",
       "      <th>passenger_count</th>\n",
       "      <th>trip_distance</th>\n",
       "      <th>RatecodeID</th>\n",
       "      <th>store_and_fwd_flag</th>\n",
       "      <th>PULocationID</th>\n",
       "      <th>DOLocationID</th>\n",
       "      <th>payment_type</th>\n",
       "      <th>fare_amount</th>\n",
       "      <th>extra</th>\n",
       "      <th>mta_tax</th>\n",
       "      <th>tip_amount</th>\n",
       "      <th>tolls_amount</th>\n",
       "      <th>improvement_surcharge</th>\n",
       "      <th>total_amount</th>\n",
       "      <th>congestion_surcharge</th>\n",
       "      <th>airport_fee</th>\n",
       "      <th>Duration</th>\n",
       "    </tr>\n",
       "  </thead>\n",
       "  <tbody>\n",
       "    <tr>\n",
       "      <th>0</th>\n",
       "      <td>2</td>\n",
       "      <td>2023-01-01 00:32:10</td>\n",
       "      <td>2023-01-01 00:40:36</td>\n",
       "      <td>1.0</td>\n",
       "      <td>0.97</td>\n",
       "      <td>1.0</td>\n",
       "      <td>N</td>\n",
       "      <td>161</td>\n",
       "      <td>141</td>\n",
       "      <td>2</td>\n",
       "      <td>9.3</td>\n",
       "      <td>1.00</td>\n",
       "      <td>0.5</td>\n",
       "      <td>0.00</td>\n",
       "      <td>0.0</td>\n",
       "      <td>1.0</td>\n",
       "      <td>14.30</td>\n",
       "      <td>2.5</td>\n",
       "      <td>0.00</td>\n",
       "      <td>8.433333</td>\n",
       "    </tr>\n",
       "    <tr>\n",
       "      <th>1</th>\n",
       "      <td>2</td>\n",
       "      <td>2023-01-01 00:55:08</td>\n",
       "      <td>2023-01-01 01:01:27</td>\n",
       "      <td>1.0</td>\n",
       "      <td>1.10</td>\n",
       "      <td>1.0</td>\n",
       "      <td>N</td>\n",
       "      <td>43</td>\n",
       "      <td>237</td>\n",
       "      <td>1</td>\n",
       "      <td>7.9</td>\n",
       "      <td>1.00</td>\n",
       "      <td>0.5</td>\n",
       "      <td>4.00</td>\n",
       "      <td>0.0</td>\n",
       "      <td>1.0</td>\n",
       "      <td>16.90</td>\n",
       "      <td>2.5</td>\n",
       "      <td>0.00</td>\n",
       "      <td>6.316667</td>\n",
       "    </tr>\n",
       "    <tr>\n",
       "      <th>2</th>\n",
       "      <td>2</td>\n",
       "      <td>2023-01-01 00:25:04</td>\n",
       "      <td>2023-01-01 00:37:49</td>\n",
       "      <td>1.0</td>\n",
       "      <td>2.51</td>\n",
       "      <td>1.0</td>\n",
       "      <td>N</td>\n",
       "      <td>48</td>\n",
       "      <td>238</td>\n",
       "      <td>1</td>\n",
       "      <td>14.9</td>\n",
       "      <td>1.00</td>\n",
       "      <td>0.5</td>\n",
       "      <td>15.00</td>\n",
       "      <td>0.0</td>\n",
       "      <td>1.0</td>\n",
       "      <td>34.90</td>\n",
       "      <td>2.5</td>\n",
       "      <td>0.00</td>\n",
       "      <td>12.750000</td>\n",
       "    </tr>\n",
       "    <tr>\n",
       "      <th>3</th>\n",
       "      <td>1</td>\n",
       "      <td>2023-01-01 00:03:48</td>\n",
       "      <td>2023-01-01 00:13:25</td>\n",
       "      <td>0.0</td>\n",
       "      <td>1.90</td>\n",
       "      <td>1.0</td>\n",
       "      <td>N</td>\n",
       "      <td>138</td>\n",
       "      <td>7</td>\n",
       "      <td>1</td>\n",
       "      <td>12.1</td>\n",
       "      <td>7.25</td>\n",
       "      <td>0.5</td>\n",
       "      <td>0.00</td>\n",
       "      <td>0.0</td>\n",
       "      <td>1.0</td>\n",
       "      <td>20.85</td>\n",
       "      <td>0.0</td>\n",
       "      <td>1.25</td>\n",
       "      <td>9.616667</td>\n",
       "    </tr>\n",
       "    <tr>\n",
       "      <th>4</th>\n",
       "      <td>2</td>\n",
       "      <td>2023-01-01 00:10:29</td>\n",
       "      <td>2023-01-01 00:21:19</td>\n",
       "      <td>1.0</td>\n",
       "      <td>1.43</td>\n",
       "      <td>1.0</td>\n",
       "      <td>N</td>\n",
       "      <td>107</td>\n",
       "      <td>79</td>\n",
       "      <td>1</td>\n",
       "      <td>11.4</td>\n",
       "      <td>1.00</td>\n",
       "      <td>0.5</td>\n",
       "      <td>3.28</td>\n",
       "      <td>0.0</td>\n",
       "      <td>1.0</td>\n",
       "      <td>19.68</td>\n",
       "      <td>2.5</td>\n",
       "      <td>0.00</td>\n",
       "      <td>10.833333</td>\n",
       "    </tr>\n",
       "  </tbody>\n",
       "</table>\n",
       "</div>"
      ],
      "text/plain": [
       "   VendorID tpep_pickup_datetime tpep_dropoff_datetime  passenger_count  \\\n",
       "0         2  2023-01-01 00:32:10   2023-01-01 00:40:36              1.0   \n",
       "1         2  2023-01-01 00:55:08   2023-01-01 01:01:27              1.0   \n",
       "2         2  2023-01-01 00:25:04   2023-01-01 00:37:49              1.0   \n",
       "3         1  2023-01-01 00:03:48   2023-01-01 00:13:25              0.0   \n",
       "4         2  2023-01-01 00:10:29   2023-01-01 00:21:19              1.0   \n",
       "\n",
       "   trip_distance  RatecodeID store_and_fwd_flag  PULocationID  DOLocationID  \\\n",
       "0           0.97         1.0                  N           161           141   \n",
       "1           1.10         1.0                  N            43           237   \n",
       "2           2.51         1.0                  N            48           238   \n",
       "3           1.90         1.0                  N           138             7   \n",
       "4           1.43         1.0                  N           107            79   \n",
       "\n",
       "   payment_type  fare_amount  extra  mta_tax  tip_amount  tolls_amount  \\\n",
       "0             2          9.3   1.00      0.5        0.00           0.0   \n",
       "1             1          7.9   1.00      0.5        4.00           0.0   \n",
       "2             1         14.9   1.00      0.5       15.00           0.0   \n",
       "3             1         12.1   7.25      0.5        0.00           0.0   \n",
       "4             1         11.4   1.00      0.5        3.28           0.0   \n",
       "\n",
       "   improvement_surcharge  total_amount  congestion_surcharge  airport_fee  \\\n",
       "0                    1.0         14.30                   2.5         0.00   \n",
       "1                    1.0         16.90                   2.5         0.00   \n",
       "2                    1.0         34.90                   2.5         0.00   \n",
       "3                    1.0         20.85                   0.0         1.25   \n",
       "4                    1.0         19.68                   2.5         0.00   \n",
       "\n",
       "    Duration  \n",
       "0   8.433333  \n",
       "1   6.316667  \n",
       "2  12.750000  \n",
       "3   9.616667  \n",
       "4  10.833333  "
      ]
     },
     "execution_count": 8,
     "metadata": {},
     "output_type": "execute_result"
    }
   ],
   "source": [
    "filtered_df.head()"
   ]
  },
  {
   "cell_type": "code",
   "execution_count": 9,
   "id": "108a9e0b",
   "metadata": {},
   "outputs": [
    {
     "name": "stdout",
     "output_type": "stream",
     "text": [
      "<class 'pandas.core.frame.DataFrame'>\n",
      "Index: 3009173 entries, 0 to 3066765\n",
      "Data columns (total 2 columns):\n",
      " #   Column        Dtype\n",
      "---  ------        -----\n",
      " 0   PULocationID  int64\n",
      " 1   DOLocationID  int64\n",
      "dtypes: int64(2)\n",
      "memory usage: 68.9 MB\n"
     ]
    }
   ],
   "source": [
    "filtered_df[['PULocationID','DOLocationID']].info()"
   ]
  },
  {
   "cell_type": "code",
   "execution_count": 10,
   "id": "181307b4",
   "metadata": {},
   "outputs": [
    {
     "data": {
      "text/plain": [
       "[{'PULocationID': '161', 'DOLocationID': '141'},\n",
       " {'PULocationID': '43', 'DOLocationID': '237'},\n",
       " {'PULocationID': '48', 'DOLocationID': '238'},\n",
       " {'PULocationID': '138', 'DOLocationID': '7'},\n",
       " {'PULocationID': '107', 'DOLocationID': '79'}]"
      ]
     },
     "execution_count": 10,
     "metadata": {},
     "output_type": "execute_result"
    }
   ],
   "source": [
    "# selecting features\n",
    "selected_features = ['PULocationID','DOLocationID']\n",
    "\n",
    "# Turn the dataframe into a list of dictionaries with string-cast ids\n",
    "filtered_df = filtered_df.copy()  # Create a copy to avoid SettingWithCopyWarning\n",
    "filtered_df['PULocationID'] = filtered_df['PULocationID'].astype(str)\n",
    "filtered_df['DOLocationID'] = filtered_df['DOLocationID'].astype(str)\n",
    "tripdata_2023_01_dict = filtered_df[selected_features].to_dict(orient='records')\n",
    "\n",
    "tripdata_2023_01_dict[:5]"
   ]
  },
  {
   "cell_type": "code",
   "execution_count": 11,
   "id": "a4a828e2",
   "metadata": {},
   "outputs": [
    {
     "name": "stdout",
     "output_type": "stream",
     "text": [
      "The number of features is 515\n"
     ]
    }
   ],
   "source": [
    "# fit a dictionary vectorizer\n",
    "from sklearn.feature_extraction import DictVectorizer\n",
    "\n",
    "dv = DictVectorizer()\n",
    "dv.fit_transform(tripdata_2023_01_dict)\n",
    "\n",
    "print(f\"The number of features is {len(dv.feature_names_)}\")"
   ]
  },
  {
   "cell_type": "markdown",
   "id": "26dbcfa2",
   "metadata": {},
   "source": [
    "## Q5. Training a model\n",
    "Now let's use the feature matrix from the previous step to train a model.\n",
    "\n",
    "- Train a plain linear regression model with default parameters, where duration is the response variable\n",
    "- Calculate the RMSE of the model on the training data\n",
    "\n",
    "What's the RMSE on train?\n",
    "\n",
    "- 3.64\n",
    "- 7.64 ✔\n",
    "- 11.64\n",
    "- 16.64"
   ]
  },
  {
   "cell_type": "code",
   "execution_count": 12,
   "id": "76cc1438",
   "metadata": {},
   "outputs": [
    {
     "name": "stdout",
     "output_type": "stream",
     "text": [
      "RMSE on train data: 7.65 minutes\n"
     ]
    }
   ],
   "source": [
    "from sklearn.linear_model import LinearRegression\n",
    "from sklearn.metrics import root_mean_squared_error\n",
    "\n",
    "# Split the data into train and test sets\n",
    "X_train = dv.fit_transform(tripdata_2023_01_dict)\n",
    "y_train = filtered_df['Duration'].values\n",
    "\n",
    "lr = LinearRegression().fit(X_train,y_train)\n",
    "\n",
    "# prediction on train\n",
    "y_pred = lr.predict(X_train)\n",
    "rmse = root_mean_squared_error(y_train, y_pred)\n",
    "print(f\"RMSE on train data: {rmse:.2f} minutes\")"
   ]
  },
  {
   "cell_type": "markdown",
   "id": "f1b0b910",
   "metadata": {},
   "source": [
    "## Q6. Evaluating the model\n",
    "\n",
    "Now let's apply this model to the validation dataset (February 2023).\n",
    "\n",
    "What's the RMSE on validation?\n",
    "\n",
    "- 3.81\n",
    "- 7.81 ✔\n",
    "- 11.81\n",
    "- 16.81"
   ]
  },
  {
   "cell_type": "code",
   "execution_count": 13,
   "id": "1f5cdf6b",
   "metadata": {},
   "outputs": [],
   "source": [
    "def process_trip_data(df):\n",
    "    # Calculate duration in minutes\n",
    "    df['Duration'] = (df['tpep_dropoff_datetime'] - df['tpep_pickup_datetime']).dt.total_seconds() / 60\n",
    "    \n",
    "    # Filter trips between 1-60 minutes\n",
    "    filtered = df[(df['Duration'] >= 1) & (df['Duration'] <= 60)].copy()\n",
    "    \n",
    "    # Convert location IDs to strings\n",
    "    filtered['PULocationID'] = filtered['PULocationID'].astype(str)\n",
    "    filtered['DOLocationID'] = filtered['DOLocationID'].astype(str)\n",
    "    \n",
    "    # Return the filtered dataframe to access both features and target\n",
    "    return filtered\n",
    "\n",
    "# Process February data\n",
    "yellow_tripdata_2023_02 = pd.read_parquet('data/yellow_tripdata_2023-02.parquet', engine='pyarrow')\n",
    "filtered_df_feb = process_trip_data(yellow_tripdata_2023_02)\n",
    "\n",
    "# Create feature dictionaries for DictVectorizer\n",
    "val_dicts = filtered_df_feb[['PULocationID', 'DOLocationID']].to_dict(orient='records')\n",
    "\n",
    "# Transform features and prepare target\n",
    "X_val = dv.transform(val_dicts)\n",
    "y_val = filtered_df_feb['Duration'].values"
   ]
  },
  {
   "cell_type": "code",
   "execution_count": 14,
   "id": "ce20cf0d",
   "metadata": {},
   "outputs": [
    {
     "name": "stdout",
     "output_type": "stream",
     "text": [
      "RMSE on validation data: 7.81 minutes\n"
     ]
    }
   ],
   "source": [
    "y_pred_val = lr.predict(X_val)\n",
    "rmse_val = root_mean_squared_error(y_val, y_pred_val)\n",
    "print(f\"RMSE on validation data: {rmse_val:.2f} minutes\")"
   ]
  }
 ],
 "metadata": {
  "kernelspec": {
   "display_name": ".venv",
   "language": "python",
   "name": "python3"
  },
  "language_info": {
   "codemirror_mode": {
    "name": "ipython",
    "version": 3
   },
   "file_extension": ".py",
   "mimetype": "text/x-python",
   "name": "python",
   "nbconvert_exporter": "python",
   "pygments_lexer": "ipython3",
   "version": "3.10.16"
  }
 },
 "nbformat": 4,
 "nbformat_minor": 5
}
