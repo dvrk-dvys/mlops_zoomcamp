{
 "cells": [
  {
   "cell_type": "markdown",
   "metadata": {},
   "source": [
    "## MLflow's Model Registry"
   ]
  },
  {
   "cell_type": "code",
   "metadata": {
    "ExecuteTime": {
     "end_time": "2025-07-10T06:42:54.015186Z",
     "start_time": "2025-07-10T06:42:53.612488Z"
    }
   },
   "source": [
    "from mlflow.tracking import MlflowClient\n",
    "\n",
    "from duration_notebook import categorical, y_pred\n",
    "from sklearn.metrics import mean_squared_error\n",
    "\n",
    "MLFLOW_TRACKING_URI = \"sqlite:///mlflow.db\""
   ],
   "outputs": [],
   "execution_count": 1
  },
  {
   "cell_type": "markdown",
   "metadata": {},
   "source": [
    "### Interacting with the MLflow tracking server\n",
    "\n",
    "The `MlflowClient` object allows us to interact with...\n",
    "- an MLflow Tracking Server that creates and manages experiments and runs.\n",
    "- an MLflow Registry Server that creates and manages registered models and model versions. \n",
    "\n",
    "To instantiate it we need to pass a tracking URI and/or a registry URI"
   ]
  },
  {
   "cell_type": "code",
   "metadata": {
    "ExecuteTime": {
     "end_time": "2025-07-10T06:43:24.108219Z",
     "start_time": "2025-07-10T06:43:23.576231Z"
    }
   },
   "source": [
    "client = MlflowClient(tracking_uri=MLFLOW_TRACKING_URI)\n",
    "\n",
    "experiments = client.search_experiments()\n",
    "for exp in experiments:\n",
    "    print(exp.experiment_id, exp.name, exp.artifact_location)"
   ],
   "outputs": [
    {
     "name": "stderr",
     "output_type": "stream",
     "text": [
      "2025/07/10 08:43:24 INFO mlflow.store.db.utils: Creating initial MLflow database tables...\n",
      "2025/07/10 08:43:24 INFO mlflow.store.db.utils: Updating database tables\n",
      "INFO  [alembic.runtime.migration] Context impl SQLiteImpl.\n",
      "INFO  [alembic.runtime.migration] Will assume non-transactional DDL.\n",
      "INFO  [alembic.runtime.migration] Context impl SQLiteImpl.\n",
      "INFO  [alembic.runtime.migration] Will assume non-transactional DDL.\n"
     ]
    },
    {
     "name": "stdout",
     "output_type": "stream",
     "text": [
      "1 nyc_taxi_trip_duration_experiment /Users/jordanharris/Code/mlops_zoomcamp/mlruns/1\n",
      "0 Default mlflow-artifacts:/0\n"
     ]
    }
   ],
   "execution_count": 2
  },
  {
   "cell_type": "code",
   "metadata": {
    "ExecuteTime": {
     "end_time": "2025-07-10T06:43:33.382016Z",
     "start_time": "2025-07-10T06:43:33.345262Z"
    }
   },
   "source": [
    "client.create_experiment(name=\"my-cool-experiment\")"
   ],
   "outputs": [
    {
     "data": {
      "text/plain": [
       "'2'"
      ]
     },
     "execution_count": 3,
     "metadata": {},
     "output_type": "execute_result"
    }
   ],
   "execution_count": 3
  },
  {
   "cell_type": "markdown",
   "metadata": {},
   "source": [
    "Let's check the latest versions for the experiment with id `1`..."
   ]
  },
  {
   "cell_type": "code",
   "metadata": {
    "ExecuteTime": {
     "end_time": "2025-07-10T06:49:10.203046Z",
     "start_time": "2025-07-10T06:49:09.992768Z"
    }
   },
   "source": [
    "from mlflow.entities import ViewType\n",
    "\n",
    "runs = client.search_runs(\n",
    "    experiment_ids='1',\n",
    "    filter_string=\"metrics.rmse < 7\",\n",
    "    run_view_type=ViewType.ACTIVE_ONLY,\n",
    "    max_results=5,\n",
    "    order_by=[\"metrics.rmse ASC\"]\n",
    ")"
   ],
   "outputs": [],
   "execution_count": 4
  },
  {
   "cell_type": "code",
   "metadata": {
    "ExecuteTime": {
     "end_time": "2025-07-10T06:49:43.398303Z",
     "start_time": "2025-07-10T06:49:43.382575Z"
    }
   },
   "source": [
    "for run in runs:\n",
    "    print(f\"run id: {run.info.run_id}, rmse: {run.data.metrics['rmse']:.4f}\")"
   ],
   "outputs": [
    {
     "name": "stdout",
     "output_type": "stream",
     "text": [
      "run id: f58671d315a64af2b4d319d2a00e86e0, rmse: 6.3074\n",
      "run id: a5c440126bb64bc4ade324f5f2640eba, rmse: 6.3080\n",
      "run id: cf8131686fa14689a51c35c2515985e6, rmse: 6.3113\n",
      "run id: a765a12581a845b1857a7ce3aff63c5c, rmse: 6.3115\n",
      "run id: eb8bbe100b3e42da9318f335c55e9ac2, rmse: 6.3140\n"
     ]
    }
   ],
   "execution_count": 5
  },
  {
   "cell_type": "code",
   "execution_count": null,
   "metadata": {},
   "outputs": [],
   "source": []
  },
  {
   "cell_type": "markdown",
   "metadata": {},
   "source": [
    "### Interacting with the Model Registry\n",
    "\n",
    "In this section We will use the `MlflowClient` instance to:\n",
    "\n",
    "1. Register a new version for the experiment `nyc-taxi-regressor`\n",
    "2. Retrieve the latests versions of the model `nyc-taxi-regressor` and check that a new version `4` was created.\n",
    "3. Transition the version `4` to \"Staging\" and adding annotations to it."
   ]
  },
  {
   "cell_type": "code",
   "metadata": {
    "ExecuteTime": {
     "end_time": "2025-07-10T06:53:36.360698Z",
     "start_time": "2025-07-10T06:53:36.306017Z"
    }
   },
   "source": [
    "import mlflow\n",
    "\n",
    "mlflow.set_tracking_uri(MLFLOW_TRACKING_URI)"
   ],
   "outputs": [],
   "execution_count": 6
  },
  {
   "cell_type": "code",
   "metadata": {
    "ExecuteTime": {
     "end_time": "2025-07-10T08:45:38.281551Z",
     "start_time": "2025-07-10T08:45:37.730553Z"
    }
   },
   "source": [
    "#run_id = \"b8904012c84343b5bf8ee72aa8f0f402\"\n",
    "my_run_id = \"096abcbedcbe4395a436ff10d8a7a28e\"\n",
    "model_uri = f\"runs:/{my_run_id}/xgboost_model\"\n",
    "mlflow.register_model(model_uri=model_uri, name=\"nyc-taxi-regressor\")"
   ],
   "outputs": [
    {
     "name": "stderr",
     "output_type": "stream",
     "text": [
      "Registered model 'nyc-taxi-regressor' already exists. Creating a new version of this model...\n",
      "2025/07/10 10:45:38 WARNING mlflow.tracking._model_registry.fluent: Run with id 096abcbedcbe4395a436ff10d8a7a28e has no artifacts at artifact path 'xgboost_model', registering model based on models:/m-e42b486c498f4f5db7b84785c8104a26 instead\n",
      "Created version '1' of model 'nyc-taxi-regressor'.\n"
     ]
    },
    {
     "data": {
      "text/plain": [
       "<ModelVersion: aliases=[], creation_timestamp=1752137138148, current_stage='None', deployment_job_state=None, description=None, last_updated_timestamp=1752137138148, metrics=None, model_id=None, name='nyc-taxi-regressor', params=None, run_id='096abcbedcbe4395a436ff10d8a7a28e', run_link=None, source='models:/m-e42b486c498f4f5db7b84785c8104a26', status='READY', status_message=None, tags={}, user_id=None, version=1>"
      ]
     },
     "execution_count": 12,
     "metadata": {},
     "output_type": "execute_result"
    }
   ],
   "execution_count": 12
  },
  {
   "cell_type": "code",
   "execution_count": null,
   "metadata": {},
   "outputs": [],
   "source": []
  },
  {
   "cell_type": "code",
   "metadata": {
    "ExecuteTime": {
     "end_time": "2025-07-10T08:50:28.249692Z",
     "start_time": "2025-07-10T08:50:28.036109Z"
    }
   },
   "source": [
    "model_name = \"nyc-taxi-regressor\"\n",
    "latest_versions = client.get_latest_versions(name=model_name)\n",
    "\n",
    "for version in latest_versions:\n",
    "    print(f\"version: {version.version}, stage: {version.current_stage}\")"
   ],
   "outputs": [
    {
     "name": "stdout",
     "output_type": "stream",
     "text": [
      "version: 1, stage: None\n"
     ]
    },
    {
     "name": "stderr",
     "output_type": "stream",
     "text": [
      "/var/folders/_r/_94p_t6s1933ynymfxl25_7h0000gn/T/ipykernel_72545/3243314508.py:2: FutureWarning: ``mlflow.tracking.client.MlflowClient.get_latest_versions`` is deprecated since 2.9.0. Model registry stages will be removed in a future major release. To learn more about the deprecation of model registry stages, see our migration guide here: https://mlflow.org/docs/latest/model-registry.html#migrating-from-stages\n",
      "  latest_versions = client.get_latest_versions(name=model_name)\n"
     ]
    }
   ],
   "execution_count": 13
  },
  {
   "cell_type": "code",
   "metadata": {
    "ExecuteTime": {
     "end_time": "2025-07-10T09:11:24.831965Z",
     "start_time": "2025-07-10T09:11:24.696396Z"
    }
   },
   "source": [
    "model_version = 1\n",
    "new_stage = \"Staging\"\n",
    "#client.transition_model_version_stage(\n",
    "#    name=model_name,\n",
    "#    version=model_version,\n",
    "#    stage=new_stage,\n",
    "#    archive_existing_versions=False\n",
    "#)\n",
    "\n",
    "\n",
    "client.set_registered_model_alias(name=model_name, alias=new_stage, version=model_version)\n"
   ],
   "outputs": [],
   "execution_count": 17
  },
  {
   "cell_type": "code",
   "metadata": {
    "ExecuteTime": {
     "end_time": "2025-07-10T09:11:26.462708Z",
     "start_time": "2025-07-10T09:11:26.423907Z"
    }
   },
   "source": [
    "from datetime import datetime\n",
    "\n",
    "date = datetime.today().date()\n",
    "client.update_model_version(\n",
    "    name=model_name,\n",
    "    version=model_version,\n",
    "    description=f\"The model version {model_version} was transitioned to {new_stage} on {date}\"\n",
    ")"
   ],
   "outputs": [
    {
     "data": {
      "text/plain": [
       "<ModelVersion: aliases=['Staging'], creation_timestamp=1752137138148, current_stage='None', deployment_job_state=None, description='The model version 1 was transitioned to Staging on 2025-07-10', last_updated_timestamp=1752138686452, metrics=None, model_id=None, name='nyc-taxi-regressor', params=None, run_id='096abcbedcbe4395a436ff10d8a7a28e', run_link=None, source='models:/m-e42b486c498f4f5db7b84785c8104a26', status='READY', status_message=None, tags={}, user_id=None, version=1>"
      ]
     },
     "execution_count": 18,
     "metadata": {},
     "output_type": "execute_result"
    }
   ],
   "execution_count": 18
  },
  {
   "cell_type": "code",
   "execution_count": null,
   "metadata": {},
   "outputs": [],
   "source": []
  },
  {
   "cell_type": "markdown",
   "metadata": {},
   "source": [
    "### Comparing versions and selecting the new \"Production\" model\n",
    "\n",
    "In the last section, we will retrieve models registered in the model registry and compare their performance on an unseen test set. The idea is to simulate the scenario in which a deployment engineer has to interact with the model registry to decide whether to update the model version that is in production or not.\n",
    "\n",
    "These are the steps:\n",
    "\n",
    "1. Load the test dataset, which corresponds to the NYC Green Taxi data from the month of March 2021.\n",
    "2. Download the `DictVectorizer` that was fitted using the training data and saved to MLflow as an artifact, and load it with pickle.\n",
    "3. Preprocess the test set using the `DictVectorizer` so we can properly feed the regressors.\n",
    "4. Make predictions on the test set using the model versions that are currently in the \"Staging\" and \"Production\" stages, and compare their performance.\n",
    "5. Based on the results, update the \"Production\" model version accordingly.\n",
    "\n",
    "\n",
    "**Note: the model registry doesn't actually deploy the model to production when you transition a model to the \"Production\" stage, it just assign a label to that model version. You should complement the registry with some CI/CD code that does the actual deployment.**"
   ]
  },
  {
   "cell_type": "code",
   "metadata": {
    "ExecuteTime": {
     "end_time": "2025-07-10T09:35:23.868973Z",
     "start_time": "2025-07-10T09:35:23.863498Z"
    }
   },
   "source": [
    "import pandas as pd\n",
    "import numpy as np\n",
    "from sklearn.metrics import r2_score, mean_squared_error, mean_absolute_error\n"
   ],
   "outputs": [],
   "execution_count": 50
  },
  {
   "cell_type": "code",
   "metadata": {
    "ExecuteTime": {
     "end_time": "2025-07-10T09:33:30.948674Z",
     "start_time": "2025-07-10T09:33:30.906612Z"
    }
   },
   "source": [
    "def read_dataframe(filename):\n",
    "    df = pd.read_parquet(filename)\n",
    "    df['duration'] = pd.to_datetime(df.lpep_dropoff_datetime) - pd.to_datetime(df.lpep_pickup_datetime)\n",
    "    df.duration = df['duration'].apply(lambda x: x.total_seconds() / 60)\n",
    "    df = df[(df.duration >= 1) & (df.duration <= 60)]\n",
    "    categorical = ['PULocationID', 'DOLocationID']\n",
    "    #numerical = ['trip_distance']\n",
    "    df[categorical] = df[categorical].astype(str)\n",
    "\n",
    "    return df\n",
    "\n",
    "def preprocess(df, dv):\n",
    "    df['PU_DO'] = df['PULocationID'].astype(str) + '_' + df['DOLocationID'].astype(str)\n",
    "    categorical = ['PU_DO']\n",
    "    numerical = ['trip_distance']\n",
    "    train_dicts = df[categorical + numerical].to_dict(orient='records')\n",
    "    return dv.transform(train_dicts)\n",
    "\n",
    "def test_model(name, alias, X_test, y_test):\n",
    "    model = mlflow.pyfunc.load_model(f\"models:/{name}@{alias}\")\n",
    "    y_pred = model.predict(X_test)\n",
    "    mse = mean_squared_error(y_test, y_pred)\n",
    "    return {\"rsme\": np.sqrt(mse)}"
   ],
   "outputs": [],
   "execution_count": 46
  },
  {
   "cell_type": "code",
   "metadata": {
    "ExecuteTime": {
     "end_time": "2025-07-10T09:23:00.580906Z",
     "start_time": "2025-07-10T09:23:00.154250Z"
    }
   },
   "source": [
    "#df = read_dataframe(\"data/green_tripdata_2021-03.csv\")\n",
    "df = pd.read_parquet(\"data/green_tripdata_2021-03.parquet\")\n"
   ],
   "outputs": [],
   "execution_count": 23
  },
  {
   "cell_type": "code",
   "metadata": {
    "ExecuteTime": {
     "end_time": "2025-07-10T09:23:22.552590Z",
     "start_time": "2025-07-10T09:23:22.384224Z"
    }
   },
   "source": "client.download_artifacts(run_id=my_run_id, path='preprocessor', dst_path='module_2')",
   "outputs": [
    {
     "data": {
      "text/plain": [
       "Downloading artifacts:   0%|          | 0/1 [00:00<?, ?it/s]"
      ],
      "application/vnd.jupyter.widget-view+json": {
       "version_major": 2,
       "version_minor": 0,
       "model_id": "2650fd5f4df943cb8baa4f40705ece27"
      }
     },
     "metadata": {},
     "output_type": "display_data"
    },
    {
     "data": {
      "text/plain": [
       "'/Users/jordanharris/Code/mlops_zoomcamp/module_2/preprocessor'"
      ]
     },
     "execution_count": 25,
     "metadata": {},
     "output_type": "execute_result"
    }
   ],
   "execution_count": 25
  },
  {
   "cell_type": "code",
   "metadata": {
    "ExecuteTime": {
     "end_time": "2025-07-10T09:25:53.654305Z",
     "start_time": "2025-07-10T09:25:53.611196Z"
    }
   },
   "source": [
    "import pickle\n",
    "\n",
    "with open(\"models/preprocessor/preprocessor.b\", \"rb\") as f_in:\n",
    "    dv = pickle.load(f_in)"
   ],
   "outputs": [],
   "execution_count": 29
  },
  {
   "cell_type": "code",
   "metadata": {
    "ExecuteTime": {
     "end_time": "2025-07-10T09:26:22.498143Z",
     "start_time": "2025-07-10T09:26:22.211994Z"
    }
   },
   "source": [
    "X_test = preprocess(df, dv)"
   ],
   "outputs": [],
   "execution_count": 32
  },
  {
   "cell_type": "code",
   "metadata": {
    "ExecuteTime": {
     "end_time": "2025-07-10T09:27:38.786446Z",
     "start_time": "2025-07-10T09:27:38.562562Z"
    }
   },
   "source": [
    "df['lpep_pickup_datetime'] = pd.to_datetime(df['lpep_pickup_datetime'])\n",
    "df['lpep_dropoff_datetime'] = pd.to_datetime(df['lpep_dropoff_datetime'])\n",
    "df['duration'] = (df['lpep_dropoff_datetime'] - df['lpep_pickup_datetime']).dt.total_seconds() / 60\n",
    "\n",
    "target = \"duration\"\n",
    "y_test = df[target].values"
   ],
   "outputs": [],
   "execution_count": 35
  },
  {
   "cell_type": "code",
   "metadata": {
    "ExecuteTime": {
     "end_time": "2025-07-10T09:37:28.197178Z",
     "start_time": "2025-07-10T09:37:28.053772Z"
    }
   },
   "source": [
    "client.set_registered_model_alias(\n",
    "    name=\"nyc-taxi-regressor\",\n",
    "    alias=\"production\",\n",
    "    version=1\n",
    ")"
   ],
   "outputs": [],
   "execution_count": 54
  },
  {
   "cell_type": "code",
   "metadata": {
    "ExecuteTime": {
     "end_time": "2025-07-10T09:35:29.273567Z",
     "start_time": "2025-07-10T09:35:26.801271Z"
    }
   },
   "source": "%time test_model(name=model_name, alias=\"staging\", X_test=X_test, y_test=y_test)",
   "outputs": [
    {
     "name": "stdout",
     "output_type": "stream",
     "text": [
      "CPU times: user 14.8 s, sys: 177 ms, total: 15 s\n",
      "Wall time: 2.46 s\n"
     ]
    },
    {
     "data": {
      "text/plain": [
       "{'rsme': np.float64(54.10256898844454)}"
      ]
     },
     "execution_count": 51,
     "metadata": {},
     "output_type": "execute_result"
    }
   ],
   "execution_count": 51
  },
  {
   "cell_type": "code",
   "metadata": {
    "ExecuteTime": {
     "end_time": "2025-07-10T09:37:42.153198Z",
     "start_time": "2025-07-10T09:37:39.497950Z"
    }
   },
   "source": "%time test_model(name=model_name, alias=\"production\", X_test=X_test, y_test=y_test)",
   "outputs": [
    {
     "name": "stdout",
     "output_type": "stream",
     "text": [
      "CPU times: user 14.5 s, sys: 197 ms, total: 14.7 s\n",
      "Wall time: 2.65 s\n"
     ]
    },
    {
     "data": {
      "text/plain": [
       "{'rsme': np.float64(54.10256898844454)}"
      ]
     },
     "execution_count": 56,
     "metadata": {},
     "output_type": "execute_result"
    }
   ],
   "execution_count": 56
  },
  {
   "cell_type": "code",
   "metadata": {
    "ExecuteTime": {
     "end_time": "2025-07-10T09:37:45.362308Z",
     "start_time": "2025-07-10T09:37:45.326998Z"
    }
   },
   "source": [
    "client.transition_model_version_stage(\n",
    "    name=model_name,\n",
    "    version=1,\n",
    "    stage=\"Production\",\n",
    "    archive_existing_versions=True\n",
    ")"
   ],
   "outputs": [
    {
     "name": "stderr",
     "output_type": "stream",
     "text": [
      "/var/folders/_r/_94p_t6s1933ynymfxl25_7h0000gn/T/ipykernel_72545/1470871855.py:1: FutureWarning: ``mlflow.tracking.client.MlflowClient.transition_model_version_stage`` is deprecated since 2.9.0. Model registry stages will be removed in a future major release. To learn more about the deprecation of model registry stages, see our migration guide here: https://mlflow.org/docs/latest/model-registry.html#migrating-from-stages\n",
      "  client.transition_model_version_stage(\n"
     ]
    },
    {
     "data": {
      "text/plain": [
       "<ModelVersion: aliases=['production', 'staging'], creation_timestamp=1752137138148, current_stage='Production', deployment_job_state=None, description='The model version 1 was transitioned to Staging on 2025-07-10', last_updated_timestamp=1752140265351, metrics=None, model_id=None, name='nyc-taxi-regressor', params=None, run_id='096abcbedcbe4395a436ff10d8a7a28e', run_link=None, source='models:/m-e42b486c498f4f5db7b84785c8104a26', status='READY', status_message=None, tags={}, user_id=None, version=1>"
      ]
     },
     "execution_count": 57,
     "metadata": {},
     "output_type": "execute_result"
    }
   ],
   "execution_count": 57
  },
  {
   "cell_type": "code",
   "execution_count": null,
   "metadata": {},
   "outputs": [],
   "source": []
  },
  {
   "cell_type": "code",
   "execution_count": null,
   "metadata": {},
   "outputs": [],
   "source": []
  }
 ],
 "metadata": {
  "interpreter": {
   "hash": "0848c9d6c7d415ad6c477ff7ff8e98694d1a4aa96d0deee89244642e6b630036"
  },
  "kernelspec": {
   "display_name": "Python 3.9.12 ('exp-tracking-env')",
   "language": "python",
   "name": "python3"
  },
  "language_info": {
   "codemirror_mode": {
    "name": "ipython",
    "version": 3
   },
   "file_extension": ".py",
   "mimetype": "text/x-python",
   "name": "python",
   "nbconvert_exporter": "python",
   "pygments_lexer": "ipython3",
   "version": "3.9.12"
  },
  "orig_nbformat": 4
 },
 "nbformat": 4,
 "nbformat_minor": 2
}
