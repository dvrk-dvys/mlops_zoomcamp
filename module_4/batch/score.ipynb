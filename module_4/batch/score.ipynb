{
 "cells": [
  {
   "cell_type": "code",
   "id": "2e25cf66",
   "metadata": {
    "ExecuteTime": {
     "end_time": "2025-07-15T08:54:03.360481Z",
     "start_time": "2025-07-15T08:54:03.334142Z"
    }
   },
   "source": [
    "import pickle\n",
    "\n",
    "import pandas as pd\n",
    "import numpy as np\n",
    "import os\n",
    "from dotenv import load_dotenv\n",
    "import mlflow\n",
    "from sklearn.feature_extraction import DictVectorizer\n",
    "from sklearn.ensemble import RandomForestRegressor\n",
    "from sklearn.metrics import r2_score, mean_squared_error, mean_absolute_error\n",
    "from sklearn.pipeline import make_pipeline\n",
    "\n",
    "import uuid\n",
    "from azure.storage.blob import BlobServiceClient\n",
    "import pickle\n",
    "\n",
    "load_dotenv()\n"
   ],
   "outputs": [
    {
     "data": {
      "text/plain": [
       "True"
      ]
     },
     "execution_count": 13,
     "metadata": {},
     "output_type": "execute_result"
    }
   ],
   "execution_count": 13
  },
  {
   "metadata": {
    "ExecuteTime": {
     "end_time": "2025-07-15T08:54:03.410195Z",
     "start_time": "2025-07-15T08:54:03.401666Z"
    }
   },
   "cell_type": "code",
   "source": [
    "year = 2021\n",
    "month = 3\n",
    "taxi_type = 'green'\n",
    "\n",
    "input_file = f'../../data/{taxi_type}_tripdata_{year:04d}-{month:02d}.parquet'\n",
    "output_file = f'output/{taxi_type}/{year:04d}-{month:02d}.parquet'\n",
    "\n",
    "\n",
    "RUN_ID = os.getenv('RUN_ID', '36d1e16891874e2092cc2b1d74ede494')"
   ],
   "id": "de50a2346bb5e027",
   "outputs": [],
   "execution_count": 14
  },
  {
   "metadata": {
    "ExecuteTime": {
     "end_time": "2025-07-15T08:54:03.495586Z",
     "start_time": "2025-07-15T08:54:03.433332Z"
    }
   },
   "cell_type": "code",
   "source": [
    "# Get connection string from environment\n",
    "connection_string = os.getenv(\"AZURE_STORAGE_CONNECTION_STRING\")\n",
    "if not connection_string:\n",
    "    raise ValueError(\"AZURE_STORAGE_CONNECTION_STRING not found in environment variables\")\n",
    "\n",
    "os.environ[\"AZURE_STORAGE_CONNECTION_STRING\"] = connection_string\n",
    "\n",
    "# Connect to MLflow\n",
    "mlflow.set_tracking_uri(\"http://127.0.0.1:5001\")\n",
    "mlflow.set_experiment(\"green-taxi-duration-azure\")\n",
    "\n",
    "print(\"✅ MLflow with Azure Blob Storage ready!\")"
   ],
   "id": "255615c4d0d41db9",
   "outputs": [
    {
     "name": "stdout",
     "output_type": "stream",
     "text": [
      "✅ MLflow with Azure Blob Storage ready!\n"
     ]
    }
   ],
   "execution_count": 15
  },
  {
   "metadata": {
    "ExecuteTime": {
     "end_time": "2025-07-15T08:54:03.519348Z",
     "start_time": "2025-07-15T08:54:03.515145Z"
    }
   },
   "cell_type": "code",
   "source": [
    "\n",
    "#mlflow.set_tracking_uri(\"http://127.0.0.1:5001\")\n",
    "#mlflow.set_experiment(\"green-taxi-duration-azure\")\n",
    "\n",
    "#mlflow server \\\n",
    "#  --backend-store-uri=sqlite:///mlflow.db \\\n",
    "#  --default-artifact-root=wasbs://mlflow-artifacts@lifebonderblobml.blob.core.windows.net/ \\\n",
    "#  --host 0.0.0.0 \\\n",
    "#  --port 5001\n",
    "\n",
    "#RUN_ID = 'c2b262c68c094ee68d9128dd0f272f75'\n",
    "#model = mlflow.sklearn.load_model(f\"runs:/{RUN_ID}/random_forest_taxi_duration_model\")\n"
   ],
   "id": "506bec39",
   "outputs": [],
   "execution_count": 16
  },
  {
   "metadata": {
    "ExecuteTime": {
     "end_time": "2025-07-15T08:54:03.558606Z",
     "start_time": "2025-07-15T08:54:03.549183Z"
    }
   },
   "cell_type": "code",
   "source": [
    "def generate_uuids(n):\n",
    "    ride_ids = []\n",
    "    for i in range(n):\n",
    "        ride_ids.append(str(uuid.uuid4()))\n",
    "    return ride_ids\n",
    "\n",
    "def read_dataframe(filename: str):\n",
    "    df = pd.read_parquet(filename)\n",
    "\n",
    "    df['duration'] = df.lpep_dropoff_datetime - df.lpep_pickup_datetime\n",
    "    df.duration = df.duration.dt.total_seconds() / 60\n",
    "    df = df[(df.duration >= 1) & (df.duration <= 60)]\n",
    "\n",
    "    df['ride_id'] = generate_uuids(len(df))\n",
    "\n",
    "    return df\n",
    "\n",
    "def prepare_dictionaries(df: pd.DataFrame):\n",
    "    categorical = ['PULocationID', 'DOLocationID']\n",
    "    df[categorical] = df[categorical].astype(str)\n",
    "\n",
    "    df['PU_DO'] = df['PULocationID'] + '_' + df['DOLocationID']\n",
    "\n",
    "    categorical = ['PU_DO']\n",
    "    numerical = ['trip_distance']\n",
    "    dicts = df[categorical + numerical].to_dict(orient='records')\n",
    "    return dicts\n"
   ],
   "id": "e76be923eef61841",
   "outputs": [],
   "execution_count": 17
  },
  {
   "metadata": {
    "ExecuteTime": {
     "end_time": "2025-07-15T08:54:03.577739Z",
     "start_time": "2025-07-15T08:54:03.570697Z"
    }
   },
   "cell_type": "code",
   "source": [
    "def load_model(run_id):\n",
    "    blob_service_client = BlobServiceClient.from_connection_string(connection_string)\n",
    "\n",
    "    container_name = \"mlflow-artifacts\"\n",
    "    blob_path = f\"5/models/m-{run_id}/artifacts/model.pkl\"\n",
    "\n",
    "    blob_client = blob_service_client.get_blob_client(container=container_name, blob=blob_path)\n",
    "    model_data = blob_client.download_blob().readall()\n",
    "    model = pickle.loads(model_data)\n",
    "    return model\n",
    "\n",
    "\n",
    "def apply_model(input_file, run_id, output_file):\n",
    "\n",
    "    df = read_dataframe(input_file)\n",
    "    dicts = prepare_dictionaries(df)\n",
    "\n",
    "\n",
    "    model = load_model(run_id)\n",
    "    y_pred = model.predict(dicts)\n",
    "\n",
    "    df_result = pd.DataFrame()\n",
    "    df_result['ride_id'] = df['ride_id']\n",
    "    df_result['lpep_pickup_datetime'] = df['lpep_pickup_datetime']\n",
    "    df_result['PULocationID'] = df['PULocationID']\n",
    "    df_result['DOLocationID'] = df['DOLocationID']\n",
    "    df_result['actual_duration'] = df['duration']\n",
    "    df_result['predicted_duration'] = y_pred\n",
    "    df_result['diff'] = df_result['actual_duration'] - df_result['predicted_duration']\n",
    "    df_result['model_version'] = run_id\n",
    "\n",
    "    df_result.to_parquet(output_file, index=False)"
   ],
   "id": "6246164907298332",
   "outputs": [],
   "execution_count": 18
  },
  {
   "metadata": {
    "ExecuteTime": {
     "end_time": "2025-07-15T08:54:07.820551Z",
     "start_time": "2025-07-15T08:54:03.587694Z"
    }
   },
   "cell_type": "code",
   "source": [
    "os.makedirs(os.path.dirname(output_file), exist_ok=True)\n",
    "\n",
    "apply_model(input_file=input_file, run_id=RUN_ID, output_file=output_file)"
   ],
   "id": "b58662c37f1022ac",
   "outputs": [],
   "execution_count": 19
  },
  {
   "metadata": {
    "ExecuteTime": {
     "end_time": "2025-07-15T08:54:08.099167Z",
     "start_time": "2025-07-15T08:54:07.851502Z"
    }
   },
   "cell_type": "code",
   "source": "!ls output/green/",
   "id": "677c1369e0181073",
   "outputs": [
    {
     "name": "stdout",
     "output_type": "stream",
     "text": [
      "2021-02.parquet 2021-03.parquet\r\n"
     ]
    }
   ],
   "execution_count": 20
  },
  {
   "metadata": {},
   "cell_type": "code",
   "outputs": [],
   "execution_count": null,
   "source": "#❯ jupyter nbconvert --to script score.ipynb",
   "id": "9b6a5f0803091e93"
  }
 ],
 "metadata": {
  "kernelspec": {
   "display_name": "Python 3 (ipykernel)",
   "language": "python",
   "name": "python3"
  },
  "language_info": {
   "codemirror_mode": {
    "name": "ipython",
    "version": 3
   },
   "file_extension": ".py",
   "mimetype": "text/x-python",
   "name": "python",
   "nbconvert_exporter": "python",
   "pygments_lexer": "ipython3",
   "version": "3.9.7"
  }
 },
 "nbformat": 4,
 "nbformat_minor": 5
}
